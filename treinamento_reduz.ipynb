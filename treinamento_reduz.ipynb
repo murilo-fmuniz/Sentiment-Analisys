{
 "cells": [
  {
   "cell_type": "code",
   "execution_count": 70,
   "id": "4a7419a3",
   "metadata": {},
   "outputs": [],
   "source": [
    "import pandas as pd"
   ]
  },
  {
   "cell_type": "code",
   "execution_count": 71,
   "id": "5476a67a",
   "metadata": {},
   "outputs": [
    {
     "name": "stdout",
     "output_type": "stream",
     "text": [
      "Número de linhas antes da remoção de NaN: 1000\n",
      "Número de linhas após a remoção de NaN: 985\n"
     ]
    },
    {
     "data": {
      "text/html": [
       "<div>\n",
       "<style scoped>\n",
       "    .dataframe tbody tr th:only-of-type {\n",
       "        vertical-align: middle;\n",
       "    }\n",
       "\n",
       "    .dataframe tbody tr th {\n",
       "        vertical-align: top;\n",
       "    }\n",
       "\n",
       "    .dataframe thead th {\n",
       "        text-align: right;\n",
       "    }\n",
       "</style>\n",
       "<table border=\"1\" class=\"dataframe\">\n",
       "  <thead>\n",
       "    <tr style=\"text-align: right;\">\n",
       "      <th></th>\n",
       "      <th>texto_limpo</th>\n",
       "      <th>sentimento</th>\n",
       "      <th>Query</th>\n",
       "    </tr>\n",
       "  </thead>\n",
       "  <tbody>\n",
       "    <tr>\n",
       "      <th>0</th>\n",
       "      <td>Ok, estou ansioso.</td>\n",
       "      <td>Positivo</td>\n",
       "      <td>Palmeiras</td>\n",
       "    </tr>\n",
       "    <tr>\n",
       "      <th>1</th>\n",
       "      <td>que privilégio ter visto o endrick jogar no pa...</td>\n",
       "      <td>Positivo</td>\n",
       "      <td>Palmeiras</td>\n",
       "    </tr>\n",
       "    <tr>\n",
       "      <th>2</th>\n",
       "      <td>Meu trio</td>\n",
       "      <td>Positivo</td>\n",
       "      <td>Palmeiras</td>\n",
       "    </tr>\n",
       "    <tr>\n",
       "      <th>3</th>\n",
       "      <td>A torcida do Palmeiras está presente em qualqu...</td>\n",
       "      <td>Neutro</td>\n",
       "      <td>Palmeiras</td>\n",
       "    </tr>\n",
       "    <tr>\n",
       "      <th>4</th>\n",
       "      <td>Torcedores do porto no Instagram o Palmeiras n...</td>\n",
       "      <td>Neutro</td>\n",
       "      <td>Palmeiras</td>\n",
       "    </tr>\n",
       "  </tbody>\n",
       "</table>\n",
       "</div>"
      ],
      "text/plain": [
       "                                         texto_limpo sentimento      Query\n",
       "0                                 Ok, estou ansioso.   Positivo  Palmeiras\n",
       "1  que privilégio ter visto o endrick jogar no pa...   Positivo  Palmeiras\n",
       "2                                           Meu trio   Positivo  Palmeiras\n",
       "3  A torcida do Palmeiras está presente em qualqu...     Neutro  Palmeiras\n",
       "4  Torcedores do porto no Instagram o Palmeiras n...     Neutro  Palmeiras"
      ]
     },
     "execution_count": 71,
     "metadata": {},
     "output_type": "execute_result"
    }
   ],
   "source": [
    "import pandas as pd\n",
    "\n",
    "df = pd.read_csv('tweets_para_treinamento.csv')\n",
    "\n",
    "# --- NOVO: Tratamento de NaN diretamente no notebook de treinamento ---\n",
    "print(f\"Número de linhas antes da remoção de NaN: {len(df)}\")\n",
    "\n",
    "# Remove linhas onde 'texto_limpo' OU 'sentimento' são NaN\n",
    "# Essas são as colunas que você usa para x e y\n",
    "df.dropna(subset=['texto_limpo', 'sentimento'], inplace=True) \n",
    "\n",
    "print(f\"Número de linhas após a remoção de NaN: {len(df)}\")\n",
    "# -------------------------------------------------------------------\n",
    "\n",
    "df.head()"
   ]
  },
  {
   "cell_type": "code",
   "execution_count": 72,
   "id": "b2aadb27",
   "metadata": {},
   "outputs": [
    {
     "data": {
      "text/html": [
       "<div>\n",
       "<style scoped>\n",
       "    .dataframe tbody tr th:only-of-type {\n",
       "        vertical-align: middle;\n",
       "    }\n",
       "\n",
       "    .dataframe tbody tr th {\n",
       "        vertical-align: top;\n",
       "    }\n",
       "\n",
       "    .dataframe thead th {\n",
       "        text-align: right;\n",
       "    }\n",
       "</style>\n",
       "<table border=\"1\" class=\"dataframe\">\n",
       "  <thead>\n",
       "    <tr style=\"text-align: right;\">\n",
       "      <th></th>\n",
       "      <th>texto_limpo</th>\n",
       "      <th>sentimento</th>\n",
       "    </tr>\n",
       "  </thead>\n",
       "  <tbody>\n",
       "    <tr>\n",
       "      <th>0</th>\n",
       "      <td>Ok, estou ansioso.</td>\n",
       "      <td>Positivo</td>\n",
       "    </tr>\n",
       "    <tr>\n",
       "      <th>1</th>\n",
       "      <td>que privilégio ter visto o endrick jogar no pa...</td>\n",
       "      <td>Positivo</td>\n",
       "    </tr>\n",
       "    <tr>\n",
       "      <th>2</th>\n",
       "      <td>Meu trio</td>\n",
       "      <td>Positivo</td>\n",
       "    </tr>\n",
       "    <tr>\n",
       "      <th>3</th>\n",
       "      <td>A torcida do Palmeiras está presente em qualqu...</td>\n",
       "      <td>Neutro</td>\n",
       "    </tr>\n",
       "    <tr>\n",
       "      <th>4</th>\n",
       "      <td>Torcedores do porto no Instagram o Palmeiras n...</td>\n",
       "      <td>Neutro</td>\n",
       "    </tr>\n",
       "  </tbody>\n",
       "</table>\n",
       "</div>"
      ],
      "text/plain": [
       "                                         texto_limpo sentimento\n",
       "0                                 Ok, estou ansioso.   Positivo\n",
       "1  que privilégio ter visto o endrick jogar no pa...   Positivo\n",
       "2                                           Meu trio   Positivo\n",
       "3  A torcida do Palmeiras está presente em qualqu...     Neutro\n",
       "4  Torcedores do porto no Instagram o Palmeiras n...     Neutro"
      ]
     },
     "execution_count": 72,
     "metadata": {},
     "output_type": "execute_result"
    }
   ],
   "source": [
    "tweet_df = df[['texto_limpo', 'sentimento']]\n",
    "tweet_df.head()"
   ]
  },
  {
   "cell_type": "code",
   "execution_count": 73,
   "id": "2caa5127",
   "metadata": {},
   "outputs": [
    {
     "data": {
      "text/plain": [
       "sentimento\n",
       "Neutro      561\n",
       "Positivo    228\n",
       "Negativo    196\n",
       "Name: count, dtype: int64"
      ]
     },
     "execution_count": 73,
     "metadata": {},
     "output_type": "execute_result"
    }
   ],
   "source": [
    "tweet_df['sentimento'].value_counts()"
   ]
  },
  {
   "cell_type": "code",
   "execution_count": 74,
   "id": "e1d7a488",
   "metadata": {},
   "outputs": [
    {
     "name": "stderr",
     "output_type": "stream",
     "text": [
      "C:\\Users\\Murilo Fontana Muniz\\AppData\\Local\\Temp\\ipykernel_23516\\3916151581.py:4: FutureWarning: \n",
      "\n",
      "Passing `palette` without assigning `hue` is deprecated and will be removed in v0.14.0. Assign the `x` variable to `hue` and set `legend=False` for the same effect.\n",
      "\n",
      "  sns.countplot(x=tweet_df.sentimento, palette='Set1')\n"
     ]
    },
    {
     "data": {
      "image/png": "[encoded data removed]",
      "text/plain": [
       "<Figure size 640x480 with 1 Axes>"
      ]
     },
     "metadata": {},
     "output_type": "display_data"
    }
   ],
   "source": [
    "import matplotlib.pyplot as plt\n",
    "import seaborn as sns\n",
    "\n",
    "sns.countplot(x=tweet_df.sentimento, palette='Set1')\n",
    "plt.xlabel('classe')\n",
    "plt.ylabel('tweets')\n",
    "plt.show()"
   ]
  },
  {
   "cell_type": "markdown",
   "id": "5db40268",
   "metadata": {},
   "source": [
    "Lematização"
   ]
  },
  {
   "cell_type": "code",
   "execution_count": 75,
   "id": "6a39f54f",
   "metadata": {},
   "outputs": [
    {
     "name": "stdout",
     "output_type": "stream",
     "text": [
      "Requirement already satisfied: pip in d:\\docs\\faculdade\\7o periodo\\si\\projeto\\cod\\venv\\lib\\site-packages (25.0.1)\n",
      "Collecting pip\n",
      "  Using cached pip-25.1.1-py3-none-any.whl.metadata (3.6 kB)\n",
      "Note: you may need to restart the kernel to use updated packages.\n"
     ]
    },
    {
     "name": "stderr",
     "output_type": "stream",
     "text": [
      "ERROR: Could not find a version that satisfies the requirement steuptools (from versions: none)\n",
      "\n",
      "[notice] A new release of pip is available: 25.0.1 -> 25.1.1\n",
      "[notice] To update, run: python.exe -m pip install --upgrade pip\n",
      "ERROR: No matching distribution found for steuptools\n"
     ]
    },
    {
     "name": "stdout",
     "output_type": "stream",
     "text": [
      "Requirement already satisfied: spacy in d:\\docs\\faculdade\\7o periodo\\si\\projeto\\cod\\venv\\lib\\site-packages (3.8.7)\n",
      "Requirement already satisfied: spacy-legacy<3.1.0,>=3.0.11 in d:\\docs\\faculdade\\7o periodo\\si\\projeto\\cod\\venv\\lib\\site-packages (from spacy) (3.0.12)\n",
      "Requirement already satisfied: spacy-loggers<2.0.0,>=1.0.0 in d:\\docs\\faculdade\\7o periodo\\si\\projeto\\cod\\venv\\lib\\site-packages (from spacy) (1.0.5)\n",
      "Requirement already satisfied: murmurhash<1.1.0,>=0.28.0 in d:\\docs\\faculdade\\7o periodo\\si\\projeto\\cod\\venv\\lib\\site-packages (from spacy) (1.0.13)\n",
      "Requirement already satisfied: cymem<2.1.0,>=2.0.2 in d:\\docs\\faculdade\\7o periodo\\si\\projeto\\cod\\venv\\lib\\site-packages (from spacy) (2.0.11)\n",
      "Requirement already satisfied: preshed<3.1.0,>=3.0.2 in d:\\docs\\faculdade\\7o periodo\\si\\projeto\\cod\\venv\\lib\\site-packages (from spacy) (3.0.10)\n",
      "Requirement already satisfied: thinc<8.4.0,>=8.3.4 in d:\\docs\\faculdade\\7o periodo\\si\\projeto\\cod\\venv\\lib\\site-packages (from spacy) (8.3.6)\n",
      "Requirement already satisfied: wasabi<1.2.0,>=0.9.1 in d:\\docs\\faculdade\\7o periodo\\si\\projeto\\cod\\venv\\lib\\site-packages (from spacy) (1.1.3)\n",
      "Requirement already satisfied: srsly<3.0.0,>=2.4.3 in d:\\docs\\faculdade\\7o periodo\\si\\projeto\\cod\\venv\\lib\\site-packages (from spacy) (2.5.1)\n",
      "Requirement already satisfied: catalogue<2.1.0,>=2.0.6 in d:\\docs\\faculdade\\7o periodo\\si\\projeto\\cod\\venv\\lib\\site-packages (from spacy) (2.0.10)\n",
      "Requirement already satisfied: weasel<0.5.0,>=0.1.0 in d:\\docs\\faculdade\\7o periodo\\si\\projeto\\cod\\venv\\lib\\site-packages (from spacy) (0.4.1)\n",
      "Requirement already satisfied: typer<1.0.0,>=0.3.0 in d:\\docs\\faculdade\\7o periodo\\si\\projeto\\cod\\venv\\lib\\site-packages (from spacy) (0.16.0)\n",
      "Requirement already satisfied: tqdm<5.0.0,>=4.38.0 in d:\\docs\\faculdade\\7o periodo\\si\\projeto\\cod\\venv\\lib\\site-packages (from spacy) (4.67.1)\n",
      "Requirement already satisfied: numpy>=1.19.0 in d:\\docs\\faculdade\\7o periodo\\si\\projeto\\cod\\venv\\lib\\site-packages (from spacy) (2.3.1)\n",
      "Requirement already satisfied: requests<3.0.0,>=2.13.0 in d:\\docs\\faculdade\\7o periodo\\si\\projeto\\cod\\venv\\lib\\site-packages (from spacy) (2.32.4)\n",
      "Requirement already satisfied: pydantic!=1.8,!=1.8.1,<3.0.0,>=1.7.4 in d:\\docs\\faculdade\\7o periodo\\si\\projeto\\cod\\venv\\lib\\site-packages (from spacy) (2.11.7)\n",
      "Requirement already satisfied: jinja2 in d:\\docs\\faculdade\\7o periodo\\si\\projeto\\cod\\venv\\lib\\site-packages (from spacy) (3.1.6)\n",
      "Requirement already satisfied: setuptools in d:\\docs\\faculdade\\7o periodo\\si\\projeto\\cod\\venv\\lib\\site-packages (from spacy) (80.9.0)\n",
      "Requirement already satisfied: packaging>=20.0 in d:\\docs\\faculdade\\7o periodo\\si\\projeto\\cod\\venv\\lib\\site-packages (from spacy) (25.0)\n",
      "Requirement already satisfied: langcodes<4.0.0,>=3.2.0 in d:\\docs\\faculdade\\7o periodo\\si\\projeto\\cod\\venv\\lib\\site-packages (from spacy) (3.5.0)\n",
      "Requirement already satisfied: language-data>=1.2 in d:\\docs\\faculdade\\7o periodo\\si\\projeto\\cod\\venv\\lib\\site-packages (from langcodes<4.0.0,>=3.2.0->spacy) (1.3.0)\n",
      "Requirement already satisfied: annotated-types>=0.6.0 in d:\\docs\\faculdade\\7o periodo\\si\\projeto\\cod\\venv\\lib\\site-packages (from pydantic!=1.8,!=1.8.1,<3.0.0,>=1.7.4->spacy) (0.7.0)\n",
      "Requirement already satisfied: pydantic-core==2.33.2 in d:\\docs\\faculdade\\7o periodo\\si\\projeto\\cod\\venv\\lib\\site-packages (from pydantic!=1.8,!=1.8.1,<3.0.0,>=1.7.4->spacy) (2.33.2)\n",
      "Requirement already satisfied: typing-extensions>=4.12.2 in d:\\docs\\faculdade\\7o periodo\\si\\projeto\\cod\\venv\\lib\\site-packages (from pydantic!=1.8,!=1.8.1,<3.0.0,>=1.7.4->spacy) (4.14.0)\n",
      "Requirement already satisfied: typing-inspection>=0.4.0 in d:\\docs\\faculdade\\7o periodo\\si\\projeto\\cod\\venv\\lib\\site-packages (from pydantic!=1.8,!=1.8.1,<3.0.0,>=1.7.4->spacy) (0.4.1)\n",
      "Requirement already satisfied: charset_normalizer<4,>=2 in d:\\docs\\faculdade\\7o periodo\\si\\projeto\\cod\\venv\\lib\\site-packages (from requests<3.0.0,>=2.13.0->spacy) (3.4.2)\n",
      "Requirement already satisfied: idna<4,>=2.5 in d:\\docs\\faculdade\\7o periodo\\si\\projeto\\cod\\venv\\lib\\site-packages (from requests<3.0.0,>=2.13.0->spacy) (3.10)\n",
      "Requirement already satisfied: urllib3<3,>=1.21.1 in d:\\docs\\faculdade\\7o periodo\\si\\projeto\\cod\\venv\\lib\\site-packages (from requests<3.0.0,>=2.13.0->spacy) (2.5.0)\n",
      "Requirement already satisfied: certifi>=2017.4.17 in d:\\docs\\faculdade\\7o periodo\\si\\projeto\\cod\\venv\\lib\\site-packages (from requests<3.0.0,>=2.13.0->spacy) (2025.4.26)\n",
      "Requirement already satisfied: blis<1.4.0,>=1.3.0 in d:\\docs\\faculdade\\7o periodo\\si\\projeto\\cod\\venv\\lib\\site-packages (from thinc<8.4.0,>=8.3.4->spacy) (1.3.0)\n",
      "Requirement already satisfied: confection<1.0.0,>=0.0.1 in d:\\docs\\faculdade\\7o periodo\\si\\projeto\\cod\\venv\\lib\\site-packages (from thinc<8.4.0,>=8.3.4->spacy) (0.1.5)\n",
      "Requirement already satisfied: colorama in d:\\docs\\faculdade\\7o periodo\\si\\projeto\\cod\\venv\\lib\\site-packages (from tqdm<5.0.0,>=4.38.0->spacy) (0.4.6)\n",
      "Requirement already satisfied: click>=8.0.0 in d:\\docs\\faculdade\\7o periodo\\si\\projeto\\cod\\venv\\lib\\site-packages (from typer<1.0.0,>=0.3.0->spacy) (8.2.1)\n",
      "Requirement already satisfied: shellingham>=1.3.0 in d:\\docs\\faculdade\\7o periodo\\si\\projeto\\cod\\venv\\lib\\site-packages (from typer<1.0.0,>=0.3.0->spacy) (1.5.4)\n",
      "Requirement already satisfied: rich>=10.11.0 in d:\\docs\\faculdade\\7o periodo\\si\\projeto\\cod\\venv\\lib\\site-packages (from typer<1.0.0,>=0.3.0->spacy) (14.0.0)\n",
      "Requirement already satisfied: cloudpathlib<1.0.0,>=0.7.0 in d:\\docs\\faculdade\\7o periodo\\si\\projeto\\cod\\venv\\lib\\site-packages (from weasel<0.5.0,>=0.1.0->spacy) (0.21.1)\n",
      "Requirement already satisfied: smart-open<8.0.0,>=5.2.1 in d:\\docs\\faculdade\\7o periodo\\si\\projeto\\cod\\venv\\lib\\site-packages (from weasel<0.5.0,>=0.1.0->spacy) (7.1.0)\n",
      "Requirement already satisfied: MarkupSafe>=2.0 in d:\\docs\\faculdade\\7o periodo\\si\\projeto\\cod\\venv\\lib\\site-packages (from jinja2->spacy) (3.0.2)\n",
      "Requirement already satisfied: marisa-trie>=1.1.0 in d:\\docs\\faculdade\\7o periodo\\si\\projeto\\cod\\venv\\lib\\site-packages (from language-data>=1.2->langcodes<4.0.0,>=3.2.0->spacy) (1.2.1)\n",
      "Requirement already satisfied: markdown-it-py>=2.2.0 in d:\\docs\\faculdade\\7o periodo\\si\\projeto\\cod\\venv\\lib\\site-packages (from rich>=10.11.0->typer<1.0.0,>=0.3.0->spacy) (3.0.0)\n",
      "Requirement already satisfied: pygments<3.0.0,>=2.13.0 in d:\\docs\\faculdade\\7o periodo\\si\\projeto\\cod\\venv\\lib\\site-packages (from rich>=10.11.0->typer<1.0.0,>=0.3.0->spacy) (2.19.2)\n",
      "Requirement already satisfied: wrapt in d:\\docs\\faculdade\\7o periodo\\si\\projeto\\cod\\venv\\lib\\site-packages (from smart-open<8.0.0,>=5.2.1->weasel<0.5.0,>=0.1.0->spacy) (1.17.2)\n",
      "Requirement already satisfied: mdurl~=0.1 in d:\\docs\\faculdade\\7o periodo\\si\\projeto\\cod\\venv\\lib\\site-packages (from markdown-it-py>=2.2.0->rich>=10.11.0->typer<1.0.0,>=0.3.0->spacy) (0.1.2)\n",
      "Note: you may need to restart the kernel to use updated packages.\n"
     ]
    },
    {
     "name": "stderr",
     "output_type": "stream",
     "text": [
      "\n",
      "[notice] A new release of pip is available: 25.0.1 -> 25.1.1\n",
      "[notice] To update, run: python.exe -m pip install --upgrade pip\n"
     ]
    },
    {
     "name": "stdout",
     "output_type": "stream",
     "text": [
      "Collecting pt-core-news-sm==3.8.0\n",
      "  Downloading https://github.com/explosion/spacy-models/releases/download/pt_core_news_sm-3.8.0/pt_core_news_sm-3.8.0-py3-none-any.whl (13.0 MB)\n",
      "     ---------------------------------------- 0.0/13.0 MB ? eta -:--:--\n",
      "     ---------------- ----------------------- 5.5/13.0 MB 33.8 MB/s eta 0:00:01\n",
      "     --------------------------------------- 13.0/13.0 MB 34.4 MB/s eta 0:00:00\n",
      "\u001b[38;5;2m✔ Download and installation successful\u001b[0m\n",
      "You can now load the package via spacy.load('pt_core_news_sm')\n"
     ]
    },
    {
     "name": "stderr",
     "output_type": "stream",
     "text": [
      "\n",
      "[notice] A new release of pip is available: 25.0.1 -> 25.1.1\n",
      "[notice] To update, run: python.exe -m pip install --upgrade pip\n"
     ]
    }
   ],
   "source": [
    "%pip install -U pip steuptools wheel\n",
    "%pip install -U spacy\n",
    "!python -m spacy download pt_core_news_sm"
   ]
  },
  {
   "cell_type": "code",
   "execution_count": 76,
   "id": "d76bc606",
   "metadata": {},
   "outputs": [
    {
     "name": "stdout",
     "output_type": "stream",
     "text": [
      "✅ Modelo spaCy 'pt_core_news_sm' carregado para lematização.\n",
      "Função 'lematizar_texto' criada com sucesso.\n",
      "DataFrame de exemplo antes da lematização:\n",
      "                                     Texto  \\\n",
      "0          Correndo muito rápido pela rua.   \n",
      "1      As meninas cantaram lindas músicas.   \n",
      "2  Eu amo aprender sobre ciência de dados.   \n",
      "3            Eles foram ver o filme ontem.   \n",
      "4                          Para de gritar!   \n",
      "\n",
      "                              texto_limpo  \n",
      "0          correndo muito rápido pela rua  \n",
      "1      as meninas cantaram lindas músicas  \n",
      "2  eu amo aprender sobre ciência de dados  \n",
      "3            eles foram ver o filme ontem  \n",
      "4                          para de gritar  \n",
      "--------------------------------------------------\n",
      "\n",
      "Aplicando lematização na coluna 'texto_limpo'...\n",
      "\n",
      "DataFrame de exemplo após a lematização:\n",
      "                                     Texto  \\\n",
      "0          Correndo muito rápido pela rua.   \n",
      "1      As meninas cantaram lindas músicas.   \n",
      "2  Eu amo aprender sobre ciência de dados.   \n",
      "3            Eles foram ver o filme ontem.   \n",
      "4                          Para de gritar!   \n",
      "\n",
      "                              texto_limpo  \\\n",
      "0          correndo muito rápido pela rua   \n",
      "1      as meninas cantaram lindas músicas   \n",
      "2  eu amo aprender sobre ciência de dados   \n",
      "3            eles foram ver o filme ontem   \n",
      "4                          para de gritar   \n",
      "\n",
      "                         texto_lematizado  \n",
      "0           correr muito rápido por o rua  \n",
      "1            o menina cantar lindo músico  \n",
      "2  eu amar aprender sobre ciência de dado  \n",
      "3               ele ser ver o filme ontem  \n",
      "4                          para de gritar  \n"
     ]
    }
   ],
   "source": [
    "import spacy\n",
    "\n",
    "# Carregar o modelo de português do spaCy\n",
    "try:\n",
    "    nlp = spacy.load(\"pt_core_news_sm\")\n",
    "    print(\"✅ Modelo spaCy 'pt_core_news_sm' carregado para lematização.\")\n",
    "except OSError:\n",
    "    print(\"❌ Erro: Modelo spaCy 'pt_core_news_sm' não encontrado.\")\n",
    "    print(\"Por favor, execute o comando: !python -m spacy download pt_core_news_sm\")\n",
    "    print(\"A lematização será desativada.\")\n",
    "    nlp = None # Define nlp como None se o modelo não puder ser carregado\n",
    "\n",
    "# %% [markdown]\n",
    "# ---\n",
    "# \n",
    "# ### 3. Função de Lematização\n",
    "# \n",
    "# Esta função pega uma string de texto e retorna sua versão lematizada. Ela garante que apenas tokens de palavras sejam lematizados, ignorando pontuações e espaços.\n",
    "\n",
    "# %%\n",
    "def lematizar_texto(texto: str) -> str:\n",
    "    \"\"\"\n",
    "    Lematiza um texto usando o modelo de português do spaCy.\n",
    "    Retorna as palavras lematizadas separadas por espaço.\n",
    "    \"\"\"\n",
    "    if nlp is None or not isinstance(texto, str) or not texto.strip():\n",
    "        # Retorna o texto original se o spaCy não estiver carregado,\n",
    "        # ou se o texto não for uma string válida/estiver vazio.\n",
    "        return texto \n",
    "\n",
    "    # Processa o texto com o modelo spaCy\n",
    "    doc = nlp(texto)\n",
    "    \n",
    "    # Extrai o lema de cada token que não é pontuação ou espaço\n",
    "    tokens_lematizados = [token.lemma_ for token in doc if not token.is_punct and not token.is_space]\n",
    "    \n",
    "    # Junta os lemas para formar o texto lematizado final\n",
    "    return \" \".join(tokens_lematizados)\n",
    "\n",
    "print(\"Função 'lematizar_texto' criada com sucesso.\")\n",
    "\n",
    "# %% [markdown]\n",
    "# ---\n",
    "# \n",
    "# ### 4. Exemplo de Uso (Aplicação em um DataFrame Pandas)\n",
    "# \n",
    "# Abaixo, um exemplo de como você aplicaria essa função a uma coluna de texto em um DataFrame Pandas. Assumimos que você já tem um DataFrame `df` com uma coluna de texto (por exemplo, `texto_limpo`).\n",
    "\n",
    "# %%\n",
    "import pandas as pd\n",
    "\n",
    "# Exemplo de DataFrame (substitua pelo seu carregamento de dados real)\n",
    "data = {'Texto': ['Correndo muito rápido pela rua.', \n",
    "                  'As meninas cantaram lindas músicas.', \n",
    "                  'Eu amo aprender sobre ciência de dados.',\n",
    "                  'Eles foram ver o filme ontem.',\n",
    "                  'Para de gritar!']}\n",
    "df_exemplo = pd.DataFrame(data)\n",
    "\n",
    "# Aplicar uma função de limpeza (simplificada para o exemplo)\n",
    "import re\n",
    "def limpar_texto_exemplo(texto: str) -> str:\n",
    "    return re.sub(r'[^\\w\\s]', '', texto).lower().strip()\n",
    "\n",
    "df_exemplo['texto_limpo'] = df_exemplo['Texto'].apply(limpar_texto_exemplo)\n",
    "\n",
    "print(\"DataFrame de exemplo antes da lematização:\")\n",
    "print(df_exemplo)\n",
    "print(\"-\" * 50)\n",
    "\n",
    "# Aplicar a lematização\n",
    "if nlp is not None:\n",
    "    print(\"\\nAplicando lematização na coluna 'texto_limpo'...\")\n",
    "    df_exemplo['texto_lematizado'] = df_exemplo['texto_limpo'].apply(lematizar_texto)\n",
    "    print(\"\\nDataFrame de exemplo após a lematização:\")\n",
    "    print(df_exemplo)\n",
    "else:\n",
    "    print(\"\\nLematização não pode ser aplicada pois o modelo spaCy não foi carregado.\")"
   ]
  },
  {
   "cell_type": "code",
   "execution_count": 77,
   "id": "d526d311",
   "metadata": {},
   "outputs": [
    {
     "name": "stdout",
     "output_type": "stream",
     "text": [
      "Requirement already satisfied: scikit-learn in d:\\docs\\faculdade\\7o periodo\\si\\projeto\\cod\\venv\\lib\\site-packages (1.7.0)\n",
      "Requirement already satisfied: numpy>=1.22.0 in d:\\docs\\faculdade\\7o periodo\\si\\projeto\\cod\\venv\\lib\\site-packages (from scikit-learn) (2.3.1)\n",
      "Requirement already satisfied: scipy>=1.8.0 in d:\\docs\\faculdade\\7o periodo\\si\\projeto\\cod\\venv\\lib\\site-packages (from scikit-learn) (1.16.0)\n",
      "Requirement already satisfied: joblib>=1.2.0 in d:\\docs\\faculdade\\7o periodo\\si\\projeto\\cod\\venv\\lib\\site-packages (from scikit-learn) (1.5.1)\n",
      "Requirement already satisfied: threadpoolctl>=3.1.0 in d:\\docs\\faculdade\\7o periodo\\si\\projeto\\cod\\venv\\lib\\site-packages (from scikit-learn) (3.6.0)\n",
      "Note: you may need to restart the kernel to use updated packages.\n"
     ]
    },
    {
     "name": "stderr",
     "output_type": "stream",
     "text": [
      "\n",
      "[notice] A new release of pip is available: 25.0.1 -> 25.1.1\n",
      "[notice] To update, run: python.exe -m pip install --upgrade pip\n"
     ]
    }
   ],
   "source": [
    "%pip install scikit-learn"
   ]
  },
  {
   "cell_type": "code",
   "execution_count": 78,
   "id": "c98e0534",
   "metadata": {},
   "outputs": [],
   "source": [
    "from sklearn.model_selection import train_test_split, cross_val_predict\n",
    "from sklearn.pipeline import Pipeline;\n",
    "\n",
    "\n",
    "#vetorizadores\n",
    "from sklearn.feature_extraction.text import CountVectorizer, TfidfVectorizer\n",
    "\n",
    "#classificadores\n",
    "from sklearn.linear_model import LogisticRegression, PassiveAggressiveClassifier, SGDClassifier\n",
    "from sklearn.ensemble import RandomForestClassifier\n",
    "from sklearn.svm import SVC\n"
   ]
  },
  {
   "cell_type": "code",
   "execution_count": 79,
   "id": "d5af385f",
   "metadata": {},
   "outputs": [],
   "source": [
    "from nltk.tokenize import TweetTokenizer\n",
    "\n",
    "tweet_tokenizer = TweetTokenizer()"
   ]
  },
  {
   "cell_type": "code",
   "execution_count": 80,
   "id": "21951ea5",
   "metadata": {},
   "outputs": [],
   "source": [
    "def escolhe_pipeline(pipe):\n",
    "    match pipe:\n",
    "        case 1:\n",
    "            modelo1 = Pipeline([\n",
    "                ('countVectorizer', CountVectorizer(analyzer='word', tokenizer=tweet_tokenizer.tokenize)),\n",
    "                ('modelo', LogisticRegression(solver='liblinear'))\n",
    "            ])\n",
    "            return modelo1\n",
    "        case 2:\n",
    "            modelo2 = Pipeline([\n",
    "                ('TfidfVectorizer', TfidfVectorizer(analyzer='word', tokenizer=tweet_tokenizer.tokenize)),\n",
    "                ('modelo', LogisticRegression(solver='liblinear'))\n",
    "            ])\n",
    "            return modelo2\n",
    "        case 3:\n",
    "            modelo3 = Pipeline([\n",
    "                ('countVectorizer', CountVectorizer(analyzer='word', tokenizer=tweet_tokenizer.tokenize)),\n",
    "                ('modelo', PassiveAggressiveClassifier())\n",
    "            ])\n",
    "            return modelo3\n",
    "        case 4:\n",
    "            modelo4 = Pipeline([\n",
    "                ('TfidfVectorizer', TfidfVectorizer(analyzer='word', tokenizer=tweet_tokenizer.tokenize)),\n",
    "                ('modelo', PassiveAggressiveClassifier())\n",
    "            ])\n",
    "            return modelo4\n",
    "        case 5:\n",
    "            modelo5 = Pipeline([\n",
    "                ('countVectorizer', CountVectorizer(analyzer='word', tokenizer=tweet_tokenizer.tokenize)),\n",
    "                ('modelo', RandomForestClassifier())\n",
    "            ])\n",
    "            return modelo5\n",
    "        case 6:\n",
    "            modelo6 = Pipeline([\n",
    "                ('TfidfVectorizer', TfidfVectorizer(analyzer='word', tokenizer=tweet_tokenizer.tokenize)),\n",
    "                ('modelo', RandomForestClassifier())\n",
    "            ])\n",
    "            return modelo6\n",
    "        case 7:\n",
    "            modelo7 = Pipeline([\n",
    "                ('countVectorizer', CountVectorizer(analyzer='word', tokenizer=tweet_tokenizer.tokenize)),\n",
    "                ('modelo', SGDClassifier(max_iter=1000))\n",
    "            ])\n",
    "            return modelo7\n",
    "        case 8:\n",
    "            modelo8 = Pipeline([\n",
    "                ('TfidfVectorizer', TfidfVectorizer(analyzer='word', tokenizer=tweet_tokenizer.tokenize)),\n",
    "                ('modelo', SGDClassifier(max_iter=1000))\n",
    "            ])\n",
    "            return modelo8\n",
    "        case 9:\n",
    "            modelo9 = Pipeline([\n",
    "                ('countVectorizer', CountVectorizer(analyzer='word', tokenizer=tweet_tokenizer.tokenize)),\n",
    "                ('modelo', SVC())\n",
    "            ])\n",
    "            return modelo9\n",
    "        case 10:\n",
    "            modelo10 = Pipeline([\n",
    "                ('TfidfVectorizer', TfidfVectorizer(analyzer='word', tokenizer=tweet_tokenizer.tokenize)),\n",
    "                ('modelo', SVC())\n",
    "            ])\n",
    "            return modelo10"
   ]
  },
  {
   "cell_type": "code",
   "execution_count": 81,
   "id": "96a97e95",
   "metadata": {},
   "outputs": [
    {
     "name": "stdout",
     "output_type": "stream",
     "text": [
      "Requirement already satisfied: mlxtend in d:\\docs\\faculdade\\7o periodo\\si\\projeto\\cod\\venv\\lib\\site-packages (0.23.4)\n",
      "Requirement already satisfied: scipy>=1.2.1 in d:\\docs\\faculdade\\7o periodo\\si\\projeto\\cod\\venv\\lib\\site-packages (from mlxtend) (1.16.0)\n",
      "Requirement already satisfied: numpy>=1.16.2 in d:\\docs\\faculdade\\7o periodo\\si\\projeto\\cod\\venv\\lib\\site-packages (from mlxtend) (2.3.1)\n",
      "Requirement already satisfied: pandas>=0.24.2 in d:\\docs\\faculdade\\7o periodo\\si\\projeto\\cod\\venv\\lib\\site-packages (from mlxtend) (2.3.0)\n",
      "Requirement already satisfied: scikit-learn>=1.3.1 in d:\\docs\\faculdade\\7o periodo\\si\\projeto\\cod\\venv\\lib\\site-packages (from mlxtend) (1.7.0)\n",
      "Requirement already satisfied: matplotlib>=3.0.0 in d:\\docs\\faculdade\\7o periodo\\si\\projeto\\cod\\venv\\lib\\site-packages (from mlxtend) (3.10.3)\n",
      "Requirement already satisfied: joblib>=0.13.2 in d:\\docs\\faculdade\\7o periodo\\si\\projeto\\cod\\venv\\lib\\site-packages (from mlxtend) (1.5.1)\n",
      "Requirement already satisfied: contourpy>=1.0.1 in d:\\docs\\faculdade\\7o periodo\\si\\projeto\\cod\\venv\\lib\\site-packages (from matplotlib>=3.0.0->mlxtend) (1.3.2)\n",
      "Requirement already satisfied: cycler>=0.10 in d:\\docs\\faculdade\\7o periodo\\si\\projeto\\cod\\venv\\lib\\site-packages (from matplotlib>=3.0.0->mlxtend) (0.12.1)\n",
      "Requirement already satisfied: fonttools>=4.22.0 in d:\\docs\\faculdade\\7o periodo\\si\\projeto\\cod\\venv\\lib\\site-packages (from matplotlib>=3.0.0->mlxtend) (4.58.4)\n",
      "Requirement already satisfied: kiwisolver>=1.3.1 in d:\\docs\\faculdade\\7o periodo\\si\\projeto\\cod\\venv\\lib\\site-packages (from matplotlib>=3.0.0->mlxtend) (1.4.8)\n",
      "Requirement already satisfied: packaging>=20.0 in d:\\docs\\faculdade\\7o periodo\\si\\projeto\\cod\\venv\\lib\\site-packages (from matplotlib>=3.0.0->mlxtend) (25.0)\n",
      "Requirement already satisfied: pillow>=8 in d:\\docs\\faculdade\\7o periodo\\si\\projeto\\cod\\venv\\lib\\site-packages (from matplotlib>=3.0.0->mlxtend) (11.2.1)\n",
      "Requirement already satisfied: pyparsing>=2.3.1 in d:\\docs\\faculdade\\7o periodo\\si\\projeto\\cod\\venv\\lib\\site-packages (from matplotlib>=3.0.0->mlxtend) (3.2.3)\n",
      "Requirement already satisfied: python-dateutil>=2.7 in d:\\docs\\faculdade\\7o periodo\\si\\projeto\\cod\\venv\\lib\\site-packages (from matplotlib>=3.0.0->mlxtend) (2.9.0.post0)\n",
      "Requirement already satisfied: pytz>=2020.1 in d:\\docs\\faculdade\\7o periodo\\si\\projeto\\cod\\venv\\lib\\site-packages (from pandas>=0.24.2->mlxtend) (2025.2)\n",
      "Requirement already satisfied: tzdata>=2022.7 in d:\\docs\\faculdade\\7o periodo\\si\\projeto\\cod\\venv\\lib\\site-packages (from pandas>=0.24.2->mlxtend) (2025.2)\n",
      "Requirement already satisfied: threadpoolctl>=3.1.0 in d:\\docs\\faculdade\\7o periodo\\si\\projeto\\cod\\venv\\lib\\site-packages (from scikit-learn>=1.3.1->mlxtend) (3.6.0)\n",
      "Requirement already satisfied: six>=1.5 in d:\\docs\\faculdade\\7o periodo\\si\\projeto\\cod\\venv\\lib\\site-packages (from python-dateutil>=2.7->matplotlib>=3.0.0->mlxtend) (1.17.0)\n",
      "Note: you may need to restart the kernel to use updated packages.\n"
     ]
    },
    {
     "name": "stderr",
     "output_type": "stream",
     "text": [
      "\n",
      "[notice] A new release of pip is available: 25.0.1 -> 25.1.1\n",
      "[notice] To update, run: python.exe -m pip install --upgrade pip\n"
     ]
    }
   ],
   "source": [
    "%pip install mlxtend"
   ]
  },
  {
   "cell_type": "code",
   "execution_count": 82,
   "id": "6aae7938",
   "metadata": {},
   "outputs": [],
   "source": [
    "from sklearn import metrics\n",
    "from sklearn.metrics import precision_score, recall_score, f1_score, accuracy_score\n",
    "from mlxtend.evaluate import confusion_matrix\n",
    "from mlxtend.plotting import plot_confusion_matrix\n",
    "\n",
    "def matriz_confusao(y_teste, modelo_predicao):\n",
    "    print('Relatório de Classificação:\\n', metrics.classification_report(y_teste, modelo_predicao))\n",
    "\n",
    "    print(\"Acurácia: {:.4f}\\n\", format(accuracy_score(y_teste, modelo_predicao)))\n",
    "\n",
    "    print(\"Matriz de Confusão:\\n\", pd.crosstab(y_teste, modelo_predicao, rownames=['Real'], colnames=['Predito'], margins=True), '')\n",
    "\n",
    "    mc = confusion_matrix(y_target=y_teste, y_predicted=modelo_predicao, binary=False)\n",
    "\n",
    "    fig, ax = plot_confusion_matrix(conf_mat=mc)\n",
    "    plt.show()\n",
    "    print('\\n')\n"
   ]
  },
  {
   "cell_type": "code",
   "execution_count": 83,
   "id": "2f0b7fa1",
   "metadata": {},
   "outputs": [
    {
     "data": {
      "text/plain": [
       "((985,), (985,))"
      ]
     },
     "execution_count": 83,
     "metadata": {},
     "output_type": "execute_result"
    }
   ],
   "source": [
    "x = tweet_df['texto_limpo']\n",
    "y = tweet_df['sentimento']\n",
    "\n",
    "x.shape, y.shape"
   ]
  },
  {
   "cell_type": "code",
   "execution_count": 84,
   "id": "137adfe2",
   "metadata": {},
   "outputs": [
    {
     "data": {
      "text/plain": [
       "((689,), (296,), (689,), (296,))"
      ]
     },
     "execution_count": 84,
     "metadata": {},
     "output_type": "execute_result"
    }
   ],
   "source": [
    "#separar entre treino e teste\n",
    "x_treino, x_teste, y_treino, y_teste = train_test_split(x, y, test_size=0.3, random_state=123)\n",
    "\n",
    "x_treino.shape, x_teste.shape, y_treino.shape, y_teste.shape"
   ]
  },
  {
   "cell_type": "code",
   "execution_count": 85,
   "id": "c4245df3",
   "metadata": {},
   "outputs": [
    {
     "name": "stderr",
     "output_type": "stream",
     "text": [
      "d:\\Docs\\Faculdade\\7o periodo\\SI\\projeto\\cod\\venv\\Lib\\site-packages\\sklearn\\feature_extraction\\text.py:517: UserWarning: The parameter 'token_pattern' will not be used since 'tokenizer' is not None'\n",
      "  warnings.warn(\n",
      "d:\\Docs\\Faculdade\\7o periodo\\SI\\projeto\\cod\\venv\\Lib\\site-packages\\sklearn\\linear_model\\_logistic.py:1288: FutureWarning: Using the 'liblinear' solver for multiclass classification is deprecated. An error will be raised in 1.8. Either use another solver which supports the multinomial loss or wrap the estimator in a OneVsRestClassifier to keep applying a one-versus-rest scheme.\n",
      "  warnings.warn(\n"
     ]
    },
    {
     "name": "stdout",
     "output_type": "stream",
     "text": [
      "************************************************************************************************************************************\n",
      "Modelo: Pipeline(steps=[('countVectorizer',\n",
      "                 CountVectorizer(tokenizer=<bound method TweetTokenizer.tokenize of <nltk.tokenize.casual.TweetTokenizer object at 0x00000259AABAFC50>>)),\n",
      "                ('modelo', LogisticRegression(solver='liblinear'))])\n",
      "\n",
      "AVALIANDO MODELO\n",
      "\n",
      "Relatório de Classificação:\n",
      "               precision    recall  f1-score   support\n",
      "\n",
      "    Negativo       0.50      0.34      0.40        59\n",
      "      Neutro       0.70      0.85      0.77       168\n",
      "    Positivo       0.50      0.38      0.43        69\n",
      "\n",
      "    accuracy                           0.64       296\n",
      "   macro avg       0.57      0.52      0.53       296\n",
      "weighted avg       0.61      0.64      0.62       296\n",
      "\n",
      "Acurácia: {:.4f}\n",
      " 0.6385135135135135\n",
      "Matriz de Confusão:\n",
      " Predito   Negativo  Neutro  Positivo  All\n",
      "Real                                     \n",
      "Negativo        20      30         9   59\n",
      "Neutro           8     143        17  168\n",
      "Positivo        12      31        26   69\n",
      "All             40     204        52  296 \n"
     ]
    },
    {
     "data": {
      "image/png": "[encoded data removed]",
      "text/plain": [
       "<Figure size 640x480 with 1 Axes>"
      ]
     },
     "metadata": {},
     "output_type": "display_data"
    },
    {
     "name": "stdout",
     "output_type": "stream",
     "text": [
      "\n",
      "\n",
      "\n",
      "VALIDAÇÃO CRUZADA\n",
      "\n"
     ]
    },
    {
     "name": "stderr",
     "output_type": "stream",
     "text": [
      "d:\\Docs\\Faculdade\\7o periodo\\SI\\projeto\\cod\\venv\\Lib\\site-packages\\sklearn\\feature_extraction\\text.py:517: UserWarning: The parameter 'token_pattern' will not be used since 'tokenizer' is not None'\n",
      "  warnings.warn(\n",
      "d:\\Docs\\Faculdade\\7o periodo\\SI\\projeto\\cod\\venv\\Lib\\site-packages\\sklearn\\linear_model\\_logistic.py:1288: FutureWarning: Using the 'liblinear' solver for multiclass classification is deprecated. An error will be raised in 1.8. Either use another solver which supports the multinomial loss or wrap the estimator in a OneVsRestClassifier to keep applying a one-versus-rest scheme.\n",
      "  warnings.warn(\n",
      "d:\\Docs\\Faculdade\\7o periodo\\SI\\projeto\\cod\\venv\\Lib\\site-packages\\sklearn\\feature_extraction\\text.py:517: UserWarning: The parameter 'token_pattern' will not be used since 'tokenizer' is not None'\n",
      "  warnings.warn(\n",
      "d:\\Docs\\Faculdade\\7o periodo\\SI\\projeto\\cod\\venv\\Lib\\site-packages\\sklearn\\linear_model\\_logistic.py:1288: FutureWarning: Using the 'liblinear' solver for multiclass classification is deprecated. An error will be raised in 1.8. Either use another solver which supports the multinomial loss or wrap the estimator in a OneVsRestClassifier to keep applying a one-versus-rest scheme.\n",
      "  warnings.warn(\n",
      "d:\\Docs\\Faculdade\\7o periodo\\SI\\projeto\\cod\\venv\\Lib\\site-packages\\sklearn\\feature_extraction\\text.py:517: UserWarning: The parameter 'token_pattern' will not be used since 'tokenizer' is not None'\n",
      "  warnings.warn(\n",
      "d:\\Docs\\Faculdade\\7o periodo\\SI\\projeto\\cod\\venv\\Lib\\site-packages\\sklearn\\linear_model\\_logistic.py:1288: FutureWarning: Using the 'liblinear' solver for multiclass classification is deprecated. An error will be raised in 1.8. Either use another solver which supports the multinomial loss or wrap the estimator in a OneVsRestClassifier to keep applying a one-versus-rest scheme.\n",
      "  warnings.warn(\n",
      "d:\\Docs\\Faculdade\\7o periodo\\SI\\projeto\\cod\\venv\\Lib\\site-packages\\sklearn\\feature_extraction\\text.py:517: UserWarning: The parameter 'token_pattern' will not be used since 'tokenizer' is not None'\n",
      "  warnings.warn(\n",
      "d:\\Docs\\Faculdade\\7o periodo\\SI\\projeto\\cod\\venv\\Lib\\site-packages\\sklearn\\linear_model\\_logistic.py:1288: FutureWarning: Using the 'liblinear' solver for multiclass classification is deprecated. An error will be raised in 1.8. Either use another solver which supports the multinomial loss or wrap the estimator in a OneVsRestClassifier to keep applying a one-versus-rest scheme.\n",
      "  warnings.warn(\n",
      "d:\\Docs\\Faculdade\\7o periodo\\SI\\projeto\\cod\\venv\\Lib\\site-packages\\sklearn\\feature_extraction\\text.py:517: UserWarning: The parameter 'token_pattern' will not be used since 'tokenizer' is not None'\n",
      "  warnings.warn(\n",
      "d:\\Docs\\Faculdade\\7o periodo\\SI\\projeto\\cod\\venv\\Lib\\site-packages\\sklearn\\linear_model\\_logistic.py:1288: FutureWarning: Using the 'liblinear' solver for multiclass classification is deprecated. An error will be raised in 1.8. Either use another solver which supports the multinomial loss or wrap the estimator in a OneVsRestClassifier to keep applying a one-versus-rest scheme.\n",
      "  warnings.warn(\n",
      "d:\\Docs\\Faculdade\\7o periodo\\SI\\projeto\\cod\\venv\\Lib\\site-packages\\sklearn\\feature_extraction\\text.py:517: UserWarning: The parameter 'token_pattern' will not be used since 'tokenizer' is not None'\n",
      "  warnings.warn(\n",
      "d:\\Docs\\Faculdade\\7o periodo\\SI\\projeto\\cod\\venv\\Lib\\site-packages\\sklearn\\linear_model\\_logistic.py:1288: FutureWarning: Using the 'liblinear' solver for multiclass classification is deprecated. An error will be raised in 1.8. Either use another solver which supports the multinomial loss or wrap the estimator in a OneVsRestClassifier to keep applying a one-versus-rest scheme.\n",
      "  warnings.warn(\n",
      "d:\\Docs\\Faculdade\\7o periodo\\SI\\projeto\\cod\\venv\\Lib\\site-packages\\sklearn\\feature_extraction\\text.py:517: UserWarning: The parameter 'token_pattern' will not be used since 'tokenizer' is not None'\n",
      "  warnings.warn(\n",
      "d:\\Docs\\Faculdade\\7o periodo\\SI\\projeto\\cod\\venv\\Lib\\site-packages\\sklearn\\linear_model\\_logistic.py:1288: FutureWarning: Using the 'liblinear' solver for multiclass classification is deprecated. An error will be raised in 1.8. Either use another solver which supports the multinomial loss or wrap the estimator in a OneVsRestClassifier to keep applying a one-versus-rest scheme.\n",
      "  warnings.warn(\n",
      "d:\\Docs\\Faculdade\\7o periodo\\SI\\projeto\\cod\\venv\\Lib\\site-packages\\sklearn\\feature_extraction\\text.py:517: UserWarning: The parameter 'token_pattern' will not be used since 'tokenizer' is not None'\n",
      "  warnings.warn(\n",
      "d:\\Docs\\Faculdade\\7o periodo\\SI\\projeto\\cod\\venv\\Lib\\site-packages\\sklearn\\linear_model\\_logistic.py:1288: FutureWarning: Using the 'liblinear' solver for multiclass classification is deprecated. An error will be raised in 1.8. Either use another solver which supports the multinomial loss or wrap the estimator in a OneVsRestClassifier to keep applying a one-versus-rest scheme.\n",
      "  warnings.warn(\n",
      "d:\\Docs\\Faculdade\\7o periodo\\SI\\projeto\\cod\\venv\\Lib\\site-packages\\sklearn\\feature_extraction\\text.py:517: UserWarning: The parameter 'token_pattern' will not be used since 'tokenizer' is not None'\n",
      "  warnings.warn(\n",
      "d:\\Docs\\Faculdade\\7o periodo\\SI\\projeto\\cod\\venv\\Lib\\site-packages\\sklearn\\linear_model\\_logistic.py:1288: FutureWarning: Using the 'liblinear' solver for multiclass classification is deprecated. An error will be raised in 1.8. Either use another solver which supports the multinomial loss or wrap the estimator in a OneVsRestClassifier to keep applying a one-versus-rest scheme.\n",
      "  warnings.warn(\n",
      "d:\\Docs\\Faculdade\\7o periodo\\SI\\projeto\\cod\\venv\\Lib\\site-packages\\sklearn\\feature_extraction\\text.py:517: UserWarning: The parameter 'token_pattern' will not be used since 'tokenizer' is not None'\n",
      "  warnings.warn(\n",
      "d:\\Docs\\Faculdade\\7o periodo\\SI\\projeto\\cod\\venv\\Lib\\site-packages\\sklearn\\linear_model\\_logistic.py:1288: FutureWarning: Using the 'liblinear' solver for multiclass classification is deprecated. An error will be raised in 1.8. Either use another solver which supports the multinomial loss or wrap the estimator in a OneVsRestClassifier to keep applying a one-versus-rest scheme.\n",
      "  warnings.warn(\n",
      "d:\\Docs\\Faculdade\\7o periodo\\SI\\projeto\\cod\\venv\\Lib\\site-packages\\sklearn\\feature_extraction\\text.py:517: UserWarning: The parameter 'token_pattern' will not be used since 'tokenizer' is not None'\n",
      "  warnings.warn(\n",
      "d:\\Docs\\Faculdade\\7o periodo\\SI\\projeto\\cod\\venv\\Lib\\site-packages\\sklearn\\linear_model\\_logistic.py:1288: FutureWarning: Using the 'liblinear' solver for multiclass classification is deprecated. An error will be raised in 1.8. Either use another solver which supports the multinomial loss or wrap the estimator in a OneVsRestClassifier to keep applying a one-versus-rest scheme.\n",
      "  warnings.warn(\n"
     ]
    },
    {
     "name": "stdout",
     "output_type": "stream",
     "text": [
      "************************************************************************************************************************************\n",
      "Modelo: Pipeline(steps=[('TfidfVectorizer',\n",
      "                 TfidfVectorizer(tokenizer=<bound method TweetTokenizer.tokenize of <nltk.tokenize.casual.TweetTokenizer object at 0x00000259AABAFC50>>)),\n",
      "                ('modelo', LogisticRegression(solver='liblinear'))])\n",
      "\n",
      "AVALIANDO MODELO\n",
      "\n",
      "Relatório de Classificação:\n",
      "               precision    recall  f1-score   support\n",
      "\n",
      "    Negativo       0.53      0.14      0.22        59\n",
      "      Neutro       0.61      0.97      0.75       168\n",
      "    Positivo       0.50      0.10      0.17        69\n",
      "\n",
      "    accuracy                           0.60       296\n",
      "   macro avg       0.55      0.40      0.38       296\n",
      "weighted avg       0.57      0.60      0.51       296\n",
      "\n",
      "Acurácia: {:.4f}\n",
      " 0.6013513513513513\n",
      "Matriz de Confusão:\n",
      " Predito   Negativo  Neutro  Positivo  All\n",
      "Real                                     \n",
      "Negativo         8      48         3   59\n",
      "Neutro           1     163         4  168\n",
      "Positivo         6      56         7   69\n",
      "All             15     267        14  296 \n"
     ]
    },
    {
     "data": {
      "image/png": "[encoded data removed]",
      "text/plain": [
       "<Figure size 640x480 with 1 Axes>"
      ]
     },
     "metadata": {},
     "output_type": "display_data"
    },
    {
     "name": "stdout",
     "output_type": "stream",
     "text": [
      "\n",
      "\n",
      "\n",
      "VALIDAÇÃO CRUZADA\n",
      "\n"
     ]
    },
    {
     "name": "stderr",
     "output_type": "stream",
     "text": [
      "d:\\Docs\\Faculdade\\7o periodo\\SI\\projeto\\cod\\venv\\Lib\\site-packages\\sklearn\\feature_extraction\\text.py:517: UserWarning: The parameter 'token_pattern' will not be used since 'tokenizer' is not None'\n",
      "  warnings.warn(\n",
      "d:\\Docs\\Faculdade\\7o periodo\\SI\\projeto\\cod\\venv\\Lib\\site-packages\\sklearn\\linear_model\\_logistic.py:1288: FutureWarning: Using the 'liblinear' solver for multiclass classification is deprecated. An error will be raised in 1.8. Either use another solver which supports the multinomial loss or wrap the estimator in a OneVsRestClassifier to keep applying a one-versus-rest scheme.\n",
      "  warnings.warn(\n",
      "d:\\Docs\\Faculdade\\7o periodo\\SI\\projeto\\cod\\venv\\Lib\\site-packages\\sklearn\\feature_extraction\\text.py:517: UserWarning: The parameter 'token_pattern' will not be used since 'tokenizer' is not None'\n",
      "  warnings.warn(\n",
      "d:\\Docs\\Faculdade\\7o periodo\\SI\\projeto\\cod\\venv\\Lib\\site-packages\\sklearn\\linear_model\\_logistic.py:1288: FutureWarning: Using the 'liblinear' solver for multiclass classification is deprecated. An error will be raised in 1.8. Either use another solver which supports the multinomial loss or wrap the estimator in a OneVsRestClassifier to keep applying a one-versus-rest scheme.\n",
      "  warnings.warn(\n",
      "d:\\Docs\\Faculdade\\7o periodo\\SI\\projeto\\cod\\venv\\Lib\\site-packages\\sklearn\\feature_extraction\\text.py:517: UserWarning: The parameter 'token_pattern' will not be used since 'tokenizer' is not None'\n",
      "  warnings.warn(\n",
      "d:\\Docs\\Faculdade\\7o periodo\\SI\\projeto\\cod\\venv\\Lib\\site-packages\\sklearn\\linear_model\\_logistic.py:1288: FutureWarning: Using the 'liblinear' solver for multiclass classification is deprecated. An error will be raised in 1.8. Either use another solver which supports the multinomial loss or wrap the estimator in a OneVsRestClassifier to keep applying a one-versus-rest scheme.\n",
      "  warnings.warn(\n",
      "d:\\Docs\\Faculdade\\7o periodo\\SI\\projeto\\cod\\venv\\Lib\\site-packages\\sklearn\\feature_extraction\\text.py:517: UserWarning: The parameter 'token_pattern' will not be used since 'tokenizer' is not None'\n",
      "  warnings.warn(\n",
      "d:\\Docs\\Faculdade\\7o periodo\\SI\\projeto\\cod\\venv\\Lib\\site-packages\\sklearn\\linear_model\\_logistic.py:1288: FutureWarning: Using the 'liblinear' solver for multiclass classification is deprecated. An error will be raised in 1.8. Either use another solver which supports the multinomial loss or wrap the estimator in a OneVsRestClassifier to keep applying a one-versus-rest scheme.\n",
      "  warnings.warn(\n",
      "d:\\Docs\\Faculdade\\7o periodo\\SI\\projeto\\cod\\venv\\Lib\\site-packages\\sklearn\\feature_extraction\\text.py:517: UserWarning: The parameter 'token_pattern' will not be used since 'tokenizer' is not None'\n",
      "  warnings.warn(\n",
      "d:\\Docs\\Faculdade\\7o periodo\\SI\\projeto\\cod\\venv\\Lib\\site-packages\\sklearn\\linear_model\\_logistic.py:1288: FutureWarning: Using the 'liblinear' solver for multiclass classification is deprecated. An error will be raised in 1.8. Either use another solver which supports the multinomial loss or wrap the estimator in a OneVsRestClassifier to keep applying a one-versus-rest scheme.\n",
      "  warnings.warn(\n",
      "d:\\Docs\\Faculdade\\7o periodo\\SI\\projeto\\cod\\venv\\Lib\\site-packages\\sklearn\\feature_extraction\\text.py:517: UserWarning: The parameter 'token_pattern' will not be used since 'tokenizer' is not None'\n",
      "  warnings.warn(\n",
      "d:\\Docs\\Faculdade\\7o periodo\\SI\\projeto\\cod\\venv\\Lib\\site-packages\\sklearn\\linear_model\\_logistic.py:1288: FutureWarning: Using the 'liblinear' solver for multiclass classification is deprecated. An error will be raised in 1.8. Either use another solver which supports the multinomial loss or wrap the estimator in a OneVsRestClassifier to keep applying a one-versus-rest scheme.\n",
      "  warnings.warn(\n",
      "d:\\Docs\\Faculdade\\7o periodo\\SI\\projeto\\cod\\venv\\Lib\\site-packages\\sklearn\\feature_extraction\\text.py:517: UserWarning: The parameter 'token_pattern' will not be used since 'tokenizer' is not None'\n",
      "  warnings.warn(\n",
      "d:\\Docs\\Faculdade\\7o periodo\\SI\\projeto\\cod\\venv\\Lib\\site-packages\\sklearn\\linear_model\\_logistic.py:1288: FutureWarning: Using the 'liblinear' solver for multiclass classification is deprecated. An error will be raised in 1.8. Either use another solver which supports the multinomial loss or wrap the estimator in a OneVsRestClassifier to keep applying a one-versus-rest scheme.\n",
      "  warnings.warn(\n",
      "d:\\Docs\\Faculdade\\7o periodo\\SI\\projeto\\cod\\venv\\Lib\\site-packages\\sklearn\\feature_extraction\\text.py:517: UserWarning: The parameter 'token_pattern' will not be used since 'tokenizer' is not None'\n",
      "  warnings.warn(\n",
      "d:\\Docs\\Faculdade\\7o periodo\\SI\\projeto\\cod\\venv\\Lib\\site-packages\\sklearn\\linear_model\\_logistic.py:1288: FutureWarning: Using the 'liblinear' solver for multiclass classification is deprecated. An error will be raised in 1.8. Either use another solver which supports the multinomial loss or wrap the estimator in a OneVsRestClassifier to keep applying a one-versus-rest scheme.\n",
      "  warnings.warn(\n",
      "d:\\Docs\\Faculdade\\7o periodo\\SI\\projeto\\cod\\venv\\Lib\\site-packages\\sklearn\\feature_extraction\\text.py:517: UserWarning: The parameter 'token_pattern' will not be used since 'tokenizer' is not None'\n",
      "  warnings.warn(\n",
      "d:\\Docs\\Faculdade\\7o periodo\\SI\\projeto\\cod\\venv\\Lib\\site-packages\\sklearn\\linear_model\\_logistic.py:1288: FutureWarning: Using the 'liblinear' solver for multiclass classification is deprecated. An error will be raised in 1.8. Either use another solver which supports the multinomial loss or wrap the estimator in a OneVsRestClassifier to keep applying a one-versus-rest scheme.\n",
      "  warnings.warn(\n",
      "d:\\Docs\\Faculdade\\7o periodo\\SI\\projeto\\cod\\venv\\Lib\\site-packages\\sklearn\\feature_extraction\\text.py:517: UserWarning: The parameter 'token_pattern' will not be used since 'tokenizer' is not None'\n",
      "  warnings.warn(\n",
      "d:\\Docs\\Faculdade\\7o periodo\\SI\\projeto\\cod\\venv\\Lib\\site-packages\\sklearn\\linear_model\\_logistic.py:1288: FutureWarning: Using the 'liblinear' solver for multiclass classification is deprecated. An error will be raised in 1.8. Either use another solver which supports the multinomial loss or wrap the estimator in a OneVsRestClassifier to keep applying a one-versus-rest scheme.\n",
      "  warnings.warn(\n",
      "d:\\Docs\\Faculdade\\7o periodo\\SI\\projeto\\cod\\venv\\Lib\\site-packages\\sklearn\\feature_extraction\\text.py:517: UserWarning: The parameter 'token_pattern' will not be used since 'tokenizer' is not None'\n",
      "  warnings.warn(\n"
     ]
    },
    {
     "name": "stdout",
     "output_type": "stream",
     "text": [
      "************************************************************************************************************************************\n",
      "Modelo: Pipeline(steps=[('countVectorizer',\n",
      "                 CountVectorizer(tokenizer=<bound method TweetTokenizer.tokenize of <nltk.tokenize.casual.TweetTokenizer object at 0x00000259AABAFC50>>)),\n",
      "                ('modelo', PassiveAggressiveClassifier())])\n",
      "\n",
      "AVALIANDO MODELO\n",
      "\n",
      "Relatório de Classificação:\n",
      "               precision    recall  f1-score   support\n",
      "\n",
      "    Negativo       0.40      0.36      0.38        59\n",
      "      Neutro       0.71      0.73      0.72       168\n",
      "    Positivo       0.45      0.46      0.46        69\n",
      "\n",
      "    accuracy                           0.59       296\n",
      "   macro avg       0.52      0.52      0.52       296\n",
      "weighted avg       0.59      0.59      0.59       296\n",
      "\n",
      "Acurácia: {:.4f}\n",
      " 0.5912162162162162\n",
      "Matriz de Confusão:\n",
      " Predito   Negativo  Neutro  Positivo  All\n",
      "Real                                     \n",
      "Negativo        21      26        12   59\n",
      "Neutro          19     122        27  168\n",
      "Positivo        13      24        32   69\n",
      "All             53     172        71  296 \n"
     ]
    },
    {
     "data": {
      "image/png": "[encoded data removed]",
      "text/plain": [
       "<Figure size 640x480 with 1 Axes>"
      ]
     },
     "metadata": {},
     "output_type": "display_data"
    },
    {
     "name": "stdout",
     "output_type": "stream",
     "text": [
      "\n",
      "\n",
      "\n",
      "VALIDAÇÃO CRUZADA\n",
      "\n"
     ]
    },
    {
     "name": "stderr",
     "output_type": "stream",
     "text": [
      "d:\\Docs\\Faculdade\\7o periodo\\SI\\projeto\\cod\\venv\\Lib\\site-packages\\sklearn\\feature_extraction\\text.py:517: UserWarning: The parameter 'token_pattern' will not be used since 'tokenizer' is not None'\n",
      "  warnings.warn(\n",
      "d:\\Docs\\Faculdade\\7o periodo\\SI\\projeto\\cod\\venv\\Lib\\site-packages\\sklearn\\feature_extraction\\text.py:517: UserWarning: The parameter 'token_pattern' will not be used since 'tokenizer' is not None'\n",
      "  warnings.warn(\n",
      "d:\\Docs\\Faculdade\\7o periodo\\SI\\projeto\\cod\\venv\\Lib\\site-packages\\sklearn\\feature_extraction\\text.py:517: UserWarning: The parameter 'token_pattern' will not be used since 'tokenizer' is not None'\n",
      "  warnings.warn(\n",
      "d:\\Docs\\Faculdade\\7o periodo\\SI\\projeto\\cod\\venv\\Lib\\site-packages\\sklearn\\feature_extraction\\text.py:517: UserWarning: The parameter 'token_pattern' will not be used since 'tokenizer' is not None'\n",
      "  warnings.warn(\n",
      "d:\\Docs\\Faculdade\\7o periodo\\SI\\projeto\\cod\\venv\\Lib\\site-packages\\sklearn\\feature_extraction\\text.py:517: UserWarning: The parameter 'token_pattern' will not be used since 'tokenizer' is not None'\n",
      "  warnings.warn(\n",
      "d:\\Docs\\Faculdade\\7o periodo\\SI\\projeto\\cod\\venv\\Lib\\site-packages\\sklearn\\feature_extraction\\text.py:517: UserWarning: The parameter 'token_pattern' will not be used since 'tokenizer' is not None'\n",
      "  warnings.warn(\n",
      "d:\\Docs\\Faculdade\\7o periodo\\SI\\projeto\\cod\\venv\\Lib\\site-packages\\sklearn\\feature_extraction\\text.py:517: UserWarning: The parameter 'token_pattern' will not be used since 'tokenizer' is not None'\n",
      "  warnings.warn(\n",
      "d:\\Docs\\Faculdade\\7o periodo\\SI\\projeto\\cod\\venv\\Lib\\site-packages\\sklearn\\feature_extraction\\text.py:517: UserWarning: The parameter 'token_pattern' will not be used since 'tokenizer' is not None'\n",
      "  warnings.warn(\n",
      "d:\\Docs\\Faculdade\\7o periodo\\SI\\projeto\\cod\\venv\\Lib\\site-packages\\sklearn\\feature_extraction\\text.py:517: UserWarning: The parameter 'token_pattern' will not be used since 'tokenizer' is not None'\n",
      "  warnings.warn(\n",
      "d:\\Docs\\Faculdade\\7o periodo\\SI\\projeto\\cod\\venv\\Lib\\site-packages\\sklearn\\feature_extraction\\text.py:517: UserWarning: The parameter 'token_pattern' will not be used since 'tokenizer' is not None'\n",
      "  warnings.warn(\n",
      "d:\\Docs\\Faculdade\\7o periodo\\SI\\projeto\\cod\\venv\\Lib\\site-packages\\sklearn\\feature_extraction\\text.py:517: UserWarning: The parameter 'token_pattern' will not be used since 'tokenizer' is not None'\n",
      "  warnings.warn(\n"
     ]
    },
    {
     "name": "stdout",
     "output_type": "stream",
     "text": [
      "************************************************************************************************************************************\n",
      "Modelo: Pipeline(steps=[('TfidfVectorizer',\n",
      "                 TfidfVectorizer(tokenizer=<bound method TweetTokenizer.tokenize of <nltk.tokenize.casual.TweetTokenizer object at 0x00000259AABAFC50>>)),\n",
      "                ('modelo', PassiveAggressiveClassifier())])\n",
      "\n",
      "AVALIANDO MODELO\n",
      "\n",
      "Relatório de Classificação:\n",
      "               precision    recall  f1-score   support\n",
      "\n",
      "    Negativo       0.46      0.44      0.45        59\n",
      "      Neutro       0.71      0.76      0.73       168\n",
      "    Positivo       0.51      0.43      0.47        69\n",
      "\n",
      "    accuracy                           0.62       296\n",
      "   macro avg       0.56      0.54      0.55       296\n",
      "weighted avg       0.61      0.62      0.61       296\n",
      "\n",
      "Acurácia: {:.4f}\n",
      " 0.6182432432432432\n",
      "Matriz de Confusão:\n",
      " Predito   Negativo  Neutro  Positivo  All\n",
      "Real                                     \n",
      "Negativo        26      26         7   59\n",
      "Neutro          19     127        22  168\n",
      "Positivo        12      27        30   69\n",
      "All             57     180        59  296 \n"
     ]
    },
    {
     "data": {
      "image/png": "[encoded data removed]",
      "text/plain": [
       "<Figure size 640x480 with 1 Axes>"
      ]
     },
     "metadata": {},
     "output_type": "display_data"
    },
    {
     "name": "stdout",
     "output_type": "stream",
     "text": [
      "\n",
      "\n",
      "\n",
      "VALIDAÇÃO CRUZADA\n",
      "\n"
     ]
    },
    {
     "name": "stderr",
     "output_type": "stream",
     "text": [
      "d:\\Docs\\Faculdade\\7o periodo\\SI\\projeto\\cod\\venv\\Lib\\site-packages\\sklearn\\feature_extraction\\text.py:517: UserWarning: The parameter 'token_pattern' will not be used since 'tokenizer' is not None'\n",
      "  warnings.warn(\n",
      "d:\\Docs\\Faculdade\\7o periodo\\SI\\projeto\\cod\\venv\\Lib\\site-packages\\sklearn\\feature_extraction\\text.py:517: UserWarning: The parameter 'token_pattern' will not be used since 'tokenizer' is not None'\n",
      "  warnings.warn(\n",
      "d:\\Docs\\Faculdade\\7o periodo\\SI\\projeto\\cod\\venv\\Lib\\site-packages\\sklearn\\feature_extraction\\text.py:517: UserWarning: The parameter 'token_pattern' will not be used since 'tokenizer' is not None'\n",
      "  warnings.warn(\n",
      "d:\\Docs\\Faculdade\\7o periodo\\SI\\projeto\\cod\\venv\\Lib\\site-packages\\sklearn\\feature_extraction\\text.py:517: UserWarning: The parameter 'token_pattern' will not be used since 'tokenizer' is not None'\n",
      "  warnings.warn(\n",
      "d:\\Docs\\Faculdade\\7o periodo\\SI\\projeto\\cod\\venv\\Lib\\site-packages\\sklearn\\feature_extraction\\text.py:517: UserWarning: The parameter 'token_pattern' will not be used since 'tokenizer' is not None'\n",
      "  warnings.warn(\n",
      "d:\\Docs\\Faculdade\\7o periodo\\SI\\projeto\\cod\\venv\\Lib\\site-packages\\sklearn\\feature_extraction\\text.py:517: UserWarning: The parameter 'token_pattern' will not be used since 'tokenizer' is not None'\n",
      "  warnings.warn(\n",
      "d:\\Docs\\Faculdade\\7o periodo\\SI\\projeto\\cod\\venv\\Lib\\site-packages\\sklearn\\feature_extraction\\text.py:517: UserWarning: The parameter 'token_pattern' will not be used since 'tokenizer' is not None'\n",
      "  warnings.warn(\n",
      "d:\\Docs\\Faculdade\\7o periodo\\SI\\projeto\\cod\\venv\\Lib\\site-packages\\sklearn\\feature_extraction\\text.py:517: UserWarning: The parameter 'token_pattern' will not be used since 'tokenizer' is not None'\n",
      "  warnings.warn(\n",
      "d:\\Docs\\Faculdade\\7o periodo\\SI\\projeto\\cod\\venv\\Lib\\site-packages\\sklearn\\feature_extraction\\text.py:517: UserWarning: The parameter 'token_pattern' will not be used since 'tokenizer' is not None'\n",
      "  warnings.warn(\n",
      "d:\\Docs\\Faculdade\\7o periodo\\SI\\projeto\\cod\\venv\\Lib\\site-packages\\sklearn\\feature_extraction\\text.py:517: UserWarning: The parameter 'token_pattern' will not be used since 'tokenizer' is not None'\n",
      "  warnings.warn(\n",
      "d:\\Docs\\Faculdade\\7o periodo\\SI\\projeto\\cod\\venv\\Lib\\site-packages\\sklearn\\feature_extraction\\text.py:517: UserWarning: The parameter 'token_pattern' will not be used since 'tokenizer' is not None'\n",
      "  warnings.warn(\n"
     ]
    },
    {
     "name": "stdout",
     "output_type": "stream",
     "text": [
      "************************************************************************************************************************************\n",
      "Modelo: Pipeline(steps=[('countVectorizer',\n",
      "                 CountVectorizer(tokenizer=<bound method TweetTokenizer.tokenize of <nltk.tokenize.casual.TweetTokenizer object at 0x00000259AABAFC50>>)),\n",
      "                ('modelo', RandomForestClassifier())])\n",
      "\n",
      "AVALIANDO MODELO\n",
      "\n",
      "Relatório de Classificação:\n",
      "               precision    recall  f1-score   support\n",
      "\n",
      "    Negativo       0.70      0.27      0.39        59\n",
      "      Neutro       0.63      0.95      0.76       168\n",
      "    Positivo       0.59      0.19      0.29        69\n",
      "\n",
      "    accuracy                           0.64       296\n",
      "   macro avg       0.64      0.47      0.48       296\n",
      "weighted avg       0.64      0.64      0.58       296\n",
      "\n",
      "Acurácia: {:.4f}\n",
      " 0.6351351351351351\n",
      "Matriz de Confusão:\n",
      " Predito   Negativo  Neutro  Positivo  All\n",
      "Real                                     \n",
      "Negativo        16      41         2   59\n",
      "Neutro           2     159         7  168\n",
      "Positivo         5      51        13   69\n",
      "All             23     251        22  296 \n"
     ]
    },
    {
     "data": {
      "image/png": "[encoded data removed]",
      "text/plain": [
       "<Figure size 640x480 with 1 Axes>"
      ]
     },
     "metadata": {},
     "output_type": "display_data"
    },
    {
     "name": "stdout",
     "output_type": "stream",
     "text": [
      "\n",
      "\n",
      "\n",
      "VALIDAÇÃO CRUZADA\n",
      "\n"
     ]
    },
    {
     "name": "stderr",
     "output_type": "stream",
     "text": [
      "d:\\Docs\\Faculdade\\7o periodo\\SI\\projeto\\cod\\venv\\Lib\\site-packages\\sklearn\\feature_extraction\\text.py:517: UserWarning: The parameter 'token_pattern' will not be used since 'tokenizer' is not None'\n",
      "  warnings.warn(\n",
      "d:\\Docs\\Faculdade\\7o periodo\\SI\\projeto\\cod\\venv\\Lib\\site-packages\\sklearn\\feature_extraction\\text.py:517: UserWarning: The parameter 'token_pattern' will not be used since 'tokenizer' is not None'\n",
      "  warnings.warn(\n",
      "d:\\Docs\\Faculdade\\7o periodo\\SI\\projeto\\cod\\venv\\Lib\\site-packages\\sklearn\\feature_extraction\\text.py:517: UserWarning: The parameter 'token_pattern' will not be used since 'tokenizer' is not None'\n",
      "  warnings.warn(\n",
      "d:\\Docs\\Faculdade\\7o periodo\\SI\\projeto\\cod\\venv\\Lib\\site-packages\\sklearn\\feature_extraction\\text.py:517: UserWarning: The parameter 'token_pattern' will not be used since 'tokenizer' is not None'\n",
      "  warnings.warn(\n",
      "d:\\Docs\\Faculdade\\7o periodo\\SI\\projeto\\cod\\venv\\Lib\\site-packages\\sklearn\\feature_extraction\\text.py:517: UserWarning: The parameter 'token_pattern' will not be used since 'tokenizer' is not None'\n",
      "  warnings.warn(\n",
      "d:\\Docs\\Faculdade\\7o periodo\\SI\\projeto\\cod\\venv\\Lib\\site-packages\\sklearn\\feature_extraction\\text.py:517: UserWarning: The parameter 'token_pattern' will not be used since 'tokenizer' is not None'\n",
      "  warnings.warn(\n",
      "d:\\Docs\\Faculdade\\7o periodo\\SI\\projeto\\cod\\venv\\Lib\\site-packages\\sklearn\\feature_extraction\\text.py:517: UserWarning: The parameter 'token_pattern' will not be used since 'tokenizer' is not None'\n",
      "  warnings.warn(\n",
      "d:\\Docs\\Faculdade\\7o periodo\\SI\\projeto\\cod\\venv\\Lib\\site-packages\\sklearn\\feature_extraction\\text.py:517: UserWarning: The parameter 'token_pattern' will not be used since 'tokenizer' is not None'\n",
      "  warnings.warn(\n",
      "d:\\Docs\\Faculdade\\7o periodo\\SI\\projeto\\cod\\venv\\Lib\\site-packages\\sklearn\\feature_extraction\\text.py:517: UserWarning: The parameter 'token_pattern' will not be used since 'tokenizer' is not None'\n",
      "  warnings.warn(\n",
      "d:\\Docs\\Faculdade\\7o periodo\\SI\\projeto\\cod\\venv\\Lib\\site-packages\\sklearn\\feature_extraction\\text.py:517: UserWarning: The parameter 'token_pattern' will not be used since 'tokenizer' is not None'\n",
      "  warnings.warn(\n",
      "d:\\Docs\\Faculdade\\7o periodo\\SI\\projeto\\cod\\venv\\Lib\\site-packages\\sklearn\\feature_extraction\\text.py:517: UserWarning: The parameter 'token_pattern' will not be used since 'tokenizer' is not None'\n",
      "  warnings.warn(\n"
     ]
    },
    {
     "name": "stdout",
     "output_type": "stream",
     "text": [
      "************************************************************************************************************************************\n",
      "Modelo: Pipeline(steps=[('TfidfVectorizer',\n",
      "                 TfidfVectorizer(tokenizer=<bound method TweetTokenizer.tokenize of <nltk.tokenize.casual.TweetTokenizer object at 0x00000259AABAFC50>>)),\n",
      "                ('modelo', RandomForestClassifier())])\n",
      "\n",
      "AVALIANDO MODELO\n",
      "\n",
      "Relatório de Classificação:\n",
      "               precision    recall  f1-score   support\n",
      "\n",
      "    Negativo       0.55      0.20      0.30        59\n",
      "      Neutro       0.62      0.94      0.75       168\n",
      "    Positivo       0.58      0.16      0.25        69\n",
      "\n",
      "    accuracy                           0.61       296\n",
      "   macro avg       0.58      0.43      0.43       296\n",
      "weighted avg       0.60      0.61      0.54       296\n",
      "\n",
      "Acurácia: {:.4f}\n",
      " 0.6114864864864865\n",
      "Matriz de Confusão:\n",
      " Predito   Negativo  Neutro  Positivo  All\n",
      "Real                                     \n",
      "Negativo        12      46         1   59\n",
      "Neutro           3     158         7  168\n",
      "Positivo         7      51        11   69\n",
      "All             22     255        19  296 \n"
     ]
    },
    {
     "data": {
      "image/png": "[encoded data removed]",
      "text/plain": [
       "<Figure size 640x480 with 1 Axes>"
      ]
     },
     "metadata": {},
     "output_type": "display_data"
    },
    {
     "name": "stdout",
     "output_type": "stream",
     "text": [
      "\n",
      "\n",
      "\n",
      "VALIDAÇÃO CRUZADA\n",
      "\n"
     ]
    },
    {
     "name": "stderr",
     "output_type": "stream",
     "text": [
      "d:\\Docs\\Faculdade\\7o periodo\\SI\\projeto\\cod\\venv\\Lib\\site-packages\\sklearn\\feature_extraction\\text.py:517: UserWarning: The parameter 'token_pattern' will not be used since 'tokenizer' is not None'\n",
      "  warnings.warn(\n",
      "d:\\Docs\\Faculdade\\7o periodo\\SI\\projeto\\cod\\venv\\Lib\\site-packages\\sklearn\\feature_extraction\\text.py:517: UserWarning: The parameter 'token_pattern' will not be used since 'tokenizer' is not None'\n",
      "  warnings.warn(\n",
      "d:\\Docs\\Faculdade\\7o periodo\\SI\\projeto\\cod\\venv\\Lib\\site-packages\\sklearn\\feature_extraction\\text.py:517: UserWarning: The parameter 'token_pattern' will not be used since 'tokenizer' is not None'\n",
      "  warnings.warn(\n",
      "d:\\Docs\\Faculdade\\7o periodo\\SI\\projeto\\cod\\venv\\Lib\\site-packages\\sklearn\\feature_extraction\\text.py:517: UserWarning: The parameter 'token_pattern' will not be used since 'tokenizer' is not None'\n",
      "  warnings.warn(\n",
      "d:\\Docs\\Faculdade\\7o periodo\\SI\\projeto\\cod\\venv\\Lib\\site-packages\\sklearn\\feature_extraction\\text.py:517: UserWarning: The parameter 'token_pattern' will not be used since 'tokenizer' is not None'\n",
      "  warnings.warn(\n",
      "d:\\Docs\\Faculdade\\7o periodo\\SI\\projeto\\cod\\venv\\Lib\\site-packages\\sklearn\\feature_extraction\\text.py:517: UserWarning: The parameter 'token_pattern' will not be used since 'tokenizer' is not None'\n",
      "  warnings.warn(\n",
      "d:\\Docs\\Faculdade\\7o periodo\\SI\\projeto\\cod\\venv\\Lib\\site-packages\\sklearn\\feature_extraction\\text.py:517: UserWarning: The parameter 'token_pattern' will not be used since 'tokenizer' is not None'\n",
      "  warnings.warn(\n",
      "d:\\Docs\\Faculdade\\7o periodo\\SI\\projeto\\cod\\venv\\Lib\\site-packages\\sklearn\\feature_extraction\\text.py:517: UserWarning: The parameter 'token_pattern' will not be used since 'tokenizer' is not None'\n",
      "  warnings.warn(\n",
      "d:\\Docs\\Faculdade\\7o periodo\\SI\\projeto\\cod\\venv\\Lib\\site-packages\\sklearn\\feature_extraction\\text.py:517: UserWarning: The parameter 'token_pattern' will not be used since 'tokenizer' is not None'\n",
      "  warnings.warn(\n",
      "d:\\Docs\\Faculdade\\7o periodo\\SI\\projeto\\cod\\venv\\Lib\\site-packages\\sklearn\\feature_extraction\\text.py:517: UserWarning: The parameter 'token_pattern' will not be used since 'tokenizer' is not None'\n",
      "  warnings.warn(\n",
      "d:\\Docs\\Faculdade\\7o periodo\\SI\\projeto\\cod\\venv\\Lib\\site-packages\\sklearn\\feature_extraction\\text.py:517: UserWarning: The parameter 'token_pattern' will not be used since 'tokenizer' is not None'\n",
      "  warnings.warn(\n"
     ]
    },
    {
     "name": "stdout",
     "output_type": "stream",
     "text": [
      "************************************************************************************************************************************\n",
      "Modelo: Pipeline(steps=[('countVectorizer',\n",
      "                 CountVectorizer(tokenizer=<bound method TweetTokenizer.tokenize of <nltk.tokenize.casual.TweetTokenizer object at 0x00000259AABAFC50>>)),\n",
      "                ('modelo', SGDClassifier())])\n",
      "\n",
      "AVALIANDO MODELO\n",
      "\n",
      "Relatório de Classificação:\n",
      "               precision    recall  f1-score   support\n",
      "\n",
      "    Negativo       0.48      0.41      0.44        59\n",
      "      Neutro       0.70      0.77      0.73       168\n",
      "    Positivo       0.42      0.36      0.39        69\n",
      "\n",
      "    accuracy                           0.60       296\n",
      "   macro avg       0.53      0.51      0.52       296\n",
      "weighted avg       0.59      0.60      0.59       296\n",
      "\n",
      "Acurácia: {:.4f}\n",
      " 0.6047297297297297\n",
      "Matriz de Confusão:\n",
      " Predito   Negativo  Neutro  Positivo  All\n",
      "Real                                     \n",
      "Negativo        24      25        10   59\n",
      "Neutro          13     130        25  168\n",
      "Positivo        13      31        25   69\n",
      "All             50     186        60  296 \n"
     ]
    },
    {
     "data": {
      "image/png": "[encoded data removed]",
      "text/plain": [
       "<Figure size 640x480 with 1 Axes>"
      ]
     },
     "metadata": {},
     "output_type": "display_data"
    },
    {
     "name": "stdout",
     "output_type": "stream",
     "text": [
      "\n",
      "\n",
      "\n",
      "VALIDAÇÃO CRUZADA\n",
      "\n"
     ]
    },
    {
     "name": "stderr",
     "output_type": "stream",
     "text": [
      "d:\\Docs\\Faculdade\\7o periodo\\SI\\projeto\\cod\\venv\\Lib\\site-packages\\sklearn\\feature_extraction\\text.py:517: UserWarning: The parameter 'token_pattern' will not be used since 'tokenizer' is not None'\n",
      "  warnings.warn(\n",
      "d:\\Docs\\Faculdade\\7o periodo\\SI\\projeto\\cod\\venv\\Lib\\site-packages\\sklearn\\feature_extraction\\text.py:517: UserWarning: The parameter 'token_pattern' will not be used since 'tokenizer' is not None'\n",
      "  warnings.warn(\n",
      "d:\\Docs\\Faculdade\\7o periodo\\SI\\projeto\\cod\\venv\\Lib\\site-packages\\sklearn\\feature_extraction\\text.py:517: UserWarning: The parameter 'token_pattern' will not be used since 'tokenizer' is not None'\n",
      "  warnings.warn(\n",
      "d:\\Docs\\Faculdade\\7o periodo\\SI\\projeto\\cod\\venv\\Lib\\site-packages\\sklearn\\feature_extraction\\text.py:517: UserWarning: The parameter 'token_pattern' will not be used since 'tokenizer' is not None'\n",
      "  warnings.warn(\n",
      "d:\\Docs\\Faculdade\\7o periodo\\SI\\projeto\\cod\\venv\\Lib\\site-packages\\sklearn\\feature_extraction\\text.py:517: UserWarning: The parameter 'token_pattern' will not be used since 'tokenizer' is not None'\n",
      "  warnings.warn(\n",
      "d:\\Docs\\Faculdade\\7o periodo\\SI\\projeto\\cod\\venv\\Lib\\site-packages\\sklearn\\feature_extraction\\text.py:517: UserWarning: The parameter 'token_pattern' will not be used since 'tokenizer' is not None'\n",
      "  warnings.warn(\n",
      "d:\\Docs\\Faculdade\\7o periodo\\SI\\projeto\\cod\\venv\\Lib\\site-packages\\sklearn\\feature_extraction\\text.py:517: UserWarning: The parameter 'token_pattern' will not be used since 'tokenizer' is not None'\n",
      "  warnings.warn(\n",
      "d:\\Docs\\Faculdade\\7o periodo\\SI\\projeto\\cod\\venv\\Lib\\site-packages\\sklearn\\feature_extraction\\text.py:517: UserWarning: The parameter 'token_pattern' will not be used since 'tokenizer' is not None'\n",
      "  warnings.warn(\n",
      "d:\\Docs\\Faculdade\\7o periodo\\SI\\projeto\\cod\\venv\\Lib\\site-packages\\sklearn\\feature_extraction\\text.py:517: UserWarning: The parameter 'token_pattern' will not be used since 'tokenizer' is not None'\n",
      "  warnings.warn(\n",
      "d:\\Docs\\Faculdade\\7o periodo\\SI\\projeto\\cod\\venv\\Lib\\site-packages\\sklearn\\feature_extraction\\text.py:517: UserWarning: The parameter 'token_pattern' will not be used since 'tokenizer' is not None'\n",
      "  warnings.warn(\n",
      "d:\\Docs\\Faculdade\\7o periodo\\SI\\projeto\\cod\\venv\\Lib\\site-packages\\sklearn\\feature_extraction\\text.py:517: UserWarning: The parameter 'token_pattern' will not be used since 'tokenizer' is not None'\n",
      "  warnings.warn(\n"
     ]
    },
    {
     "name": "stdout",
     "output_type": "stream",
     "text": [
      "************************************************************************************************************************************\n",
      "Modelo: Pipeline(steps=[('TfidfVectorizer',\n",
      "                 TfidfVectorizer(tokenizer=<bound method TweetTokenizer.tokenize of <nltk.tokenize.casual.TweetTokenizer object at 0x00000259AABAFC50>>)),\n",
      "                ('modelo', SGDClassifier())])\n",
      "\n",
      "AVALIANDO MODELO\n",
      "\n",
      "Relatório de Classificação:\n",
      "               precision    recall  f1-score   support\n",
      "\n",
      "    Negativo       0.45      0.42      0.44        59\n",
      "      Neutro       0.72      0.74      0.73       168\n",
      "    Positivo       0.49      0.48      0.48        69\n",
      "\n",
      "    accuracy                           0.61       296\n",
      "   macro avg       0.55      0.55      0.55       296\n",
      "weighted avg       0.61      0.61      0.61       296\n",
      "\n",
      "Acurácia: {:.4f}\n",
      " 0.6148648648648649\n",
      "Matriz de Confusão:\n",
      " Predito   Negativo  Neutro  Positivo  All\n",
      "Real                                     \n",
      "Negativo        25      25         9   59\n",
      "Neutro          18     124        26  168\n",
      "Positivo        12      24        33   69\n",
      "All             55     173        68  296 \n"
     ]
    },
    {
     "data": {
      "image/png": "[encoded data removed]",
      "text/plain": [
       "<Figure size 640x480 with 1 Axes>"
      ]
     },
     "metadata": {},
     "output_type": "display_data"
    },
    {
     "name": "stdout",
     "output_type": "stream",
     "text": [
      "\n",
      "\n",
      "\n",
      "VALIDAÇÃO CRUZADA\n",
      "\n"
     ]
    },
    {
     "name": "stderr",
     "output_type": "stream",
     "text": [
      "d:\\Docs\\Faculdade\\7o periodo\\SI\\projeto\\cod\\venv\\Lib\\site-packages\\sklearn\\feature_extraction\\text.py:517: UserWarning: The parameter 'token_pattern' will not be used since 'tokenizer' is not None'\n",
      "  warnings.warn(\n",
      "d:\\Docs\\Faculdade\\7o periodo\\SI\\projeto\\cod\\venv\\Lib\\site-packages\\sklearn\\feature_extraction\\text.py:517: UserWarning: The parameter 'token_pattern' will not be used since 'tokenizer' is not None'\n",
      "  warnings.warn(\n",
      "d:\\Docs\\Faculdade\\7o periodo\\SI\\projeto\\cod\\venv\\Lib\\site-packages\\sklearn\\feature_extraction\\text.py:517: UserWarning: The parameter 'token_pattern' will not be used since 'tokenizer' is not None'\n",
      "  warnings.warn(\n",
      "d:\\Docs\\Faculdade\\7o periodo\\SI\\projeto\\cod\\venv\\Lib\\site-packages\\sklearn\\feature_extraction\\text.py:517: UserWarning: The parameter 'token_pattern' will not be used since 'tokenizer' is not None'\n",
      "  warnings.warn(\n",
      "d:\\Docs\\Faculdade\\7o periodo\\SI\\projeto\\cod\\venv\\Lib\\site-packages\\sklearn\\feature_extraction\\text.py:517: UserWarning: The parameter 'token_pattern' will not be used since 'tokenizer' is not None'\n",
      "  warnings.warn(\n",
      "d:\\Docs\\Faculdade\\7o periodo\\SI\\projeto\\cod\\venv\\Lib\\site-packages\\sklearn\\feature_extraction\\text.py:517: UserWarning: The parameter 'token_pattern' will not be used since 'tokenizer' is not None'\n",
      "  warnings.warn(\n",
      "d:\\Docs\\Faculdade\\7o periodo\\SI\\projeto\\cod\\venv\\Lib\\site-packages\\sklearn\\feature_extraction\\text.py:517: UserWarning: The parameter 'token_pattern' will not be used since 'tokenizer' is not None'\n",
      "  warnings.warn(\n",
      "d:\\Docs\\Faculdade\\7o periodo\\SI\\projeto\\cod\\venv\\Lib\\site-packages\\sklearn\\feature_extraction\\text.py:517: UserWarning: The parameter 'token_pattern' will not be used since 'tokenizer' is not None'\n",
      "  warnings.warn(\n",
      "d:\\Docs\\Faculdade\\7o periodo\\SI\\projeto\\cod\\venv\\Lib\\site-packages\\sklearn\\feature_extraction\\text.py:517: UserWarning: The parameter 'token_pattern' will not be used since 'tokenizer' is not None'\n",
      "  warnings.warn(\n",
      "d:\\Docs\\Faculdade\\7o periodo\\SI\\projeto\\cod\\venv\\Lib\\site-packages\\sklearn\\feature_extraction\\text.py:517: UserWarning: The parameter 'token_pattern' will not be used since 'tokenizer' is not None'\n",
      "  warnings.warn(\n",
      "d:\\Docs\\Faculdade\\7o periodo\\SI\\projeto\\cod\\venv\\Lib\\site-packages\\sklearn\\feature_extraction\\text.py:517: UserWarning: The parameter 'token_pattern' will not be used since 'tokenizer' is not None'\n",
      "  warnings.warn(\n"
     ]
    },
    {
     "name": "stdout",
     "output_type": "stream",
     "text": [
      "************************************************************************************************************************************\n",
      "Modelo: Pipeline(steps=[('countVectorizer',\n",
      "                 CountVectorizer(tokenizer=<bound method TweetTokenizer.tokenize of <nltk.tokenize.casual.TweetTokenizer object at 0x00000259AABAFC50>>)),\n",
      "                ('modelo', SVC())])\n",
      "\n",
      "AVALIANDO MODELO\n",
      "\n",
      "Relatório de Classificação:\n",
      "               precision    recall  f1-score   support\n",
      "\n",
      "    Negativo       0.67      0.07      0.12        59\n",
      "      Neutro       0.59      0.98      0.73       168\n",
      "    Positivo       0.62      0.07      0.13        69\n",
      "\n",
      "    accuracy                           0.59       296\n",
      "   macro avg       0.63      0.37      0.33       296\n",
      "weighted avg       0.61      0.59      0.47       296\n",
      "\n",
      "Acurácia: {:.4f}\n",
      " 0.5878378378378378\n",
      "Matriz de Confusão:\n",
      " Predito   Negativo  Neutro  Positivo  All\n",
      "Real                                     \n",
      "Negativo         4      54         1   59\n",
      "Neutro           1     165         2  168\n",
      "Positivo         1      63         5   69\n",
      "All              6     282         8  296 \n"
     ]
    },
    {
     "data": {
      "image/png": "[encoded data removed]",
      "text/plain": [
       "<Figure size 640x480 with 1 Axes>"
      ]
     },
     "metadata": {},
     "output_type": "display_data"
    },
    {
     "name": "stdout",
     "output_type": "stream",
     "text": [
      "\n",
      "\n",
      "\n",
      "VALIDAÇÃO CRUZADA\n",
      "\n"
     ]
    },
    {
     "name": "stderr",
     "output_type": "stream",
     "text": [
      "d:\\Docs\\Faculdade\\7o periodo\\SI\\projeto\\cod\\venv\\Lib\\site-packages\\sklearn\\feature_extraction\\text.py:517: UserWarning: The parameter 'token_pattern' will not be used since 'tokenizer' is not None'\n",
      "  warnings.warn(\n",
      "d:\\Docs\\Faculdade\\7o periodo\\SI\\projeto\\cod\\venv\\Lib\\site-packages\\sklearn\\feature_extraction\\text.py:517: UserWarning: The parameter 'token_pattern' will not be used since 'tokenizer' is not None'\n",
      "  warnings.warn(\n",
      "d:\\Docs\\Faculdade\\7o periodo\\SI\\projeto\\cod\\venv\\Lib\\site-packages\\sklearn\\feature_extraction\\text.py:517: UserWarning: The parameter 'token_pattern' will not be used since 'tokenizer' is not None'\n",
      "  warnings.warn(\n",
      "d:\\Docs\\Faculdade\\7o periodo\\SI\\projeto\\cod\\venv\\Lib\\site-packages\\sklearn\\feature_extraction\\text.py:517: UserWarning: The parameter 'token_pattern' will not be used since 'tokenizer' is not None'\n",
      "  warnings.warn(\n",
      "d:\\Docs\\Faculdade\\7o periodo\\SI\\projeto\\cod\\venv\\Lib\\site-packages\\sklearn\\feature_extraction\\text.py:517: UserWarning: The parameter 'token_pattern' will not be used since 'tokenizer' is not None'\n",
      "  warnings.warn(\n",
      "d:\\Docs\\Faculdade\\7o periodo\\SI\\projeto\\cod\\venv\\Lib\\site-packages\\sklearn\\feature_extraction\\text.py:517: UserWarning: The parameter 'token_pattern' will not be used since 'tokenizer' is not None'\n",
      "  warnings.warn(\n",
      "d:\\Docs\\Faculdade\\7o periodo\\SI\\projeto\\cod\\venv\\Lib\\site-packages\\sklearn\\feature_extraction\\text.py:517: UserWarning: The parameter 'token_pattern' will not be used since 'tokenizer' is not None'\n",
      "  warnings.warn(\n",
      "d:\\Docs\\Faculdade\\7o periodo\\SI\\projeto\\cod\\venv\\Lib\\site-packages\\sklearn\\feature_extraction\\text.py:517: UserWarning: The parameter 'token_pattern' will not be used since 'tokenizer' is not None'\n",
      "  warnings.warn(\n",
      "d:\\Docs\\Faculdade\\7o periodo\\SI\\projeto\\cod\\venv\\Lib\\site-packages\\sklearn\\feature_extraction\\text.py:517: UserWarning: The parameter 'token_pattern' will not be used since 'tokenizer' is not None'\n",
      "  warnings.warn(\n",
      "d:\\Docs\\Faculdade\\7o periodo\\SI\\projeto\\cod\\venv\\Lib\\site-packages\\sklearn\\feature_extraction\\text.py:517: UserWarning: The parameter 'token_pattern' will not be used since 'tokenizer' is not None'\n",
      "  warnings.warn(\n",
      "d:\\Docs\\Faculdade\\7o periodo\\SI\\projeto\\cod\\venv\\Lib\\site-packages\\sklearn\\feature_extraction\\text.py:517: UserWarning: The parameter 'token_pattern' will not be used since 'tokenizer' is not None'\n",
      "  warnings.warn(\n"
     ]
    },
    {
     "name": "stdout",
     "output_type": "stream",
     "text": [
      "************************************************************************************************************************************\n",
      "Modelo: Pipeline(steps=[('TfidfVectorizer',\n",
      "                 TfidfVectorizer(tokenizer=<bound method TweetTokenizer.tokenize of <nltk.tokenize.casual.TweetTokenizer object at 0x00000259AABAFC50>>)),\n",
      "                ('modelo', SVC())])\n",
      "\n",
      "AVALIANDO MODELO\n",
      "\n",
      "Relatório de Classificação:\n",
      "               precision    recall  f1-score   support\n",
      "\n",
      "    Negativo       0.70      0.12      0.20        59\n",
      "      Neutro       0.60      0.98      0.75       168\n",
      "    Positivo       0.67      0.12      0.20        69\n",
      "\n",
      "    accuracy                           0.61       296\n",
      "   macro avg       0.66      0.41      0.38       296\n",
      "weighted avg       0.64      0.61      0.51       296\n",
      "\n",
      "Acurácia: {:.4f}\n",
      " 0.6081081081081081\n",
      "Matriz de Confusão:\n",
      " Predito   Negativo  Neutro  Positivo  All\n",
      "Real                                     \n",
      "Negativo         7      51         1   59\n",
      "Neutro           0     165         3  168\n",
      "Positivo         3      58         8   69\n",
      "All             10     274        12  296 \n"
     ]
    },
    {
     "data": {
      "image/png": "[encoded data removed]",
      "text/plain": [
       "<Figure size 640x480 with 1 Axes>"
      ]
     },
     "metadata": {},
     "output_type": "display_data"
    },
    {
     "name": "stdout",
     "output_type": "stream",
     "text": [
      "\n",
      "\n",
      "\n",
      "VALIDAÇÃO CRUZADA\n",
      "\n"
     ]
    },
    {
     "name": "stderr",
     "output_type": "stream",
     "text": [
      "d:\\Docs\\Faculdade\\7o periodo\\SI\\projeto\\cod\\venv\\Lib\\site-packages\\sklearn\\feature_extraction\\text.py:517: UserWarning: The parameter 'token_pattern' will not be used since 'tokenizer' is not None'\n",
      "  warnings.warn(\n",
      "d:\\Docs\\Faculdade\\7o periodo\\SI\\projeto\\cod\\venv\\Lib\\site-packages\\sklearn\\feature_extraction\\text.py:517: UserWarning: The parameter 'token_pattern' will not be used since 'tokenizer' is not None'\n",
      "  warnings.warn(\n",
      "d:\\Docs\\Faculdade\\7o periodo\\SI\\projeto\\cod\\venv\\Lib\\site-packages\\sklearn\\feature_extraction\\text.py:517: UserWarning: The parameter 'token_pattern' will not be used since 'tokenizer' is not None'\n",
      "  warnings.warn(\n",
      "d:\\Docs\\Faculdade\\7o periodo\\SI\\projeto\\cod\\venv\\Lib\\site-packages\\sklearn\\feature_extraction\\text.py:517: UserWarning: The parameter 'token_pattern' will not be used since 'tokenizer' is not None'\n",
      "  warnings.warn(\n",
      "d:\\Docs\\Faculdade\\7o periodo\\SI\\projeto\\cod\\venv\\Lib\\site-packages\\sklearn\\feature_extraction\\text.py:517: UserWarning: The parameter 'token_pattern' will not be used since 'tokenizer' is not None'\n",
      "  warnings.warn(\n",
      "d:\\Docs\\Faculdade\\7o periodo\\SI\\projeto\\cod\\venv\\Lib\\site-packages\\sklearn\\feature_extraction\\text.py:517: UserWarning: The parameter 'token_pattern' will not be used since 'tokenizer' is not None'\n",
      "  warnings.warn(\n",
      "d:\\Docs\\Faculdade\\7o periodo\\SI\\projeto\\cod\\venv\\Lib\\site-packages\\sklearn\\feature_extraction\\text.py:517: UserWarning: The parameter 'token_pattern' will not be used since 'tokenizer' is not None'\n",
      "  warnings.warn(\n",
      "d:\\Docs\\Faculdade\\7o periodo\\SI\\projeto\\cod\\venv\\Lib\\site-packages\\sklearn\\feature_extraction\\text.py:517: UserWarning: The parameter 'token_pattern' will not be used since 'tokenizer' is not None'\n",
      "  warnings.warn(\n",
      "d:\\Docs\\Faculdade\\7o periodo\\SI\\projeto\\cod\\venv\\Lib\\site-packages\\sklearn\\feature_extraction\\text.py:517: UserWarning: The parameter 'token_pattern' will not be used since 'tokenizer' is not None'\n",
      "  warnings.warn(\n",
      "d:\\Docs\\Faculdade\\7o periodo\\SI\\projeto\\cod\\venv\\Lib\\site-packages\\sklearn\\feature_extraction\\text.py:517: UserWarning: The parameter 'token_pattern' will not be used since 'tokenizer' is not None'\n",
      "  warnings.warn(\n"
     ]
    }
   ],
   "source": [
    "relatorios=[]\n",
    "modelos=[]\n",
    "\n",
    "for i in range(1, 11):\n",
    "    tipo_modelo = escolhe_pipeline(i)\n",
    "    nome = str(tipo_modelo)\n",
    "    modelo = tipo_modelo.fit(x_treino, y_treino)\n",
    "    modelo_pred = modelo.predict(x_teste)\n",
    "\n",
    "    relatorios.append(metrics.classification_report(y_teste, modelo_pred, output_dict=True))\n",
    "    modelos.append(nome)\n",
    "\n",
    "    print(\"*\"*132)\n",
    "    print(f'Modelo: {nome}\\n')\n",
    "    print(\"AVALIANDO MODELO\\n\")\n",
    "    matriz_confusao(y_teste, modelo_pred)\n",
    "\n",
    "    print(\"\\nVALIDAÇÃO CRUZADA\\n\")\n",
    "    validacao_cruzada = cross_val_predict(modelo, x, y, cv=10)\n",
    "\n"
   ]
  },
  {
   "cell_type": "code",
   "execution_count": 86,
   "id": "6f783aa4",
   "metadata": {},
   "outputs": [],
   "source": [
    "colunas = ['modelo', 'f1_score', 'accuracy_score']\n",
    "relatorio_df = pd.DataFrame(columns=colunas)"
   ]
  },
  {
   "cell_type": "code",
   "execution_count": 92,
   "id": "0ff049f2",
   "metadata": {},
   "outputs": [],
   "source": [
    "for i in range(len(relatorios)):\n",
    "    relatorio_df.loc[i] = [modelos[i], round(relatorios[i]['weighted avg']['f1-score'], 2), round(relatorios[i]['accuracy'], 2)]"
   ]
  },
  {
   "cell_type": "code",
   "execution_count": 94,
   "id": "506bddb3",
   "metadata": {},
   "outputs": [],
   "source": [
    "def formatar_nome_modelo(modelo):\n",
    "    vec = modelo[18:33]\n",
    "\n",
    "    ini_nome = (modelo.rfind('modelo')+9)\n",
    "    fim_nome = (modelo.rfind('('))\n",
    "\n",
    "    classif = modelo[ini_nome: fim_nome]\n",
    "    return(f'{classif} - {vec}')"
   ]
  },
  {
   "cell_type": "code",
   "execution_count": 95,
   "id": "a3d9cd0e",
   "metadata": {},
   "outputs": [
    {
     "data": {
      "text/html": [
       "<div>\n",
       "<style scoped>\n",
       "    .dataframe tbody tr th:only-of-type {\n",
       "        vertical-align: middle;\n",
       "    }\n",
       "\n",
       "    .dataframe tbody tr th {\n",
       "        vertical-align: top;\n",
       "    }\n",
       "\n",
       "    .dataframe thead th {\n",
       "        text-align: right;\n",
       "    }\n",
       "</style>\n",
       "<table border=\"1\" class=\"dataframe\">\n",
       "  <thead>\n",
       "    <tr style=\"text-align: right;\">\n",
       "      <th></th>\n",
       "      <th>modelo</th>\n",
       "      <th>f1_score</th>\n",
       "      <th>accuracy_score</th>\n",
       "    </tr>\n",
       "  </thead>\n",
       "  <tbody>\n",
       "    <tr>\n",
       "      <th>0</th>\n",
       "      <td>LogisticRegression - countVectorizer</td>\n",
       "      <td>0.62</td>\n",
       "      <td>0.64</td>\n",
       "    </tr>\n",
       "    <tr>\n",
       "      <th>3</th>\n",
       "      <td>PassiveAggressiveClassifier - TfidfVectorizer</td>\n",
       "      <td>0.61</td>\n",
       "      <td>0.62</td>\n",
       "    </tr>\n",
       "    <tr>\n",
       "      <th>7</th>\n",
       "      <td>SGDClassifier - TfidfVectorizer</td>\n",
       "      <td>0.61</td>\n",
       "      <td>0.61</td>\n",
       "    </tr>\n",
       "    <tr>\n",
       "      <th>6</th>\n",
       "      <td>SGDClassifier - countVectorizer</td>\n",
       "      <td>0.59</td>\n",
       "      <td>0.60</td>\n",
       "    </tr>\n",
       "    <tr>\n",
       "      <th>2</th>\n",
       "      <td>PassiveAggressiveClassifier - countVectorizer</td>\n",
       "      <td>0.59</td>\n",
       "      <td>0.59</td>\n",
       "    </tr>\n",
       "    <tr>\n",
       "      <th>4</th>\n",
       "      <td>RandomForestClassifier - countVectorizer</td>\n",
       "      <td>0.58</td>\n",
       "      <td>0.64</td>\n",
       "    </tr>\n",
       "    <tr>\n",
       "      <th>5</th>\n",
       "      <td>RandomForestClassifier - TfidfVectorizer</td>\n",
       "      <td>0.54</td>\n",
       "      <td>0.61</td>\n",
       "    </tr>\n",
       "    <tr>\n",
       "      <th>1</th>\n",
       "      <td>LogisticRegression - TfidfVectorizer</td>\n",
       "      <td>0.51</td>\n",
       "      <td>0.60</td>\n",
       "    </tr>\n",
       "    <tr>\n",
       "      <th>9</th>\n",
       "      <td>SVC - TfidfVectorizer</td>\n",
       "      <td>0.51</td>\n",
       "      <td>0.61</td>\n",
       "    </tr>\n",
       "    <tr>\n",
       "      <th>8</th>\n",
       "      <td>SVC - countVectorizer</td>\n",
       "      <td>0.47</td>\n",
       "      <td>0.59</td>\n",
       "    </tr>\n",
       "  </tbody>\n",
       "</table>\n",
       "</div>"
      ],
      "text/plain": [
       "                                          modelo  f1_score  accuracy_score\n",
       "0           LogisticRegression - countVectorizer      0.62            0.64\n",
       "3  PassiveAggressiveClassifier - TfidfVectorizer      0.61            0.62\n",
       "7                SGDClassifier - TfidfVectorizer      0.61            0.61\n",
       "6                SGDClassifier - countVectorizer      0.59            0.60\n",
       "2  PassiveAggressiveClassifier - countVectorizer      0.59            0.59\n",
       "4       RandomForestClassifier - countVectorizer      0.58            0.64\n",
       "5       RandomForestClassifier - TfidfVectorizer      0.54            0.61\n",
       "1           LogisticRegression - TfidfVectorizer      0.51            0.60\n",
       "9                          SVC - TfidfVectorizer      0.51            0.61\n",
       "8                          SVC - countVectorizer      0.47            0.59"
      ]
     },
     "execution_count": 95,
     "metadata": {},
     "output_type": "execute_result"
    }
   ],
   "source": [
    "relatorio_df['modelo'] = relatorio_df['modelo'].apply(formatar_nome_modelo)\n",
    "relatorio_df.sort_values(by='f1_score', ascending=False)"
   ]
  }
 ],
 "metadata": {
  "kernelspec": {
   "display_name": "venv",
   "language": "python",
   "name": "python3"
  },
  "language_info": {
   "codemirror_mode": {
    "name": "ipython",
    "version": 3
   },
   "file_extension": ".py",
   "mimetype": "text/x-python",
   "name": "python",
   "nbconvert_exporter": "python",
   "pygments_lexer": "ipython3",
   "version": "3.13.3"
  }
 },
 "nbformat": 4,
 "nbformat_minor": 5
}
