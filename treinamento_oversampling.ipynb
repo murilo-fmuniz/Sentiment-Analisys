{
 "cells": [
  {
   "cell_type": "code",
   "execution_count": 109,
   "id": "c19b4167",
   "metadata": {},
   "outputs": [],
   "source": [
    "import pandas as pd"
   ]
  },
  {
   "cell_type": "code",
   "execution_count": 110,
   "id": "7e091362",
   "metadata": {},
   "outputs": [
    {
     "name": "stdout",
     "output_type": "stream",
     "text": [
      "Número de linhas antes da remoção de NaN: 1000\n",
      "Número de linhas após a remoção de NaN: 985\n"
     ]
    },
    {
     "data": {
      "text/html": [
       "<div>\n",
       "<style scoped>\n",
       "    .dataframe tbody tr th:only-of-type {\n",
       "        vertical-align: middle;\n",
       "    }\n",
       "\n",
       "    .dataframe tbody tr th {\n",
       "        vertical-align: top;\n",
       "    }\n",
       "\n",
       "    .dataframe thead th {\n",
       "        text-align: right;\n",
       "    }\n",
       "</style>\n",
       "<table border=\"1\" class=\"dataframe\">\n",
       "  <thead>\n",
       "    <tr style=\"text-align: right;\">\n",
       "      <th></th>\n",
       "      <th>texto_limpo</th>\n",
       "      <th>sentimento</th>\n",
       "      <th>Query</th>\n",
       "    </tr>\n",
       "  </thead>\n",
       "  <tbody>\n",
       "    <tr>\n",
       "      <th>0</th>\n",
       "      <td>Ok, estou ansioso.</td>\n",
       "      <td>Positivo</td>\n",
       "      <td>Palmeiras</td>\n",
       "    </tr>\n",
       "    <tr>\n",
       "      <th>1</th>\n",
       "      <td>que privilégio ter visto o endrick jogar no pa...</td>\n",
       "      <td>Positivo</td>\n",
       "      <td>Palmeiras</td>\n",
       "    </tr>\n",
       "    <tr>\n",
       "      <th>2</th>\n",
       "      <td>Meu trio</td>\n",
       "      <td>Positivo</td>\n",
       "      <td>Palmeiras</td>\n",
       "    </tr>\n",
       "    <tr>\n",
       "      <th>3</th>\n",
       "      <td>A torcida do Palmeiras está presente em qualqu...</td>\n",
       "      <td>Neutro</td>\n",
       "      <td>Palmeiras</td>\n",
       "    </tr>\n",
       "    <tr>\n",
       "      <th>4</th>\n",
       "      <td>Torcedores do porto no Instagram o Palmeiras n...</td>\n",
       "      <td>Neutro</td>\n",
       "      <td>Palmeiras</td>\n",
       "    </tr>\n",
       "  </tbody>\n",
       "</table>\n",
       "</div>"
      ],
      "text/plain": [
       "                                         texto_limpo sentimento      Query\n",
       "0                                 Ok, estou ansioso.   Positivo  Palmeiras\n",
       "1  que privilégio ter visto o endrick jogar no pa...   Positivo  Palmeiras\n",
       "2                                           Meu trio   Positivo  Palmeiras\n",
       "3  A torcida do Palmeiras está presente em qualqu...     Neutro  Palmeiras\n",
       "4  Torcedores do porto no Instagram o Palmeiras n...     Neutro  Palmeiras"
      ]
     },
     "execution_count": 110,
     "metadata": {},
     "output_type": "execute_result"
    }
   ],
   "source": [
    "import pandas as pd\n",
    "\n",
    "df = pd.read_csv('tweets_para_treinamento.csv')\n",
    "\n",
    "# --- NOVO: Tratamento de NaN diretamente no notebook de treinamento ---\n",
    "print(f\"Número de linhas antes da remoção de NaN: {len(df)}\")\n",
    "\n",
    "# Remove linhas onde 'texto_limpo' OU 'sentimento' são NaN\n",
    "# Essas são as colunas que você usa para x e y\n",
    "df.dropna(subset=['texto_limpo', 'sentimento'], inplace=True) \n",
    "\n",
    "print(f\"Número de linhas após a remoção de NaN: {len(df)}\")\n",
    "# -------------------------------------------------------------------\n",
    "\n",
    "df.head()"
   ]
  },
  {
   "cell_type": "code",
   "execution_count": 111,
   "id": "aaa3b5e6",
   "metadata": {},
   "outputs": [
    {
     "data": {
      "text/html": [
       "<div>\n",
       "<style scoped>\n",
       "    .dataframe tbody tr th:only-of-type {\n",
       "        vertical-align: middle;\n",
       "    }\n",
       "\n",
       "    .dataframe tbody tr th {\n",
       "        vertical-align: top;\n",
       "    }\n",
       "\n",
       "    .dataframe thead th {\n",
       "        text-align: right;\n",
       "    }\n",
       "</style>\n",
       "<table border=\"1\" class=\"dataframe\">\n",
       "  <thead>\n",
       "    <tr style=\"text-align: right;\">\n",
       "      <th></th>\n",
       "      <th>texto_limpo</th>\n",
       "      <th>sentimento</th>\n",
       "    </tr>\n",
       "  </thead>\n",
       "  <tbody>\n",
       "    <tr>\n",
       "      <th>0</th>\n",
       "      <td>Ok, estou ansioso.</td>\n",
       "      <td>Positivo</td>\n",
       "    </tr>\n",
       "    <tr>\n",
       "      <th>1</th>\n",
       "      <td>que privilégio ter visto o endrick jogar no pa...</td>\n",
       "      <td>Positivo</td>\n",
       "    </tr>\n",
       "    <tr>\n",
       "      <th>2</th>\n",
       "      <td>Meu trio</td>\n",
       "      <td>Positivo</td>\n",
       "    </tr>\n",
       "    <tr>\n",
       "      <th>3</th>\n",
       "      <td>A torcida do Palmeiras está presente em qualqu...</td>\n",
       "      <td>Neutro</td>\n",
       "    </tr>\n",
       "    <tr>\n",
       "      <th>4</th>\n",
       "      <td>Torcedores do porto no Instagram o Palmeiras n...</td>\n",
       "      <td>Neutro</td>\n",
       "    </tr>\n",
       "  </tbody>\n",
       "</table>\n",
       "</div>"
      ],
      "text/plain": [
       "                                         texto_limpo sentimento\n",
       "0                                 Ok, estou ansioso.   Positivo\n",
       "1  que privilégio ter visto o endrick jogar no pa...   Positivo\n",
       "2                                           Meu trio   Positivo\n",
       "3  A torcida do Palmeiras está presente em qualqu...     Neutro\n",
       "4  Torcedores do porto no Instagram o Palmeiras n...     Neutro"
      ]
     },
     "execution_count": 111,
     "metadata": {},
     "output_type": "execute_result"
    }
   ],
   "source": [
    "tweet_df = df[['texto_limpo', 'sentimento']]\n",
    "tweet_df.head()"
   ]
  },
  {
   "cell_type": "code",
   "execution_count": 112,
   "id": "029e3884",
   "metadata": {},
   "outputs": [
    {
     "data": {
      "text/plain": [
       "sentimento\n",
       "Neutro      561\n",
       "Positivo    228\n",
       "Negativo    196\n",
       "Name: count, dtype: int64"
      ]
     },
     "execution_count": 112,
     "metadata": {},
     "output_type": "execute_result"
    }
   ],
   "source": [
    "tweet_df['sentimento'].value_counts()"
   ]
  },
  {
   "cell_type": "code",
   "execution_count": 113,
   "id": "2b07efb9",
   "metadata": {},
   "outputs": [
    {
     "name": "stderr",
     "output_type": "stream",
     "text": [
      "C:\\Users\\Murilo Fontana Muniz\\AppData\\Local\\Temp\\ipykernel_10476\\3916151581.py:4: FutureWarning: \n",
      "\n",
      "Passing `palette` without assigning `hue` is deprecated and will be removed in v0.14.0. Assign the `x` variable to `hue` and set `legend=False` for the same effect.\n",
      "\n",
      "  sns.countplot(x=tweet_df.sentimento, palette='Set1')\n"
     ]
    },
    {
     "data": {
      "image/png": "[encoded data removed]",
      "text/plain": [
       "<Figure size 640x480 with 1 Axes>"
      ]
     },
     "metadata": {},
     "output_type": "display_data"
    }
   ],
   "source": [
    "import matplotlib.pyplot as plt\n",
    "import seaborn as sns\n",
    "\n",
    "sns.countplot(x=tweet_df.sentimento, palette='Set1')\n",
    "plt.xlabel('classe')\n",
    "plt.ylabel('tweets')\n",
    "plt.show()"
   ]
  },
  {
   "cell_type": "markdown",
   "id": "b8e3ea0f",
   "metadata": {},
   "source": [
    "Lematização"
   ]
  },
  {
   "cell_type": "code",
   "execution_count": 114,
   "id": "bebb89ee",
   "metadata": {},
   "outputs": [
    {
     "name": "stdout",
     "output_type": "stream",
     "text": [
      "Requirement already satisfied: pip in d:\\docs\\faculdade\\7o periodo\\si\\projeto\\cod\\venv\\lib\\site-packages (25.0.1)\n",
      "Collecting pip\n",
      "  Using cached pip-25.1.1-py3-none-any.whl.metadata (3.6 kB)\n",
      "Note: you may need to restart the kernel to use updated packages.\n"
     ]
    },
    {
     "name": "stderr",
     "output_type": "stream",
     "text": [
      "ERROR: Could not find a version that satisfies the requirement steuptools (from versions: none)\n",
      "\n",
      "[notice] A new release of pip is available: 25.0.1 -> 25.1.1\n",
      "[notice] To update, run: python.exe -m pip install --upgrade pip\n",
      "ERROR: No matching distribution found for steuptools\n"
     ]
    },
    {
     "name": "stdout",
     "output_type": "stream",
     "text": [
      "Requirement already satisfied: spacy in d:\\docs\\faculdade\\7o periodo\\si\\projeto\\cod\\venv\\lib\\site-packages (3.8.7)\n",
      "Requirement already satisfied: spacy-legacy<3.1.0,>=3.0.11 in d:\\docs\\faculdade\\7o periodo\\si\\projeto\\cod\\venv\\lib\\site-packages (from spacy) (3.0.12)\n",
      "Requirement already satisfied: spacy-loggers<2.0.0,>=1.0.0 in d:\\docs\\faculdade\\7o periodo\\si\\projeto\\cod\\venv\\lib\\site-packages (from spacy) (1.0.5)\n",
      "Requirement already satisfied: murmurhash<1.1.0,>=0.28.0 in d:\\docs\\faculdade\\7o periodo\\si\\projeto\\cod\\venv\\lib\\site-packages (from spacy) (1.0.13)\n",
      "Requirement already satisfied: cymem<2.1.0,>=2.0.2 in d:\\docs\\faculdade\\7o periodo\\si\\projeto\\cod\\venv\\lib\\site-packages (from spacy) (2.0.11)\n",
      "Requirement already satisfied: preshed<3.1.0,>=3.0.2 in d:\\docs\\faculdade\\7o periodo\\si\\projeto\\cod\\venv\\lib\\site-packages (from spacy) (3.0.10)\n",
      "Requirement already satisfied: thinc<8.4.0,>=8.3.4 in d:\\docs\\faculdade\\7o periodo\\si\\projeto\\cod\\venv\\lib\\site-packages (from spacy) (8.3.6)\n",
      "Requirement already satisfied: wasabi<1.2.0,>=0.9.1 in d:\\docs\\faculdade\\7o periodo\\si\\projeto\\cod\\venv\\lib\\site-packages (from spacy) (1.1.3)\n",
      "Requirement already satisfied: srsly<3.0.0,>=2.4.3 in d:\\docs\\faculdade\\7o periodo\\si\\projeto\\cod\\venv\\lib\\site-packages (from spacy) (2.5.1)\n",
      "Requirement already satisfied: catalogue<2.1.0,>=2.0.6 in d:\\docs\\faculdade\\7o periodo\\si\\projeto\\cod\\venv\\lib\\site-packages (from spacy) (2.0.10)\n",
      "Requirement already satisfied: weasel<0.5.0,>=0.1.0 in d:\\docs\\faculdade\\7o periodo\\si\\projeto\\cod\\venv\\lib\\site-packages (from spacy) (0.4.1)\n",
      "Requirement already satisfied: typer<1.0.0,>=0.3.0 in d:\\docs\\faculdade\\7o periodo\\si\\projeto\\cod\\venv\\lib\\site-packages (from spacy) (0.16.0)\n",
      "Requirement already satisfied: tqdm<5.0.0,>=4.38.0 in d:\\docs\\faculdade\\7o periodo\\si\\projeto\\cod\\venv\\lib\\site-packages (from spacy) (4.67.1)\n",
      "Requirement already satisfied: numpy>=1.19.0 in d:\\docs\\faculdade\\7o periodo\\si\\projeto\\cod\\venv\\lib\\site-packages (from spacy) (2.3.1)\n",
      "Requirement already satisfied: requests<3.0.0,>=2.13.0 in d:\\docs\\faculdade\\7o periodo\\si\\projeto\\cod\\venv\\lib\\site-packages (from spacy) (2.32.4)\n",
      "Requirement already satisfied: pydantic!=1.8,!=1.8.1,<3.0.0,>=1.7.4 in d:\\docs\\faculdade\\7o periodo\\si\\projeto\\cod\\venv\\lib\\site-packages (from spacy) (2.11.7)\n",
      "Requirement already satisfied: jinja2 in d:\\docs\\faculdade\\7o periodo\\si\\projeto\\cod\\venv\\lib\\site-packages (from spacy) (3.1.6)\n",
      "Requirement already satisfied: setuptools in d:\\docs\\faculdade\\7o periodo\\si\\projeto\\cod\\venv\\lib\\site-packages (from spacy) (80.9.0)\n",
      "Requirement already satisfied: packaging>=20.0 in d:\\docs\\faculdade\\7o periodo\\si\\projeto\\cod\\venv\\lib\\site-packages (from spacy) (25.0)\n",
      "Requirement already satisfied: langcodes<4.0.0,>=3.2.0 in d:\\docs\\faculdade\\7o periodo\\si\\projeto\\cod\\venv\\lib\\site-packages (from spacy) (3.5.0)\n",
      "Requirement already satisfied: language-data>=1.2 in d:\\docs\\faculdade\\7o periodo\\si\\projeto\\cod\\venv\\lib\\site-packages (from langcodes<4.0.0,>=3.2.0->spacy) (1.3.0)\n",
      "Requirement already satisfied: annotated-types>=0.6.0 in d:\\docs\\faculdade\\7o periodo\\si\\projeto\\cod\\venv\\lib\\site-packages (from pydantic!=1.8,!=1.8.1,<3.0.0,>=1.7.4->spacy) (0.7.0)\n",
      "Requirement already satisfied: pydantic-core==2.33.2 in d:\\docs\\faculdade\\7o periodo\\si\\projeto\\cod\\venv\\lib\\site-packages (from pydantic!=1.8,!=1.8.1,<3.0.0,>=1.7.4->spacy) (2.33.2)\n",
      "Requirement already satisfied: typing-extensions>=4.12.2 in d:\\docs\\faculdade\\7o periodo\\si\\projeto\\cod\\venv\\lib\\site-packages (from pydantic!=1.8,!=1.8.1,<3.0.0,>=1.7.4->spacy) (4.14.0)\n",
      "Requirement already satisfied: typing-inspection>=0.4.0 in d:\\docs\\faculdade\\7o periodo\\si\\projeto\\cod\\venv\\lib\\site-packages (from pydantic!=1.8,!=1.8.1,<3.0.0,>=1.7.4->spacy) (0.4.1)\n",
      "Requirement already satisfied: charset_normalizer<4,>=2 in d:\\docs\\faculdade\\7o periodo\\si\\projeto\\cod\\venv\\lib\\site-packages (from requests<3.0.0,>=2.13.0->spacy) (3.4.2)\n",
      "Requirement already satisfied: idna<4,>=2.5 in d:\\docs\\faculdade\\7o periodo\\si\\projeto\\cod\\venv\\lib\\site-packages (from requests<3.0.0,>=2.13.0->spacy) (3.10)\n",
      "Requirement already satisfied: urllib3<3,>=1.21.1 in d:\\docs\\faculdade\\7o periodo\\si\\projeto\\cod\\venv\\lib\\site-packages (from requests<3.0.0,>=2.13.0->spacy) (2.5.0)\n",
      "Requirement already satisfied: certifi>=2017.4.17 in d:\\docs\\faculdade\\7o periodo\\si\\projeto\\cod\\venv\\lib\\site-packages (from requests<3.0.0,>=2.13.0->spacy) (2025.4.26)\n",
      "Requirement already satisfied: blis<1.4.0,>=1.3.0 in d:\\docs\\faculdade\\7o periodo\\si\\projeto\\cod\\venv\\lib\\site-packages (from thinc<8.4.0,>=8.3.4->spacy) (1.3.0)\n",
      "Requirement already satisfied: confection<1.0.0,>=0.0.1 in d:\\docs\\faculdade\\7o periodo\\si\\projeto\\cod\\venv\\lib\\site-packages (from thinc<8.4.0,>=8.3.4->spacy) (0.1.5)\n",
      "Requirement already satisfied: colorama in d:\\docs\\faculdade\\7o periodo\\si\\projeto\\cod\\venv\\lib\\site-packages (from tqdm<5.0.0,>=4.38.0->spacy) (0.4.6)\n",
      "Requirement already satisfied: click>=8.0.0 in d:\\docs\\faculdade\\7o periodo\\si\\projeto\\cod\\venv\\lib\\site-packages (from typer<1.0.0,>=0.3.0->spacy) (8.2.1)\n",
      "Requirement already satisfied: shellingham>=1.3.0 in d:\\docs\\faculdade\\7o periodo\\si\\projeto\\cod\\venv\\lib\\site-packages (from typer<1.0.0,>=0.3.0->spacy) (1.5.4)\n",
      "Requirement already satisfied: rich>=10.11.0 in d:\\docs\\faculdade\\7o periodo\\si\\projeto\\cod\\venv\\lib\\site-packages (from typer<1.0.0,>=0.3.0->spacy) (14.0.0)\n",
      "Requirement already satisfied: cloudpathlib<1.0.0,>=0.7.0 in d:\\docs\\faculdade\\7o periodo\\si\\projeto\\cod\\venv\\lib\\site-packages (from weasel<0.5.0,>=0.1.0->spacy) (0.21.1)\n",
      "Requirement already satisfied: smart-open<8.0.0,>=5.2.1 in d:\\docs\\faculdade\\7o periodo\\si\\projeto\\cod\\venv\\lib\\site-packages (from weasel<0.5.0,>=0.1.0->spacy) (7.1.0)\n",
      "Requirement already satisfied: MarkupSafe>=2.0 in d:\\docs\\faculdade\\7o periodo\\si\\projeto\\cod\\venv\\lib\\site-packages (from jinja2->spacy) (3.0.2)\n",
      "Requirement already satisfied: marisa-trie>=1.1.0 in d:\\docs\\faculdade\\7o periodo\\si\\projeto\\cod\\venv\\lib\\site-packages (from language-data>=1.2->langcodes<4.0.0,>=3.2.0->spacy) (1.2.1)\n",
      "Requirement already satisfied: markdown-it-py>=2.2.0 in d:\\docs\\faculdade\\7o periodo\\si\\projeto\\cod\\venv\\lib\\site-packages (from rich>=10.11.0->typer<1.0.0,>=0.3.0->spacy) (3.0.0)\n",
      "Requirement already satisfied: pygments<3.0.0,>=2.13.0 in d:\\docs\\faculdade\\7o periodo\\si\\projeto\\cod\\venv\\lib\\site-packages (from rich>=10.11.0->typer<1.0.0,>=0.3.0->spacy) (2.19.2)\n",
      "Requirement already satisfied: wrapt in d:\\docs\\faculdade\\7o periodo\\si\\projeto\\cod\\venv\\lib\\site-packages (from smart-open<8.0.0,>=5.2.1->weasel<0.5.0,>=0.1.0->spacy) (1.17.2)\n",
      "Requirement already satisfied: mdurl~=0.1 in d:\\docs\\faculdade\\7o periodo\\si\\projeto\\cod\\venv\\lib\\site-packages (from markdown-it-py>=2.2.0->rich>=10.11.0->typer<1.0.0,>=0.3.0->spacy) (0.1.2)\n",
      "Note: you may need to restart the kernel to use updated packages.\n"
     ]
    },
    {
     "name": "stderr",
     "output_type": "stream",
     "text": [
      "\n",
      "[notice] A new release of pip is available: 25.0.1 -> 25.1.1\n",
      "[notice] To update, run: python.exe -m pip install --upgrade pip\n"
     ]
    },
    {
     "name": "stdout",
     "output_type": "stream",
     "text": [
      "Collecting pt-core-news-sm==3.8.0\n",
      "  Downloading https://github.com/explosion/spacy-models/releases/download/pt_core_news_sm-3.8.0/pt_core_news_sm-3.8.0-py3-none-any.whl (13.0 MB)\n",
      "     ---------------------------------------- 0.0/13.0 MB ? eta -:--:--\n",
      "     --------- ------------------------------ 3.1/13.0 MB 19.5 MB/s eta 0:00:01\n",
      "     --------------------- ------------------ 7.1/13.0 MB 19.1 MB/s eta 0:00:01\n",
      "     ----------------------------- ---------- 9.4/13.0 MB 19.7 MB/s eta 0:00:01\n",
      "     ---------------------------------- ---- 11.5/13.0 MB 14.9 MB/s eta 0:00:01\n",
      "     --------------------------------------- 13.0/13.0 MB 14.3 MB/s eta 0:00:00\n",
      "\u001b[38;5;2m✔ Download and installation successful\u001b[0m\n",
      "You can now load the package via spacy.load('pt_core_news_sm')\n"
     ]
    },
    {
     "name": "stderr",
     "output_type": "stream",
     "text": [
      "\n",
      "[notice] A new release of pip is available: 25.0.1 -> 25.1.1\n",
      "[notice] To update, run: python.exe -m pip install --upgrade pip\n"
     ]
    }
   ],
   "source": [
    "%pip install -U pip steuptools wheel\n",
    "%pip install -U spacy\n",
    "!python -m spacy download pt_core_news_sm"
   ]
  },
  {
   "cell_type": "code",
   "execution_count": 115,
   "id": "298992b4",
   "metadata": {},
   "outputs": [
    {
     "name": "stdout",
     "output_type": "stream",
     "text": [
      "✅ Modelo spaCy 'pt_core_news_sm' carregado para lematização.\n",
      "Função 'lematizar_texto' criada com sucesso.\n",
      "DataFrame de exemplo antes da lematização:\n",
      "                                     Texto                             texto_limpo\n",
      "0          Correndo muito rápido pela rua.          correndo muito rápido pela rua\n",
      "1      As meninas cantaram lindas músicas.      as meninas cantaram lindas músicas\n",
      "2  Eu amo aprender sobre ciência de dados.  eu amo aprender sobre ciência de dados\n",
      "3            Eles foram ver o filme ontem.            eles foram ver o filme ontem\n",
      "4                          Para de gritar!                          para de gritar\n",
      "--------------------------------------------------\n",
      "\n",
      "Aplicando lematização na coluna 'texto_limpo'...\n",
      "\n",
      "DataFrame de exemplo após a lematização:\n",
      "                                     Texto  ...                        texto_lematizado\n",
      "0          Correndo muito rápido pela rua.  ...           correr muito rápido por o rua\n",
      "1      As meninas cantaram lindas músicas.  ...            o menina cantar lindo músico\n",
      "2  Eu amo aprender sobre ciência de dados.  ...  eu amar aprender sobre ciência de dado\n",
      "3            Eles foram ver o filme ontem.  ...               ele ser ver o filme ontem\n",
      "4                          Para de gritar!  ...                          para de gritar\n",
      "\n",
      "[5 rows x 3 columns]\n"
     ]
    }
   ],
   "source": [
    "import spacy\n",
    "\n",
    "# Carregar o modelo de português do spaCy\n",
    "try:\n",
    "    nlp = spacy.load(\"pt_core_news_sm\")\n",
    "    print(\"✅ Modelo spaCy 'pt_core_news_sm' carregado para lematização.\")\n",
    "except OSError:\n",
    "    print(\"❌ Erro: Modelo spaCy 'pt_core_news_sm' não encontrado.\")\n",
    "    print(\"Por favor, execute o comando: !python -m spacy download pt_core_news_sm\")\n",
    "    print(\"A lematização será desativada.\")\n",
    "    nlp = None # Define nlp como None se o modelo não puder ser carregado\n",
    "\n",
    "# %% [markdown]\n",
    "# ---\n",
    "# \n",
    "# ### 3. Função de Lematização\n",
    "# \n",
    "# Esta função pega uma string de texto e retorna sua versão lematizada. Ela garante que apenas tokens de palavras sejam lematizados, ignorando pontuações e espaços.\n",
    "\n",
    "# %%\n",
    "def lematizar_texto(texto: str) -> str:\n",
    "    \"\"\"\n",
    "    Lematiza um texto usando o modelo de português do spaCy.\n",
    "    Retorna as palavras lematizadas separadas por espaço.\n",
    "    \"\"\"\n",
    "    if nlp is None or not isinstance(texto, str) or not texto.strip():\n",
    "        # Retorna o texto original se o spaCy não estiver carregado,\n",
    "        # ou se o texto não for uma string válida/estiver vazio.\n",
    "        return texto \n",
    "\n",
    "    # Processa o texto com o modelo spaCy\n",
    "    doc = nlp(texto)\n",
    "    \n",
    "    # Extrai o lema de cada token que não é pontuação ou espaço\n",
    "    tokens_lematizados = [token.lemma_ for token in doc if not token.is_punct and not token.is_space]\n",
    "    \n",
    "    # Junta os lemas para formar o texto lematizado final\n",
    "    return \" \".join(tokens_lematizados)\n",
    "\n",
    "print(\"Função 'lematizar_texto' criada com sucesso.\")\n",
    "\n",
    "# %% [markdown]\n",
    "# ---\n",
    "# \n",
    "# ### 4. Exemplo de Uso (Aplicação em um DataFrame Pandas)\n",
    "# \n",
    "# Abaixo, um exemplo de como você aplicaria essa função a uma coluna de texto em um DataFrame Pandas. Assumimos que você já tem um DataFrame `df` com uma coluna de texto (por exemplo, `texto_limpo`).\n",
    "\n",
    "# %%\n",
    "import pandas as pd\n",
    "\n",
    "# Exemplo de DataFrame (substitua pelo seu carregamento de dados real)\n",
    "data = {'Texto': ['Correndo muito rápido pela rua.', \n",
    "                  'As meninas cantaram lindas músicas.', \n",
    "                  'Eu amo aprender sobre ciência de dados.',\n",
    "                  'Eles foram ver o filme ontem.',\n",
    "                  'Para de gritar!']}\n",
    "df_exemplo = pd.DataFrame(data)\n",
    "\n",
    "# Aplicar uma função de limpeza (simplificada para o exemplo)\n",
    "import re\n",
    "def limpar_texto_exemplo(texto: str) -> str:\n",
    "    return re.sub(r'[^\\w\\s]', '', texto).lower().strip()\n",
    "\n",
    "df_exemplo['texto_limpo'] = df_exemplo['Texto'].apply(limpar_texto_exemplo)\n",
    "\n",
    "print(\"DataFrame de exemplo antes da lematização:\")\n",
    "print(df_exemplo)\n",
    "print(\"-\" * 50)\n",
    "\n",
    "# Aplicar a lematização\n",
    "if nlp is not None:\n",
    "    print(\"\\nAplicando lematização na coluna 'texto_limpo'...\")\n",
    "    df_exemplo['texto_lematizado'] = df_exemplo['texto_limpo'].apply(lematizar_texto)\n",
    "    print(\"\\nDataFrame de exemplo após a lematização:\")\n",
    "    print(df_exemplo)\n",
    "else:\n",
    "    print(\"\\nLematização não pode ser aplicada pois o modelo spaCy não foi carregado.\")"
   ]
  },
  {
   "cell_type": "code",
   "execution_count": 116,
   "id": "6656fd72",
   "metadata": {},
   "outputs": [
    {
     "data": {
      "text/plain": [
       "[np.int64(561), np.int64(228), np.int64(196)]"
      ]
     },
     "execution_count": 116,
     "metadata": {},
     "output_type": "execute_result"
    }
   ],
   "source": [
    "#equilibrando dados\n",
    "\n",
    "sentimentos = []\n",
    "\n",
    "sentimentos.append(tweet_df.loc[tweet_df['sentimento'] == \"Neutro\"]['sentimento'].count())\n",
    "sentimentos.append(tweet_df.loc[tweet_df['sentimento'] == \"Positivo\"]['sentimento'].count())\n",
    "sentimentos.append(tweet_df.loc[tweet_df['sentimento'] == \"Negativo\"]['sentimento'].count())\n",
    "\n",
    "\n",
    "sentimentos"
   ]
  },
  {
   "cell_type": "code",
   "execution_count": 117,
   "id": "f99cbbdc",
   "metadata": {},
   "outputs": [
    {
     "data": {
      "text/plain": [
       "[np.int64(196), np.int64(228), np.int64(561)]"
      ]
     },
     "execution_count": 117,
     "metadata": {},
     "output_type": "execute_result"
    }
   ],
   "source": [
    "sentimentos.sort()\n",
    "sentimentos"
   ]
  },
  {
   "cell_type": "code",
   "execution_count": 118,
   "id": "f5a623fa",
   "metadata": {},
   "outputs": [
    {
     "name": "stdout",
     "output_type": "stream",
     "text": [
      "Maioria\n",
      "561\n",
      "\n",
      "Meio\n",
      "228\n",
      "\n",
      "Minoria\n",
      "196\n",
      "\n"
     ]
    }
   ],
   "source": [
    "contagens_sentimento = tweet_df['sentimento'].value_counts()\n",
    "\n",
    "# 2. Obter os DataFrames para cada sentimento, contendo apenas as colunas 'texto_limpo' e 'sentimento'\n",
    "# Usamos .copy() para evitar SettingWithCopyWarning\n",
    "df_positivo = tweet_df[tweet_df['sentimento'] == 'Positivo'][['texto_limpo', 'sentimento']].copy()\n",
    "df_neutro = tweet_df[tweet_df['sentimento'] == 'Neutro'][['texto_limpo', 'sentimento']].copy()\n",
    "df_negativo = tweet_df[tweet_df['sentimento'] == 'Negativo'][['texto_limpo', 'sentimento']].copy()\n",
    "\n",
    "# 3. Criar uma lista de tuplas (contagem, nome do sentimento, DataFrame da classe)\n",
    "# Usamos .get(classe, 0) caso uma classe não exista, para evitar KeyError,\n",
    "# e pegamos o tamanho do DataFrame para a contagem.\n",
    "lista_classes = [\n",
    "    (len(df_positivo), 'Positivo', df_positivo),\n",
    "    (len(df_neutro), 'Neutro', df_neutro),\n",
    "    (len(df_negativo), 'Negativo', df_negativo)\n",
    "]\n",
    "\n",
    "# 4. Ordenar a lista pela contagem (primeiro elemento da tupla) em ordem crescente\n",
    "lista_classes_ordenada = sorted(lista_classes, key=lambda x: x[0])\n",
    "\n",
    "# 5. Atribuir os DataFrames às variáveis minoria, meio, maioria\n",
    "# Acesso o terceiro elemento da tupla (índice 2), que é o DataFrame.\n",
    "minoria = lista_classes_ordenada[0][2] # O DataFrame da classe minoritária\n",
    "meio = lista_classes_ordenada[1][2]    # O DataFrame da classe intermediária\n",
    "maioria = lista_classes_ordenada[2][2] # O DataFrame da classe majoritária\n",
    "\n",
    "# 6. Imprimir as contagens no formato desejado\n",
    "print(f\"Maioria\\n{maioria['sentimento'].count()}\\n\")\n",
    "print(f\"Meio\\n{meio['sentimento'].count()}\\n\")\n",
    "print(f\"Minoria\\n{minoria['sentimento'].count()}\\n\")"
   ]
  },
  {
   "cell_type": "code",
   "execution_count": 119,
   "id": "c0f64b2b",
   "metadata": {},
   "outputs": [],
   "source": [
    "from sklearn.utils import resample\n",
    "\n",
    "menor_maior = resample(minoria, replace=True, n_samples=len(maioria), random_state=123)\n",
    "meio_maior = resample(meio, replace=True, n_samples=len(maioria), random_state=123)\n"
   ]
  },
  {
   "cell_type": "code",
   "execution_count": 120,
   "id": "be7c0fce",
   "metadata": {},
   "outputs": [
    {
     "data": {
      "text/html": [
       "<div>\n",
       "<style scoped>\n",
       "    .dataframe tbody tr th:only-of-type {\n",
       "        vertical-align: middle;\n",
       "    }\n",
       "\n",
       "    .dataframe tbody tr th {\n",
       "        vertical-align: top;\n",
       "    }\n",
       "\n",
       "    .dataframe thead th {\n",
       "        text-align: right;\n",
       "    }\n",
       "</style>\n",
       "<table border=\"1\" class=\"dataframe\">\n",
       "  <thead>\n",
       "    <tr style=\"text-align: right;\">\n",
       "      <th></th>\n",
       "      <th>texto_limpo</th>\n",
       "    </tr>\n",
       "    <tr>\n",
       "      <th>sentimento</th>\n",
       "      <th></th>\n",
       "    </tr>\n",
       "  </thead>\n",
       "  <tbody>\n",
       "    <tr>\n",
       "      <th>Negativo</th>\n",
       "      <td>561</td>\n",
       "    </tr>\n",
       "    <tr>\n",
       "      <th>Neutro</th>\n",
       "      <td>561</td>\n",
       "    </tr>\n",
       "    <tr>\n",
       "      <th>Positivo</th>\n",
       "      <td>561</td>\n",
       "    </tr>\n",
       "  </tbody>\n",
       "</table>\n",
       "</div>"
      ],
      "text/plain": [
       "            texto_limpo\n",
       "sentimento             \n",
       "Negativo            561\n",
       "Neutro              561\n",
       "Positivo            561"
      ]
     },
     "execution_count": 120,
     "metadata": {},
     "output_type": "execute_result"
    }
   ],
   "source": [
    "tweet_df_equilibrado_over = pd.concat([menor_maior, meio_maior, maioria])\n",
    "\n",
    "tweet_df_equilibrado_over = tweet_df_equilibrado_over.reset_index()\n",
    "\n",
    "tweet_df_equilibrado_over.drop(columns=['index'], inplace=True)\n",
    "\n",
    "tweet_df_equilibrado_over.groupby(['sentimento']).count()"
   ]
  },
  {
   "cell_type": "code",
   "execution_count": 121,
   "id": "ddb01206",
   "metadata": {},
   "outputs": [
    {
     "name": "stdout",
     "output_type": "stream",
     "text": [
      "Requirement already satisfied: scikit-learn in d:\\docs\\faculdade\\7o periodo\\si\\projeto\\cod\\venv\\lib\\site-packages (1.7.0)\n",
      "Requirement already satisfied: numpy>=1.22.0 in d:\\docs\\faculdade\\7o periodo\\si\\projeto\\cod\\venv\\lib\\site-packages (from scikit-learn) (2.3.1)\n",
      "Requirement already satisfied: scipy>=1.8.0 in d:\\docs\\faculdade\\7o periodo\\si\\projeto\\cod\\venv\\lib\\site-packages (from scikit-learn) (1.16.0)\n",
      "Requirement already satisfied: joblib>=1.2.0 in d:\\docs\\faculdade\\7o periodo\\si\\projeto\\cod\\venv\\lib\\site-packages (from scikit-learn) (1.5.1)\n",
      "Requirement already satisfied: threadpoolctl>=3.1.0 in d:\\docs\\faculdade\\7o periodo\\si\\projeto\\cod\\venv\\lib\\site-packages (from scikit-learn) (3.6.0)\n",
      "Note: you may need to restart the kernel to use updated packages.\n"
     ]
    },
    {
     "name": "stderr",
     "output_type": "stream",
     "text": [
      "\n",
      "[notice] A new release of pip is available: 25.0.1 -> 25.1.1\n",
      "[notice] To update, run: python.exe -m pip install --upgrade pip\n"
     ]
    }
   ],
   "source": [
    "%pip install scikit-learn"
   ]
  },
  {
   "cell_type": "code",
   "execution_count": 122,
   "id": "0078d02e",
   "metadata": {},
   "outputs": [],
   "source": [
    "from sklearn.model_selection import train_test_split, cross_val_predict\n",
    "from sklearn.pipeline import Pipeline;\n",
    "\n",
    "\n",
    "#vetorizadores\n",
    "from sklearn.feature_extraction.text import CountVectorizer, TfidfVectorizer\n",
    "\n",
    "#classificadores\n",
    "from sklearn.linear_model import LogisticRegression, PassiveAggressiveClassifier, SGDClassifier\n",
    "from sklearn.ensemble import RandomForestClassifier\n",
    "from sklearn.svm import SVC\n"
   ]
  },
  {
   "cell_type": "code",
   "execution_count": 123,
   "id": "e0458f5c",
   "metadata": {},
   "outputs": [],
   "source": [
    "from nltk.tokenize import TweetTokenizer\n",
    "\n",
    "tweet_tokenizer = TweetTokenizer()"
   ]
  },
  {
   "cell_type": "code",
   "execution_count": 124,
   "id": "89f72e70",
   "metadata": {},
   "outputs": [],
   "source": [
    "def escolhe_pipeline(pipe):\n",
    "    match pipe:\n",
    "        case 1:\n",
    "            modelo1 = Pipeline([\n",
    "                ('countVectorizer', CountVectorizer(analyzer='word', tokenizer=tweet_tokenizer.tokenize)),\n",
    "                ('modelo', LogisticRegression(solver='liblinear'))\n",
    "            ])\n",
    "            return modelo1\n",
    "        case 2:\n",
    "            modelo2 = Pipeline([\n",
    "                ('TfidfVectorizer', TfidfVectorizer(analyzer='word', tokenizer=tweet_tokenizer.tokenize)),\n",
    "                ('modelo', LogisticRegression(solver='liblinear'))\n",
    "            ])\n",
    "            return modelo2\n",
    "        case 3:\n",
    "            modelo3 = Pipeline([\n",
    "                ('countVectorizer', CountVectorizer(analyzer='word', tokenizer=tweet_tokenizer.tokenize)),\n",
    "                ('modelo', PassiveAggressiveClassifier())\n",
    "            ])\n",
    "            return modelo3\n",
    "        case 4:\n",
    "            modelo4 = Pipeline([\n",
    "                ('TfidfVectorizer', TfidfVectorizer(analyzer='word', tokenizer=tweet_tokenizer.tokenize)),\n",
    "                ('modelo', PassiveAggressiveClassifier())\n",
    "            ])\n",
    "            return modelo4\n",
    "        case 5:\n",
    "            modelo5 = Pipeline([\n",
    "                ('countVectorizer', CountVectorizer(analyzer='word', tokenizer=tweet_tokenizer.tokenize)),\n",
    "                ('modelo', RandomForestClassifier())\n",
    "            ])\n",
    "            return modelo5\n",
    "        case 6:\n",
    "            modelo6 = Pipeline([\n",
    "                ('TfidfVectorizer', TfidfVectorizer(analyzer='word', tokenizer=tweet_tokenizer.tokenize)),\n",
    "                ('modelo', RandomForestClassifier())\n",
    "            ])\n",
    "            return modelo6\n",
    "        case 7:\n",
    "            modelo7 = Pipeline([\n",
    "                ('countVectorizer', CountVectorizer(analyzer='word', tokenizer=tweet_tokenizer.tokenize)),\n",
    "                ('modelo', SGDClassifier(max_iter=1000))\n",
    "            ])\n",
    "            return modelo7\n",
    "        case 8:\n",
    "            modelo8 = Pipeline([\n",
    "                ('TfidfVectorizer', TfidfVectorizer(analyzer='word', tokenizer=tweet_tokenizer.tokenize)),\n",
    "                ('modelo', SGDClassifier(max_iter=1000))\n",
    "            ])\n",
    "            return modelo8\n",
    "        case 9:\n",
    "            modelo9 = Pipeline([\n",
    "                ('countVectorizer', CountVectorizer(analyzer='word', tokenizer=tweet_tokenizer.tokenize)),\n",
    "                ('modelo', SVC())\n",
    "            ])\n",
    "            return modelo9\n",
    "        case 10:\n",
    "            modelo10 = Pipeline([\n",
    "                ('TfidfVectorizer', TfidfVectorizer(analyzer='word', tokenizer=tweet_tokenizer.tokenize)),\n",
    "                ('modelo', SVC())\n",
    "            ])\n",
    "            return modelo10"
   ]
  },
  {
   "cell_type": "code",
   "execution_count": 125,
   "id": "d0b37924",
   "metadata": {},
   "outputs": [
    {
     "name": "stdout",
     "output_type": "stream",
     "text": [
      "Requirement already satisfied: mlxtend in d:\\docs\\faculdade\\7o periodo\\si\\projeto\\cod\\venv\\lib\\site-packages (0.23.4)\n",
      "Requirement already satisfied: scipy>=1.2.1 in d:\\docs\\faculdade\\7o periodo\\si\\projeto\\cod\\venv\\lib\\site-packages (from mlxtend) (1.16.0)\n",
      "Requirement already satisfied: numpy>=1.16.2 in d:\\docs\\faculdade\\7o periodo\\si\\projeto\\cod\\venv\\lib\\site-packages (from mlxtend) (2.3.1)\n",
      "Requirement already satisfied: pandas>=0.24.2 in d:\\docs\\faculdade\\7o periodo\\si\\projeto\\cod\\venv\\lib\\site-packages (from mlxtend) (2.3.0)\n",
      "Requirement already satisfied: scikit-learn>=1.3.1 in d:\\docs\\faculdade\\7o periodo\\si\\projeto\\cod\\venv\\lib\\site-packages (from mlxtend) (1.7.0)\n",
      "Requirement already satisfied: matplotlib>=3.0.0 in d:\\docs\\faculdade\\7o periodo\\si\\projeto\\cod\\venv\\lib\\site-packages (from mlxtend) (3.10.3)\n",
      "Requirement already satisfied: joblib>=0.13.2 in d:\\docs\\faculdade\\7o periodo\\si\\projeto\\cod\\venv\\lib\\site-packages (from mlxtend) (1.5.1)\n",
      "Requirement already satisfied: contourpy>=1.0.1 in d:\\docs\\faculdade\\7o periodo\\si\\projeto\\cod\\venv\\lib\\site-packages (from matplotlib>=3.0.0->mlxtend) (1.3.2)\n",
      "Requirement already satisfied: cycler>=0.10 in d:\\docs\\faculdade\\7o periodo\\si\\projeto\\cod\\venv\\lib\\site-packages (from matplotlib>=3.0.0->mlxtend) (0.12.1)\n",
      "Requirement already satisfied: fonttools>=4.22.0 in d:\\docs\\faculdade\\7o periodo\\si\\projeto\\cod\\venv\\lib\\site-packages (from matplotlib>=3.0.0->mlxtend) (4.58.4)\n",
      "Requirement already satisfied: kiwisolver>=1.3.1 in d:\\docs\\faculdade\\7o periodo\\si\\projeto\\cod\\venv\\lib\\site-packages (from matplotlib>=3.0.0->mlxtend) (1.4.8)\n",
      "Requirement already satisfied: packaging>=20.0 in d:\\docs\\faculdade\\7o periodo\\si\\projeto\\cod\\venv\\lib\\site-packages (from matplotlib>=3.0.0->mlxtend) (25.0)\n",
      "Requirement already satisfied: pillow>=8 in d:\\docs\\faculdade\\7o periodo\\si\\projeto\\cod\\venv\\lib\\site-packages (from matplotlib>=3.0.0->mlxtend) (11.2.1)\n",
      "Requirement already satisfied: pyparsing>=2.3.1 in d:\\docs\\faculdade\\7o periodo\\si\\projeto\\cod\\venv\\lib\\site-packages (from matplotlib>=3.0.0->mlxtend) (3.2.3)\n",
      "Requirement already satisfied: python-dateutil>=2.7 in d:\\docs\\faculdade\\7o periodo\\si\\projeto\\cod\\venv\\lib\\site-packages (from matplotlib>=3.0.0->mlxtend) (2.9.0.post0)\n",
      "Requirement already satisfied: pytz>=2020.1 in d:\\docs\\faculdade\\7o periodo\\si\\projeto\\cod\\venv\\lib\\site-packages (from pandas>=0.24.2->mlxtend) (2025.2)\n",
      "Requirement already satisfied: tzdata>=2022.7 in d:\\docs\\faculdade\\7o periodo\\si\\projeto\\cod\\venv\\lib\\site-packages (from pandas>=0.24.2->mlxtend) (2025.2)\n",
      "Requirement already satisfied: threadpoolctl>=3.1.0 in d:\\docs\\faculdade\\7o periodo\\si\\projeto\\cod\\venv\\lib\\site-packages (from scikit-learn>=1.3.1->mlxtend) (3.6.0)\n",
      "Requirement already satisfied: six>=1.5 in d:\\docs\\faculdade\\7o periodo\\si\\projeto\\cod\\venv\\lib\\site-packages (from python-dateutil>=2.7->matplotlib>=3.0.0->mlxtend) (1.17.0)\n",
      "Note: you may need to restart the kernel to use updated packages.\n"
     ]
    },
    {
     "name": "stderr",
     "output_type": "stream",
     "text": [
      "\n",
      "[notice] A new release of pip is available: 25.0.1 -> 25.1.1\n",
      "[notice] To update, run: python.exe -m pip install --upgrade pip\n"
     ]
    }
   ],
   "source": [
    "%pip install mlxtend"
   ]
  },
  {
   "cell_type": "code",
   "execution_count": 126,
   "id": "4addff62",
   "metadata": {},
   "outputs": [],
   "source": [
    "from sklearn import metrics\n",
    "from sklearn.metrics import precision_score, recall_score, f1_score, accuracy_score\n",
    "from mlxtend.evaluate import confusion_matrix\n",
    "from mlxtend.plotting import plot_confusion_matrix\n",
    "\n",
    "def matriz_confusao(y_teste, modelo_predicao):\n",
    "    print('Relatório de Classificação:\\n', metrics.classification_report(y_teste, modelo_predicao))\n",
    "\n",
    "    print(\"Acurácia: {:.4f}\\n\", format(accuracy_score(y_teste, modelo_predicao)))\n",
    "\n",
    "    print(\"Matriz de Confusão:\\n\", pd.crosstab(y_teste, modelo_predicao, rownames=['Real'], colnames=['Predito'], margins=True), '')\n",
    "\n",
    "    mc = confusion_matrix(y_target=y_teste, y_predicted=modelo_predicao, binary=False)\n",
    "\n",
    "    fig, ax = plot_confusion_matrix(conf_mat=mc)\n",
    "    plt.show()\n",
    "    print('\\n')\n"
   ]
  },
  {
   "cell_type": "code",
   "execution_count": 127,
   "id": "41c0c0e7",
   "metadata": {},
   "outputs": [
    {
     "data": {
      "text/plain": [
       "((1683,), (1683,))"
      ]
     },
     "execution_count": 127,
     "metadata": {},
     "output_type": "execute_result"
    }
   ],
   "source": [
    "x = tweet_df_equilibrado_over['texto_limpo']\n",
    "y = tweet_df_equilibrado_over['sentimento']\n",
    "\n",
    "x.shape, y.shape"
   ]
  },
  {
   "cell_type": "code",
   "execution_count": 128,
   "id": "d4ee1f3a",
   "metadata": {},
   "outputs": [
    {
     "data": {
      "text/plain": [
       "((1178,), (505,), (1178,), (505,))"
      ]
     },
     "execution_count": 128,
     "metadata": {},
     "output_type": "execute_result"
    }
   ],
   "source": [
    "#separar entre treino e teste\n",
    "x_treino, x_teste, y_treino, y_teste = train_test_split(x, y, test_size=0.3, random_state=123)\n",
    "\n",
    "x_treino.shape, x_teste.shape, y_treino.shape, y_teste.shape"
   ]
  },
  {
   "cell_type": "code",
   "execution_count": 129,
   "id": "77d067fe",
   "metadata": {},
   "outputs": [
    {
     "name": "stderr",
     "output_type": "stream",
     "text": [
      "d:\\Docs\\Faculdade\\7o periodo\\SI\\projeto\\cod\\venv\\Lib\\site-packages\\sklearn\\feature_extraction\\text.py:517: UserWarning: The parameter 'token_pattern' will not be used since 'tokenizer' is not None'\n",
      "  warnings.warn(\n",
      "d:\\Docs\\Faculdade\\7o periodo\\SI\\projeto\\cod\\venv\\Lib\\site-packages\\sklearn\\linear_model\\_logistic.py:1288: FutureWarning: Using the 'liblinear' solver for multiclass classification is deprecated. An error will be raised in 1.8. Either use another solver which supports the multinomial loss or wrap the estimator in a OneVsRestClassifier to keep applying a one-versus-rest scheme.\n",
      "  warnings.warn(\n"
     ]
    },
    {
     "name": "stdout",
     "output_type": "stream",
     "text": [
      "************************************************************************************************************************************\n",
      "Modelo: Pipeline(steps=[('countVectorizer',\n",
      "                 CountVectorizer(tokenizer=<bound method TweetTokenizer.tokenize of <nltk.tokenize.casual.TweetTokenizer object at 0x00000182F6ED2270>>)),\n",
      "                ('modelo', LogisticRegression(solver='liblinear'))])\n",
      "\n",
      "AVALIANDO MODELO\n",
      "\n",
      "Relatório de Classificação:\n",
      "               precision    recall  f1-score   support\n",
      "\n",
      "    Negativo       0.85      0.94      0.90       156\n",
      "      Neutro       0.92      0.75      0.83       189\n",
      "    Positivo       0.85      0.95      0.90       160\n",
      "\n",
      "    accuracy                           0.87       505\n",
      "   macro avg       0.88      0.88      0.87       505\n",
      "weighted avg       0.88      0.87      0.87       505\n",
      "\n",
      "Acurácia: {:.4f}\n",
      " 0.8732673267326733\n",
      "Matriz de Confusão:\n",
      " Predito   Negativo  Neutro  Positivo  All\n",
      "Real                                     \n",
      "Negativo       147       5         4  156\n",
      "Neutro          24     142        23  189\n",
      "Positivo         1       7       152  160\n",
      "All            172     154       179  505 \n"
     ]
    },
    {
     "data": {
      "image/png": "[encoded data removed]",
      "text/plain": [
       "<Figure size 640x480 with 1 Axes>"
      ]
     },
     "metadata": {},
     "output_type": "display_data"
    },
    {
     "name": "stderr",
     "output_type": "stream",
     "text": [
      "d:\\Docs\\Faculdade\\7o periodo\\SI\\projeto\\cod\\venv\\Lib\\site-packages\\sklearn\\feature_extraction\\text.py:517: UserWarning: The parameter 'token_pattern' will not be used since 'tokenizer' is not None'\n",
      "  warnings.warn(\n"
     ]
    },
    {
     "name": "stdout",
     "output_type": "stream",
     "text": [
      "\n",
      "\n",
      "\n",
      "VALIDAÇÃO CRUZADA\n",
      "\n"
     ]
    },
    {
     "name": "stderr",
     "output_type": "stream",
     "text": [
      "d:\\Docs\\Faculdade\\7o periodo\\SI\\projeto\\cod\\venv\\Lib\\site-packages\\sklearn\\linear_model\\_logistic.py:1288: FutureWarning: Using the 'liblinear' solver for multiclass classification is deprecated. An error will be raised in 1.8. Either use another solver which supports the multinomial loss or wrap the estimator in a OneVsRestClassifier to keep applying a one-versus-rest scheme.\n",
      "  warnings.warn(\n",
      "d:\\Docs\\Faculdade\\7o periodo\\SI\\projeto\\cod\\venv\\Lib\\site-packages\\sklearn\\feature_extraction\\text.py:517: UserWarning: The parameter 'token_pattern' will not be used since 'tokenizer' is not None'\n",
      "  warnings.warn(\n",
      "d:\\Docs\\Faculdade\\7o periodo\\SI\\projeto\\cod\\venv\\Lib\\site-packages\\sklearn\\linear_model\\_logistic.py:1288: FutureWarning: Using the 'liblinear' solver for multiclass classification is deprecated. An error will be raised in 1.8. Either use another solver which supports the multinomial loss or wrap the estimator in a OneVsRestClassifier to keep applying a one-versus-rest scheme.\n",
      "  warnings.warn(\n",
      "d:\\Docs\\Faculdade\\7o periodo\\SI\\projeto\\cod\\venv\\Lib\\site-packages\\sklearn\\feature_extraction\\text.py:517: UserWarning: The parameter 'token_pattern' will not be used since 'tokenizer' is not None'\n",
      "  warnings.warn(\n",
      "d:\\Docs\\Faculdade\\7o periodo\\SI\\projeto\\cod\\venv\\Lib\\site-packages\\sklearn\\linear_model\\_logistic.py:1288: FutureWarning: Using the 'liblinear' solver for multiclass classification is deprecated. An error will be raised in 1.8. Either use another solver which supports the multinomial loss or wrap the estimator in a OneVsRestClassifier to keep applying a one-versus-rest scheme.\n",
      "  warnings.warn(\n",
      "d:\\Docs\\Faculdade\\7o periodo\\SI\\projeto\\cod\\venv\\Lib\\site-packages\\sklearn\\feature_extraction\\text.py:517: UserWarning: The parameter 'token_pattern' will not be used since 'tokenizer' is not None'\n",
      "  warnings.warn(\n",
      "d:\\Docs\\Faculdade\\7o periodo\\SI\\projeto\\cod\\venv\\Lib\\site-packages\\sklearn\\linear_model\\_logistic.py:1288: FutureWarning: Using the 'liblinear' solver for multiclass classification is deprecated. An error will be raised in 1.8. Either use another solver which supports the multinomial loss or wrap the estimator in a OneVsRestClassifier to keep applying a one-versus-rest scheme.\n",
      "  warnings.warn(\n",
      "d:\\Docs\\Faculdade\\7o periodo\\SI\\projeto\\cod\\venv\\Lib\\site-packages\\sklearn\\feature_extraction\\text.py:517: UserWarning: The parameter 'token_pattern' will not be used since 'tokenizer' is not None'\n",
      "  warnings.warn(\n",
      "d:\\Docs\\Faculdade\\7o periodo\\SI\\projeto\\cod\\venv\\Lib\\site-packages\\sklearn\\linear_model\\_logistic.py:1288: FutureWarning: Using the 'liblinear' solver for multiclass classification is deprecated. An error will be raised in 1.8. Either use another solver which supports the multinomial loss or wrap the estimator in a OneVsRestClassifier to keep applying a one-versus-rest scheme.\n",
      "  warnings.warn(\n",
      "d:\\Docs\\Faculdade\\7o periodo\\SI\\projeto\\cod\\venv\\Lib\\site-packages\\sklearn\\feature_extraction\\text.py:517: UserWarning: The parameter 'token_pattern' will not be used since 'tokenizer' is not None'\n",
      "  warnings.warn(\n",
      "d:\\Docs\\Faculdade\\7o periodo\\SI\\projeto\\cod\\venv\\Lib\\site-packages\\sklearn\\linear_model\\_logistic.py:1288: FutureWarning: Using the 'liblinear' solver for multiclass classification is deprecated. An error will be raised in 1.8. Either use another solver which supports the multinomial loss or wrap the estimator in a OneVsRestClassifier to keep applying a one-versus-rest scheme.\n",
      "  warnings.warn(\n",
      "d:\\Docs\\Faculdade\\7o periodo\\SI\\projeto\\cod\\venv\\Lib\\site-packages\\sklearn\\feature_extraction\\text.py:517: UserWarning: The parameter 'token_pattern' will not be used since 'tokenizer' is not None'\n",
      "  warnings.warn(\n",
      "d:\\Docs\\Faculdade\\7o periodo\\SI\\projeto\\cod\\venv\\Lib\\site-packages\\sklearn\\linear_model\\_logistic.py:1288: FutureWarning: Using the 'liblinear' solver for multiclass classification is deprecated. An error will be raised in 1.8. Either use another solver which supports the multinomial loss or wrap the estimator in a OneVsRestClassifier to keep applying a one-versus-rest scheme.\n",
      "  warnings.warn(\n",
      "d:\\Docs\\Faculdade\\7o periodo\\SI\\projeto\\cod\\venv\\Lib\\site-packages\\sklearn\\feature_extraction\\text.py:517: UserWarning: The parameter 'token_pattern' will not be used since 'tokenizer' is not None'\n",
      "  warnings.warn(\n",
      "d:\\Docs\\Faculdade\\7o periodo\\SI\\projeto\\cod\\venv\\Lib\\site-packages\\sklearn\\linear_model\\_logistic.py:1288: FutureWarning: Using the 'liblinear' solver for multiclass classification is deprecated. An error will be raised in 1.8. Either use another solver which supports the multinomial loss or wrap the estimator in a OneVsRestClassifier to keep applying a one-versus-rest scheme.\n",
      "  warnings.warn(\n",
      "d:\\Docs\\Faculdade\\7o periodo\\SI\\projeto\\cod\\venv\\Lib\\site-packages\\sklearn\\feature_extraction\\text.py:517: UserWarning: The parameter 'token_pattern' will not be used since 'tokenizer' is not None'\n",
      "  warnings.warn(\n",
      "d:\\Docs\\Faculdade\\7o periodo\\SI\\projeto\\cod\\venv\\Lib\\site-packages\\sklearn\\linear_model\\_logistic.py:1288: FutureWarning: Using the 'liblinear' solver for multiclass classification is deprecated. An error will be raised in 1.8. Either use another solver which supports the multinomial loss or wrap the estimator in a OneVsRestClassifier to keep applying a one-versus-rest scheme.\n",
      "  warnings.warn(\n",
      "d:\\Docs\\Faculdade\\7o periodo\\SI\\projeto\\cod\\venv\\Lib\\site-packages\\sklearn\\feature_extraction\\text.py:517: UserWarning: The parameter 'token_pattern' will not be used since 'tokenizer' is not None'\n",
      "  warnings.warn(\n",
      "d:\\Docs\\Faculdade\\7o periodo\\SI\\projeto\\cod\\venv\\Lib\\site-packages\\sklearn\\linear_model\\_logistic.py:1288: FutureWarning: Using the 'liblinear' solver for multiclass classification is deprecated. An error will be raised in 1.8. Either use another solver which supports the multinomial loss or wrap the estimator in a OneVsRestClassifier to keep applying a one-versus-rest scheme.\n",
      "  warnings.warn(\n",
      "d:\\Docs\\Faculdade\\7o periodo\\SI\\projeto\\cod\\venv\\Lib\\site-packages\\sklearn\\feature_extraction\\text.py:517: UserWarning: The parameter 'token_pattern' will not be used since 'tokenizer' is not None'\n",
      "  warnings.warn(\n",
      "d:\\Docs\\Faculdade\\7o periodo\\SI\\projeto\\cod\\venv\\Lib\\site-packages\\sklearn\\linear_model\\_logistic.py:1288: FutureWarning: Using the 'liblinear' solver for multiclass classification is deprecated. An error will be raised in 1.8. Either use another solver which supports the multinomial loss or wrap the estimator in a OneVsRestClassifier to keep applying a one-versus-rest scheme.\n",
      "  warnings.warn(\n"
     ]
    },
    {
     "name": "stdout",
     "output_type": "stream",
     "text": [
      "************************************************************************************************************************************\n",
      "Modelo: Pipeline(steps=[('TfidfVectorizer',\n",
      "                 TfidfVectorizer(tokenizer=<bound method TweetTokenizer.tokenize of <nltk.tokenize.casual.TweetTokenizer object at 0x00000182F6ED2270>>)),\n",
      "                ('modelo', LogisticRegression(solver='liblinear'))])\n",
      "\n",
      "AVALIANDO MODELO\n",
      "\n",
      "Relatório de Classificação:\n",
      "               precision    recall  f1-score   support\n",
      "\n",
      "    Negativo       0.82      0.93      0.87       156\n",
      "      Neutro       0.90      0.70      0.79       189\n",
      "    Positivo       0.81      0.92      0.86       160\n",
      "\n",
      "    accuracy                           0.84       505\n",
      "   macro avg       0.84      0.85      0.84       505\n",
      "weighted avg       0.85      0.84      0.84       505\n",
      "\n",
      "Acurácia: {:.4f}\n",
      " 0.8415841584158416\n",
      "Matriz de Confusão:\n",
      " Predito   Negativo  Neutro  Positivo  All\n",
      "Real                                     \n",
      "Negativo       145       6         5  156\n",
      "Neutro          27     133        29  189\n",
      "Positivo         4       9       147  160\n",
      "All            176     148       181  505 \n"
     ]
    },
    {
     "data": {
      "image/png": "[encoded data removed]",
      "text/plain": [
       "<Figure size 640x480 with 1 Axes>"
      ]
     },
     "metadata": {},
     "output_type": "display_data"
    },
    {
     "name": "stdout",
     "output_type": "stream",
     "text": [
      "\n",
      "\n",
      "\n",
      "VALIDAÇÃO CRUZADA\n",
      "\n"
     ]
    },
    {
     "name": "stderr",
     "output_type": "stream",
     "text": [
      "d:\\Docs\\Faculdade\\7o periodo\\SI\\projeto\\cod\\venv\\Lib\\site-packages\\sklearn\\feature_extraction\\text.py:517: UserWarning: The parameter 'token_pattern' will not be used since 'tokenizer' is not None'\n",
      "  warnings.warn(\n",
      "d:\\Docs\\Faculdade\\7o periodo\\SI\\projeto\\cod\\venv\\Lib\\site-packages\\sklearn\\linear_model\\_logistic.py:1288: FutureWarning: Using the 'liblinear' solver for multiclass classification is deprecated. An error will be raised in 1.8. Either use another solver which supports the multinomial loss or wrap the estimator in a OneVsRestClassifier to keep applying a one-versus-rest scheme.\n",
      "  warnings.warn(\n",
      "d:\\Docs\\Faculdade\\7o periodo\\SI\\projeto\\cod\\venv\\Lib\\site-packages\\sklearn\\feature_extraction\\text.py:517: UserWarning: The parameter 'token_pattern' will not be used since 'tokenizer' is not None'\n",
      "  warnings.warn(\n",
      "d:\\Docs\\Faculdade\\7o periodo\\SI\\projeto\\cod\\venv\\Lib\\site-packages\\sklearn\\linear_model\\_logistic.py:1288: FutureWarning: Using the 'liblinear' solver for multiclass classification is deprecated. An error will be raised in 1.8. Either use another solver which supports the multinomial loss or wrap the estimator in a OneVsRestClassifier to keep applying a one-versus-rest scheme.\n",
      "  warnings.warn(\n",
      "d:\\Docs\\Faculdade\\7o periodo\\SI\\projeto\\cod\\venv\\Lib\\site-packages\\sklearn\\feature_extraction\\text.py:517: UserWarning: The parameter 'token_pattern' will not be used since 'tokenizer' is not None'\n",
      "  warnings.warn(\n",
      "d:\\Docs\\Faculdade\\7o periodo\\SI\\projeto\\cod\\venv\\Lib\\site-packages\\sklearn\\linear_model\\_logistic.py:1288: FutureWarning: Using the 'liblinear' solver for multiclass classification is deprecated. An error will be raised in 1.8. Either use another solver which supports the multinomial loss or wrap the estimator in a OneVsRestClassifier to keep applying a one-versus-rest scheme.\n",
      "  warnings.warn(\n",
      "d:\\Docs\\Faculdade\\7o periodo\\SI\\projeto\\cod\\venv\\Lib\\site-packages\\sklearn\\feature_extraction\\text.py:517: UserWarning: The parameter 'token_pattern' will not be used since 'tokenizer' is not None'\n",
      "  warnings.warn(\n",
      "d:\\Docs\\Faculdade\\7o periodo\\SI\\projeto\\cod\\venv\\Lib\\site-packages\\sklearn\\linear_model\\_logistic.py:1288: FutureWarning: Using the 'liblinear' solver for multiclass classification is deprecated. An error will be raised in 1.8. Either use another solver which supports the multinomial loss or wrap the estimator in a OneVsRestClassifier to keep applying a one-versus-rest scheme.\n",
      "  warnings.warn(\n",
      "d:\\Docs\\Faculdade\\7o periodo\\SI\\projeto\\cod\\venv\\Lib\\site-packages\\sklearn\\feature_extraction\\text.py:517: UserWarning: The parameter 'token_pattern' will not be used since 'tokenizer' is not None'\n",
      "  warnings.warn(\n",
      "d:\\Docs\\Faculdade\\7o periodo\\SI\\projeto\\cod\\venv\\Lib\\site-packages\\sklearn\\linear_model\\_logistic.py:1288: FutureWarning: Using the 'liblinear' solver for multiclass classification is deprecated. An error will be raised in 1.8. Either use another solver which supports the multinomial loss or wrap the estimator in a OneVsRestClassifier to keep applying a one-versus-rest scheme.\n",
      "  warnings.warn(\n",
      "d:\\Docs\\Faculdade\\7o periodo\\SI\\projeto\\cod\\venv\\Lib\\site-packages\\sklearn\\feature_extraction\\text.py:517: UserWarning: The parameter 'token_pattern' will not be used since 'tokenizer' is not None'\n",
      "  warnings.warn(\n",
      "d:\\Docs\\Faculdade\\7o periodo\\SI\\projeto\\cod\\venv\\Lib\\site-packages\\sklearn\\linear_model\\_logistic.py:1288: FutureWarning: Using the 'liblinear' solver for multiclass classification is deprecated. An error will be raised in 1.8. Either use another solver which supports the multinomial loss or wrap the estimator in a OneVsRestClassifier to keep applying a one-versus-rest scheme.\n",
      "  warnings.warn(\n",
      "d:\\Docs\\Faculdade\\7o periodo\\SI\\projeto\\cod\\venv\\Lib\\site-packages\\sklearn\\feature_extraction\\text.py:517: UserWarning: The parameter 'token_pattern' will not be used since 'tokenizer' is not None'\n",
      "  warnings.warn(\n",
      "d:\\Docs\\Faculdade\\7o periodo\\SI\\projeto\\cod\\venv\\Lib\\site-packages\\sklearn\\linear_model\\_logistic.py:1288: FutureWarning: Using the 'liblinear' solver for multiclass classification is deprecated. An error will be raised in 1.8. Either use another solver which supports the multinomial loss or wrap the estimator in a OneVsRestClassifier to keep applying a one-versus-rest scheme.\n",
      "  warnings.warn(\n",
      "d:\\Docs\\Faculdade\\7o periodo\\SI\\projeto\\cod\\venv\\Lib\\site-packages\\sklearn\\feature_extraction\\text.py:517: UserWarning: The parameter 'token_pattern' will not be used since 'tokenizer' is not None'\n",
      "  warnings.warn(\n",
      "d:\\Docs\\Faculdade\\7o periodo\\SI\\projeto\\cod\\venv\\Lib\\site-packages\\sklearn\\linear_model\\_logistic.py:1288: FutureWarning: Using the 'liblinear' solver for multiclass classification is deprecated. An error will be raised in 1.8. Either use another solver which supports the multinomial loss or wrap the estimator in a OneVsRestClassifier to keep applying a one-versus-rest scheme.\n",
      "  warnings.warn(\n",
      "d:\\Docs\\Faculdade\\7o periodo\\SI\\projeto\\cod\\venv\\Lib\\site-packages\\sklearn\\feature_extraction\\text.py:517: UserWarning: The parameter 'token_pattern' will not be used since 'tokenizer' is not None'\n",
      "  warnings.warn(\n",
      "d:\\Docs\\Faculdade\\7o periodo\\SI\\projeto\\cod\\venv\\Lib\\site-packages\\sklearn\\linear_model\\_logistic.py:1288: FutureWarning: Using the 'liblinear' solver for multiclass classification is deprecated. An error will be raised in 1.8. Either use another solver which supports the multinomial loss or wrap the estimator in a OneVsRestClassifier to keep applying a one-versus-rest scheme.\n",
      "  warnings.warn(\n",
      "d:\\Docs\\Faculdade\\7o periodo\\SI\\projeto\\cod\\venv\\Lib\\site-packages\\sklearn\\feature_extraction\\text.py:517: UserWarning: The parameter 'token_pattern' will not be used since 'tokenizer' is not None'\n",
      "  warnings.warn(\n",
      "d:\\Docs\\Faculdade\\7o periodo\\SI\\projeto\\cod\\venv\\Lib\\site-packages\\sklearn\\linear_model\\_logistic.py:1288: FutureWarning: Using the 'liblinear' solver for multiclass classification is deprecated. An error will be raised in 1.8. Either use another solver which supports the multinomial loss or wrap the estimator in a OneVsRestClassifier to keep applying a one-versus-rest scheme.\n",
      "  warnings.warn(\n",
      "d:\\Docs\\Faculdade\\7o periodo\\SI\\projeto\\cod\\venv\\Lib\\site-packages\\sklearn\\feature_extraction\\text.py:517: UserWarning: The parameter 'token_pattern' will not be used since 'tokenizer' is not None'\n",
      "  warnings.warn(\n"
     ]
    },
    {
     "name": "stdout",
     "output_type": "stream",
     "text": [
      "************************************************************************************************************************************\n",
      "Modelo: Pipeline(steps=[('countVectorizer',\n",
      "                 CountVectorizer(tokenizer=<bound method TweetTokenizer.tokenize of <nltk.tokenize.casual.TweetTokenizer object at 0x00000182F6ED2270>>)),\n",
      "                ('modelo', PassiveAggressiveClassifier())])\n",
      "\n",
      "AVALIANDO MODELO\n",
      "\n",
      "Relatório de Classificação:\n",
      "               precision    recall  f1-score   support\n",
      "\n",
      "    Negativo       0.87      0.93      0.90       156\n",
      "      Neutro       0.90      0.78      0.84       189\n",
      "    Positivo       0.87      0.94      0.90       160\n",
      "\n",
      "    accuracy                           0.88       505\n",
      "   macro avg       0.88      0.88      0.88       505\n",
      "weighted avg       0.88      0.88      0.88       505\n",
      "\n",
      "Acurácia: {:.4f}\n",
      " 0.8772277227722772\n",
      "Matriz de Confusão:\n",
      " Predito   Negativo  Neutro  Positivo  All\n",
      "Real                                     \n",
      "Negativo       145       8         3  156\n",
      "Neutro          21     148        20  189\n",
      "Positivo         1       9       150  160\n",
      "All            167     165       173  505 \n"
     ]
    },
    {
     "data": {
      "image/png": "[encoded data removed]",
      "text/plain": [
       "<Figure size 640x480 with 1 Axes>"
      ]
     },
     "metadata": {},
     "output_type": "display_data"
    },
    {
     "name": "stdout",
     "output_type": "stream",
     "text": [
      "\n",
      "\n",
      "\n",
      "VALIDAÇÃO CRUZADA\n",
      "\n"
     ]
    },
    {
     "name": "stderr",
     "output_type": "stream",
     "text": [
      "d:\\Docs\\Faculdade\\7o periodo\\SI\\projeto\\cod\\venv\\Lib\\site-packages\\sklearn\\feature_extraction\\text.py:517: UserWarning: The parameter 'token_pattern' will not be used since 'tokenizer' is not None'\n",
      "  warnings.warn(\n",
      "d:\\Docs\\Faculdade\\7o periodo\\SI\\projeto\\cod\\venv\\Lib\\site-packages\\sklearn\\feature_extraction\\text.py:517: UserWarning: The parameter 'token_pattern' will not be used since 'tokenizer' is not None'\n",
      "  warnings.warn(\n",
      "d:\\Docs\\Faculdade\\7o periodo\\SI\\projeto\\cod\\venv\\Lib\\site-packages\\sklearn\\feature_extraction\\text.py:517: UserWarning: The parameter 'token_pattern' will not be used since 'tokenizer' is not None'\n",
      "  warnings.warn(\n",
      "d:\\Docs\\Faculdade\\7o periodo\\SI\\projeto\\cod\\venv\\Lib\\site-packages\\sklearn\\feature_extraction\\text.py:517: UserWarning: The parameter 'token_pattern' will not be used since 'tokenizer' is not None'\n",
      "  warnings.warn(\n",
      "d:\\Docs\\Faculdade\\7o periodo\\SI\\projeto\\cod\\venv\\Lib\\site-packages\\sklearn\\feature_extraction\\text.py:517: UserWarning: The parameter 'token_pattern' will not be used since 'tokenizer' is not None'\n",
      "  warnings.warn(\n",
      "d:\\Docs\\Faculdade\\7o periodo\\SI\\projeto\\cod\\venv\\Lib\\site-packages\\sklearn\\feature_extraction\\text.py:517: UserWarning: The parameter 'token_pattern' will not be used since 'tokenizer' is not None'\n",
      "  warnings.warn(\n",
      "d:\\Docs\\Faculdade\\7o periodo\\SI\\projeto\\cod\\venv\\Lib\\site-packages\\sklearn\\feature_extraction\\text.py:517: UserWarning: The parameter 'token_pattern' will not be used since 'tokenizer' is not None'\n",
      "  warnings.warn(\n",
      "d:\\Docs\\Faculdade\\7o periodo\\SI\\projeto\\cod\\venv\\Lib\\site-packages\\sklearn\\feature_extraction\\text.py:517: UserWarning: The parameter 'token_pattern' will not be used since 'tokenizer' is not None'\n",
      "  warnings.warn(\n",
      "d:\\Docs\\Faculdade\\7o periodo\\SI\\projeto\\cod\\venv\\Lib\\site-packages\\sklearn\\feature_extraction\\text.py:517: UserWarning: The parameter 'token_pattern' will not be used since 'tokenizer' is not None'\n",
      "  warnings.warn(\n",
      "d:\\Docs\\Faculdade\\7o periodo\\SI\\projeto\\cod\\venv\\Lib\\site-packages\\sklearn\\feature_extraction\\text.py:517: UserWarning: The parameter 'token_pattern' will not be used since 'tokenizer' is not None'\n",
      "  warnings.warn(\n",
      "d:\\Docs\\Faculdade\\7o periodo\\SI\\projeto\\cod\\venv\\Lib\\site-packages\\sklearn\\feature_extraction\\text.py:517: UserWarning: The parameter 'token_pattern' will not be used since 'tokenizer' is not None'\n",
      "  warnings.warn(\n"
     ]
    },
    {
     "name": "stdout",
     "output_type": "stream",
     "text": [
      "************************************************************************************************************************************\n",
      "Modelo: Pipeline(steps=[('TfidfVectorizer',\n",
      "                 TfidfVectorizer(tokenizer=<bound method TweetTokenizer.tokenize of <nltk.tokenize.casual.TweetTokenizer object at 0x00000182F6ED2270>>)),\n",
      "                ('modelo', PassiveAggressiveClassifier())])\n",
      "\n",
      "AVALIANDO MODELO\n",
      "\n",
      "Relatório de Classificação:\n",
      "               precision    recall  f1-score   support\n",
      "\n",
      "    Negativo       0.87      0.95      0.91       156\n",
      "      Neutro       0.93      0.77      0.84       189\n",
      "    Positivo       0.86      0.96      0.91       160\n",
      "\n",
      "    accuracy                           0.89       505\n",
      "   macro avg       0.89      0.89      0.89       505\n",
      "weighted avg       0.89      0.89      0.88       505\n",
      "\n",
      "Acurácia: {:.4f}\n",
      " 0.8851485148514852\n",
      "Matriz de Confusão:\n",
      " Predito   Negativo  Neutro  Positivo  All\n",
      "Real                                     \n",
      "Negativo       148       5         3  156\n",
      "Neutro          22     146        21  189\n",
      "Positivo         1       6       153  160\n",
      "All            171     157       177  505 \n"
     ]
    },
    {
     "data": {
      "image/png": "[encoded data removed]",
      "text/plain": [
       "<Figure size 640x480 with 1 Axes>"
      ]
     },
     "metadata": {},
     "output_type": "display_data"
    },
    {
     "name": "stdout",
     "output_type": "stream",
     "text": [
      "\n",
      "\n",
      "\n",
      "VALIDAÇÃO CRUZADA\n",
      "\n"
     ]
    },
    {
     "name": "stderr",
     "output_type": "stream",
     "text": [
      "d:\\Docs\\Faculdade\\7o periodo\\SI\\projeto\\cod\\venv\\Lib\\site-packages\\sklearn\\feature_extraction\\text.py:517: UserWarning: The parameter 'token_pattern' will not be used since 'tokenizer' is not None'\n",
      "  warnings.warn(\n",
      "d:\\Docs\\Faculdade\\7o periodo\\SI\\projeto\\cod\\venv\\Lib\\site-packages\\sklearn\\feature_extraction\\text.py:517: UserWarning: The parameter 'token_pattern' will not be used since 'tokenizer' is not None'\n",
      "  warnings.warn(\n",
      "d:\\Docs\\Faculdade\\7o periodo\\SI\\projeto\\cod\\venv\\Lib\\site-packages\\sklearn\\feature_extraction\\text.py:517: UserWarning: The parameter 'token_pattern' will not be used since 'tokenizer' is not None'\n",
      "  warnings.warn(\n",
      "d:\\Docs\\Faculdade\\7o periodo\\SI\\projeto\\cod\\venv\\Lib\\site-packages\\sklearn\\feature_extraction\\text.py:517: UserWarning: The parameter 'token_pattern' will not be used since 'tokenizer' is not None'\n",
      "  warnings.warn(\n",
      "d:\\Docs\\Faculdade\\7o periodo\\SI\\projeto\\cod\\venv\\Lib\\site-packages\\sklearn\\feature_extraction\\text.py:517: UserWarning: The parameter 'token_pattern' will not be used since 'tokenizer' is not None'\n",
      "  warnings.warn(\n",
      "d:\\Docs\\Faculdade\\7o periodo\\SI\\projeto\\cod\\venv\\Lib\\site-packages\\sklearn\\feature_extraction\\text.py:517: UserWarning: The parameter 'token_pattern' will not be used since 'tokenizer' is not None'\n",
      "  warnings.warn(\n",
      "d:\\Docs\\Faculdade\\7o periodo\\SI\\projeto\\cod\\venv\\Lib\\site-packages\\sklearn\\feature_extraction\\text.py:517: UserWarning: The parameter 'token_pattern' will not be used since 'tokenizer' is not None'\n",
      "  warnings.warn(\n",
      "d:\\Docs\\Faculdade\\7o periodo\\SI\\projeto\\cod\\venv\\Lib\\site-packages\\sklearn\\feature_extraction\\text.py:517: UserWarning: The parameter 'token_pattern' will not be used since 'tokenizer' is not None'\n",
      "  warnings.warn(\n",
      "d:\\Docs\\Faculdade\\7o periodo\\SI\\projeto\\cod\\venv\\Lib\\site-packages\\sklearn\\feature_extraction\\text.py:517: UserWarning: The parameter 'token_pattern' will not be used since 'tokenizer' is not None'\n",
      "  warnings.warn(\n",
      "d:\\Docs\\Faculdade\\7o periodo\\SI\\projeto\\cod\\venv\\Lib\\site-packages\\sklearn\\feature_extraction\\text.py:517: UserWarning: The parameter 'token_pattern' will not be used since 'tokenizer' is not None'\n",
      "  warnings.warn(\n",
      "d:\\Docs\\Faculdade\\7o periodo\\SI\\projeto\\cod\\venv\\Lib\\site-packages\\sklearn\\feature_extraction\\text.py:517: UserWarning: The parameter 'token_pattern' will not be used since 'tokenizer' is not None'\n",
      "  warnings.warn(\n"
     ]
    },
    {
     "name": "stdout",
     "output_type": "stream",
     "text": [
      "************************************************************************************************************************************\n",
      "Modelo: Pipeline(steps=[('countVectorizer',\n",
      "                 CountVectorizer(tokenizer=<bound method TweetTokenizer.tokenize of <nltk.tokenize.casual.TweetTokenizer object at 0x00000182F6ED2270>>)),\n",
      "                ('modelo', RandomForestClassifier())])\n",
      "\n",
      "AVALIANDO MODELO\n",
      "\n",
      "Relatório de Classificação:\n",
      "               precision    recall  f1-score   support\n",
      "\n",
      "    Negativo       0.90      0.96      0.93       156\n",
      "      Neutro       0.89      0.85      0.87       189\n",
      "    Positivo       0.92      0.91      0.91       160\n",
      "\n",
      "    accuracy                           0.90       505\n",
      "   macro avg       0.90      0.90      0.90       505\n",
      "weighted avg       0.90      0.90      0.90       505\n",
      "\n",
      "Acurácia: {:.4f}\n",
      " 0.900990099009901\n",
      "Matriz de Confusão:\n",
      " Predito   Negativo  Neutro  Positivo  All\n",
      "Real                                     \n",
      "Negativo       149       6         1  156\n",
      "Neutro          16     161        12  189\n",
      "Positivo         1      14       145  160\n",
      "All            166     181       158  505 \n"
     ]
    },
    {
     "data": {
      "image/png": "[encoded data removed]",
      "text/plain": [
       "<Figure size 640x480 with 1 Axes>"
      ]
     },
     "metadata": {},
     "output_type": "display_data"
    },
    {
     "name": "stdout",
     "output_type": "stream",
     "text": [
      "\n",
      "\n",
      "\n",
      "VALIDAÇÃO CRUZADA\n",
      "\n"
     ]
    },
    {
     "name": "stderr",
     "output_type": "stream",
     "text": [
      "d:\\Docs\\Faculdade\\7o periodo\\SI\\projeto\\cod\\venv\\Lib\\site-packages\\sklearn\\feature_extraction\\text.py:517: UserWarning: The parameter 'token_pattern' will not be used since 'tokenizer' is not None'\n",
      "  warnings.warn(\n",
      "d:\\Docs\\Faculdade\\7o periodo\\SI\\projeto\\cod\\venv\\Lib\\site-packages\\sklearn\\feature_extraction\\text.py:517: UserWarning: The parameter 'token_pattern' will not be used since 'tokenizer' is not None'\n",
      "  warnings.warn(\n",
      "d:\\Docs\\Faculdade\\7o periodo\\SI\\projeto\\cod\\venv\\Lib\\site-packages\\sklearn\\feature_extraction\\text.py:517: UserWarning: The parameter 'token_pattern' will not be used since 'tokenizer' is not None'\n",
      "  warnings.warn(\n",
      "d:\\Docs\\Faculdade\\7o periodo\\SI\\projeto\\cod\\venv\\Lib\\site-packages\\sklearn\\feature_extraction\\text.py:517: UserWarning: The parameter 'token_pattern' will not be used since 'tokenizer' is not None'\n",
      "  warnings.warn(\n",
      "d:\\Docs\\Faculdade\\7o periodo\\SI\\projeto\\cod\\venv\\Lib\\site-packages\\sklearn\\feature_extraction\\text.py:517: UserWarning: The parameter 'token_pattern' will not be used since 'tokenizer' is not None'\n",
      "  warnings.warn(\n",
      "d:\\Docs\\Faculdade\\7o periodo\\SI\\projeto\\cod\\venv\\Lib\\site-packages\\sklearn\\feature_extraction\\text.py:517: UserWarning: The parameter 'token_pattern' will not be used since 'tokenizer' is not None'\n",
      "  warnings.warn(\n",
      "d:\\Docs\\Faculdade\\7o periodo\\SI\\projeto\\cod\\venv\\Lib\\site-packages\\sklearn\\feature_extraction\\text.py:517: UserWarning: The parameter 'token_pattern' will not be used since 'tokenizer' is not None'\n",
      "  warnings.warn(\n",
      "d:\\Docs\\Faculdade\\7o periodo\\SI\\projeto\\cod\\venv\\Lib\\site-packages\\sklearn\\feature_extraction\\text.py:517: UserWarning: The parameter 'token_pattern' will not be used since 'tokenizer' is not None'\n",
      "  warnings.warn(\n",
      "d:\\Docs\\Faculdade\\7o periodo\\SI\\projeto\\cod\\venv\\Lib\\site-packages\\sklearn\\feature_extraction\\text.py:517: UserWarning: The parameter 'token_pattern' will not be used since 'tokenizer' is not None'\n",
      "  warnings.warn(\n",
      "d:\\Docs\\Faculdade\\7o periodo\\SI\\projeto\\cod\\venv\\Lib\\site-packages\\sklearn\\feature_extraction\\text.py:517: UserWarning: The parameter 'token_pattern' will not be used since 'tokenizer' is not None'\n",
      "  warnings.warn(\n",
      "d:\\Docs\\Faculdade\\7o periodo\\SI\\projeto\\cod\\venv\\Lib\\site-packages\\sklearn\\feature_extraction\\text.py:517: UserWarning: The parameter 'token_pattern' will not be used since 'tokenizer' is not None'\n",
      "  warnings.warn(\n"
     ]
    },
    {
     "name": "stdout",
     "output_type": "stream",
     "text": [
      "************************************************************************************************************************************\n",
      "Modelo: Pipeline(steps=[('TfidfVectorizer',\n",
      "                 TfidfVectorizer(tokenizer=<bound method TweetTokenizer.tokenize of <nltk.tokenize.casual.TweetTokenizer object at 0x00000182F6ED2270>>)),\n",
      "                ('modelo', RandomForestClassifier())])\n",
      "\n",
      "AVALIANDO MODELO\n",
      "\n",
      "Relatório de Classificação:\n",
      "               precision    recall  f1-score   support\n",
      "\n",
      "    Negativo       0.95      0.94      0.95       156\n",
      "      Neutro       0.88      0.84      0.86       189\n",
      "    Positivo       0.86      0.92      0.89       160\n",
      "\n",
      "    accuracy                           0.90       505\n",
      "   macro avg       0.90      0.90      0.90       505\n",
      "weighted avg       0.90      0.90      0.90       505\n",
      "\n",
      "Acurácia: {:.4f}\n",
      " 0.897029702970297\n",
      "Matriz de Confusão:\n",
      " Predito   Negativo  Neutro  Positivo  All\n",
      "Real                                     \n",
      "Negativo       147       8         1  156\n",
      "Neutro           8     159        22  189\n",
      "Positivo         0      13       147  160\n",
      "All            155     180       170  505 \n"
     ]
    },
    {
     "data": {
      "image/png": "[encoded data removed]",
      "text/plain": [
       "<Figure size 640x480 with 1 Axes>"
      ]
     },
     "metadata": {},
     "output_type": "display_data"
    },
    {
     "name": "stdout",
     "output_type": "stream",
     "text": [
      "\n",
      "\n",
      "\n",
      "VALIDAÇÃO CRUZADA\n",
      "\n"
     ]
    },
    {
     "name": "stderr",
     "output_type": "stream",
     "text": [
      "d:\\Docs\\Faculdade\\7o periodo\\SI\\projeto\\cod\\venv\\Lib\\site-packages\\sklearn\\feature_extraction\\text.py:517: UserWarning: The parameter 'token_pattern' will not be used since 'tokenizer' is not None'\n",
      "  warnings.warn(\n",
      "d:\\Docs\\Faculdade\\7o periodo\\SI\\projeto\\cod\\venv\\Lib\\site-packages\\sklearn\\feature_extraction\\text.py:517: UserWarning: The parameter 'token_pattern' will not be used since 'tokenizer' is not None'\n",
      "  warnings.warn(\n",
      "d:\\Docs\\Faculdade\\7o periodo\\SI\\projeto\\cod\\venv\\Lib\\site-packages\\sklearn\\feature_extraction\\text.py:517: UserWarning: The parameter 'token_pattern' will not be used since 'tokenizer' is not None'\n",
      "  warnings.warn(\n",
      "d:\\Docs\\Faculdade\\7o periodo\\SI\\projeto\\cod\\venv\\Lib\\site-packages\\sklearn\\feature_extraction\\text.py:517: UserWarning: The parameter 'token_pattern' will not be used since 'tokenizer' is not None'\n",
      "  warnings.warn(\n",
      "d:\\Docs\\Faculdade\\7o periodo\\SI\\projeto\\cod\\venv\\Lib\\site-packages\\sklearn\\feature_extraction\\text.py:517: UserWarning: The parameter 'token_pattern' will not be used since 'tokenizer' is not None'\n",
      "  warnings.warn(\n",
      "d:\\Docs\\Faculdade\\7o periodo\\SI\\projeto\\cod\\venv\\Lib\\site-packages\\sklearn\\feature_extraction\\text.py:517: UserWarning: The parameter 'token_pattern' will not be used since 'tokenizer' is not None'\n",
      "  warnings.warn(\n",
      "d:\\Docs\\Faculdade\\7o periodo\\SI\\projeto\\cod\\venv\\Lib\\site-packages\\sklearn\\feature_extraction\\text.py:517: UserWarning: The parameter 'token_pattern' will not be used since 'tokenizer' is not None'\n",
      "  warnings.warn(\n",
      "d:\\Docs\\Faculdade\\7o periodo\\SI\\projeto\\cod\\venv\\Lib\\site-packages\\sklearn\\feature_extraction\\text.py:517: UserWarning: The parameter 'token_pattern' will not be used since 'tokenizer' is not None'\n",
      "  warnings.warn(\n",
      "d:\\Docs\\Faculdade\\7o periodo\\SI\\projeto\\cod\\venv\\Lib\\site-packages\\sklearn\\feature_extraction\\text.py:517: UserWarning: The parameter 'token_pattern' will not be used since 'tokenizer' is not None'\n",
      "  warnings.warn(\n",
      "d:\\Docs\\Faculdade\\7o periodo\\SI\\projeto\\cod\\venv\\Lib\\site-packages\\sklearn\\feature_extraction\\text.py:517: UserWarning: The parameter 'token_pattern' will not be used since 'tokenizer' is not None'\n",
      "  warnings.warn(\n",
      "d:\\Docs\\Faculdade\\7o periodo\\SI\\projeto\\cod\\venv\\Lib\\site-packages\\sklearn\\feature_extraction\\text.py:517: UserWarning: The parameter 'token_pattern' will not be used since 'tokenizer' is not None'\n",
      "  warnings.warn(\n"
     ]
    },
    {
     "name": "stdout",
     "output_type": "stream",
     "text": [
      "************************************************************************************************************************************\n",
      "Modelo: Pipeline(steps=[('countVectorizer',\n",
      "                 CountVectorizer(tokenizer=<bound method TweetTokenizer.tokenize of <nltk.tokenize.casual.TweetTokenizer object at 0x00000182F6ED2270>>)),\n",
      "                ('modelo', SGDClassifier())])\n",
      "\n",
      "AVALIANDO MODELO\n",
      "\n",
      "Relatório de Classificação:\n",
      "               precision    recall  f1-score   support\n",
      "\n",
      "    Negativo       0.85      0.96      0.90       156\n",
      "      Neutro       0.93      0.73      0.82       189\n",
      "    Positivo       0.85      0.96      0.90       160\n",
      "\n",
      "    accuracy                           0.87       505\n",
      "   macro avg       0.87      0.88      0.87       505\n",
      "weighted avg       0.88      0.87      0.87       505\n",
      "\n",
      "Acurácia: {:.4f}\n",
      " 0.8712871287128713\n",
      "Matriz de Confusão:\n",
      " Predito   Negativo  Neutro  Positivo  All\n",
      "Real                                     \n",
      "Negativo       149       5         2  156\n",
      "Neutro          25     138        26  189\n",
      "Positivo         1       6       153  160\n",
      "All            175     149       181  505 \n"
     ]
    },
    {
     "data": {
      "image/png": "[encoded data removed]",
      "text/plain": [
       "<Figure size 640x480 with 1 Axes>"
      ]
     },
     "metadata": {},
     "output_type": "display_data"
    },
    {
     "name": "stdout",
     "output_type": "stream",
     "text": [
      "\n",
      "\n",
      "\n",
      "VALIDAÇÃO CRUZADA\n",
      "\n"
     ]
    },
    {
     "name": "stderr",
     "output_type": "stream",
     "text": [
      "d:\\Docs\\Faculdade\\7o periodo\\SI\\projeto\\cod\\venv\\Lib\\site-packages\\sklearn\\feature_extraction\\text.py:517: UserWarning: The parameter 'token_pattern' will not be used since 'tokenizer' is not None'\n",
      "  warnings.warn(\n",
      "d:\\Docs\\Faculdade\\7o periodo\\SI\\projeto\\cod\\venv\\Lib\\site-packages\\sklearn\\feature_extraction\\text.py:517: UserWarning: The parameter 'token_pattern' will not be used since 'tokenizer' is not None'\n",
      "  warnings.warn(\n",
      "d:\\Docs\\Faculdade\\7o periodo\\SI\\projeto\\cod\\venv\\Lib\\site-packages\\sklearn\\feature_extraction\\text.py:517: UserWarning: The parameter 'token_pattern' will not be used since 'tokenizer' is not None'\n",
      "  warnings.warn(\n",
      "d:\\Docs\\Faculdade\\7o periodo\\SI\\projeto\\cod\\venv\\Lib\\site-packages\\sklearn\\feature_extraction\\text.py:517: UserWarning: The parameter 'token_pattern' will not be used since 'tokenizer' is not None'\n",
      "  warnings.warn(\n",
      "d:\\Docs\\Faculdade\\7o periodo\\SI\\projeto\\cod\\venv\\Lib\\site-packages\\sklearn\\feature_extraction\\text.py:517: UserWarning: The parameter 'token_pattern' will not be used since 'tokenizer' is not None'\n",
      "  warnings.warn(\n",
      "d:\\Docs\\Faculdade\\7o periodo\\SI\\projeto\\cod\\venv\\Lib\\site-packages\\sklearn\\feature_extraction\\text.py:517: UserWarning: The parameter 'token_pattern' will not be used since 'tokenizer' is not None'\n",
      "  warnings.warn(\n",
      "d:\\Docs\\Faculdade\\7o periodo\\SI\\projeto\\cod\\venv\\Lib\\site-packages\\sklearn\\feature_extraction\\text.py:517: UserWarning: The parameter 'token_pattern' will not be used since 'tokenizer' is not None'\n",
      "  warnings.warn(\n",
      "d:\\Docs\\Faculdade\\7o periodo\\SI\\projeto\\cod\\venv\\Lib\\site-packages\\sklearn\\feature_extraction\\text.py:517: UserWarning: The parameter 'token_pattern' will not be used since 'tokenizer' is not None'\n",
      "  warnings.warn(\n",
      "d:\\Docs\\Faculdade\\7o periodo\\SI\\projeto\\cod\\venv\\Lib\\site-packages\\sklearn\\feature_extraction\\text.py:517: UserWarning: The parameter 'token_pattern' will not be used since 'tokenizer' is not None'\n",
      "  warnings.warn(\n",
      "d:\\Docs\\Faculdade\\7o periodo\\SI\\projeto\\cod\\venv\\Lib\\site-packages\\sklearn\\feature_extraction\\text.py:517: UserWarning: The parameter 'token_pattern' will not be used since 'tokenizer' is not None'\n",
      "  warnings.warn(\n",
      "d:\\Docs\\Faculdade\\7o periodo\\SI\\projeto\\cod\\venv\\Lib\\site-packages\\sklearn\\feature_extraction\\text.py:517: UserWarning: The parameter 'token_pattern' will not be used since 'tokenizer' is not None'\n",
      "  warnings.warn(\n"
     ]
    },
    {
     "name": "stdout",
     "output_type": "stream",
     "text": [
      "************************************************************************************************************************************\n",
      "Modelo: Pipeline(steps=[('TfidfVectorizer',\n",
      "                 TfidfVectorizer(tokenizer=<bound method TweetTokenizer.tokenize of <nltk.tokenize.casual.TweetTokenizer object at 0x00000182F6ED2270>>)),\n",
      "                ('modelo', SGDClassifier())])\n",
      "\n",
      "AVALIANDO MODELO\n",
      "\n",
      "Relatório de Classificação:\n",
      "               precision    recall  f1-score   support\n",
      "\n",
      "    Negativo       0.87      0.95      0.91       156\n",
      "      Neutro       0.93      0.77      0.84       189\n",
      "    Positivo       0.86      0.96      0.91       160\n",
      "\n",
      "    accuracy                           0.89       505\n",
      "   macro avg       0.89      0.89      0.89       505\n",
      "weighted avg       0.89      0.89      0.88       505\n",
      "\n",
      "Acurácia: {:.4f}\n",
      " 0.8851485148514852\n",
      "Matriz de Confusão:\n",
      " Predito   Negativo  Neutro  Positivo  All\n",
      "Real                                     \n",
      "Negativo       148       5         3  156\n",
      "Neutro          22     146        21  189\n",
      "Positivo         1       6       153  160\n",
      "All            171     157       177  505 \n"
     ]
    },
    {
     "data": {
      "image/png": "[encoded data removed]",
      "text/plain": [
       "<Figure size 640x480 with 1 Axes>"
      ]
     },
     "metadata": {},
     "output_type": "display_data"
    },
    {
     "name": "stdout",
     "output_type": "stream",
     "text": [
      "\n",
      "\n",
      "\n",
      "VALIDAÇÃO CRUZADA\n",
      "\n"
     ]
    },
    {
     "name": "stderr",
     "output_type": "stream",
     "text": [
      "d:\\Docs\\Faculdade\\7o periodo\\SI\\projeto\\cod\\venv\\Lib\\site-packages\\sklearn\\feature_extraction\\text.py:517: UserWarning: The parameter 'token_pattern' will not be used since 'tokenizer' is not None'\n",
      "  warnings.warn(\n",
      "d:\\Docs\\Faculdade\\7o periodo\\SI\\projeto\\cod\\venv\\Lib\\site-packages\\sklearn\\feature_extraction\\text.py:517: UserWarning: The parameter 'token_pattern' will not be used since 'tokenizer' is not None'\n",
      "  warnings.warn(\n",
      "d:\\Docs\\Faculdade\\7o periodo\\SI\\projeto\\cod\\venv\\Lib\\site-packages\\sklearn\\feature_extraction\\text.py:517: UserWarning: The parameter 'token_pattern' will not be used since 'tokenizer' is not None'\n",
      "  warnings.warn(\n",
      "d:\\Docs\\Faculdade\\7o periodo\\SI\\projeto\\cod\\venv\\Lib\\site-packages\\sklearn\\feature_extraction\\text.py:517: UserWarning: The parameter 'token_pattern' will not be used since 'tokenizer' is not None'\n",
      "  warnings.warn(\n",
      "d:\\Docs\\Faculdade\\7o periodo\\SI\\projeto\\cod\\venv\\Lib\\site-packages\\sklearn\\feature_extraction\\text.py:517: UserWarning: The parameter 'token_pattern' will not be used since 'tokenizer' is not None'\n",
      "  warnings.warn(\n",
      "d:\\Docs\\Faculdade\\7o periodo\\SI\\projeto\\cod\\venv\\Lib\\site-packages\\sklearn\\feature_extraction\\text.py:517: UserWarning: The parameter 'token_pattern' will not be used since 'tokenizer' is not None'\n",
      "  warnings.warn(\n",
      "d:\\Docs\\Faculdade\\7o periodo\\SI\\projeto\\cod\\venv\\Lib\\site-packages\\sklearn\\feature_extraction\\text.py:517: UserWarning: The parameter 'token_pattern' will not be used since 'tokenizer' is not None'\n",
      "  warnings.warn(\n",
      "d:\\Docs\\Faculdade\\7o periodo\\SI\\projeto\\cod\\venv\\Lib\\site-packages\\sklearn\\feature_extraction\\text.py:517: UserWarning: The parameter 'token_pattern' will not be used since 'tokenizer' is not None'\n",
      "  warnings.warn(\n",
      "d:\\Docs\\Faculdade\\7o periodo\\SI\\projeto\\cod\\venv\\Lib\\site-packages\\sklearn\\feature_extraction\\text.py:517: UserWarning: The parameter 'token_pattern' will not be used since 'tokenizer' is not None'\n",
      "  warnings.warn(\n",
      "d:\\Docs\\Faculdade\\7o periodo\\SI\\projeto\\cod\\venv\\Lib\\site-packages\\sklearn\\feature_extraction\\text.py:517: UserWarning: The parameter 'token_pattern' will not be used since 'tokenizer' is not None'\n",
      "  warnings.warn(\n",
      "d:\\Docs\\Faculdade\\7o periodo\\SI\\projeto\\cod\\venv\\Lib\\site-packages\\sklearn\\feature_extraction\\text.py:517: UserWarning: The parameter 'token_pattern' will not be used since 'tokenizer' is not None'\n",
      "  warnings.warn(\n"
     ]
    },
    {
     "name": "stdout",
     "output_type": "stream",
     "text": [
      "************************************************************************************************************************************\n",
      "Modelo: Pipeline(steps=[('countVectorizer',\n",
      "                 CountVectorizer(tokenizer=<bound method TweetTokenizer.tokenize of <nltk.tokenize.casual.TweetTokenizer object at 0x00000182F6ED2270>>)),\n",
      "                ('modelo', SVC())])\n",
      "\n",
      "AVALIANDO MODELO\n",
      "\n",
      "Relatório de Classificação:\n",
      "               precision    recall  f1-score   support\n",
      "\n",
      "    Negativo       0.90      0.87      0.88       156\n",
      "      Neutro       0.82      0.78      0.80       189\n",
      "    Positivo       0.78      0.86      0.82       160\n",
      "\n",
      "    accuracy                           0.83       505\n",
      "   macro avg       0.84      0.84      0.83       505\n",
      "weighted avg       0.83      0.83      0.83       505\n",
      "\n",
      "Acurácia: {:.4f}\n",
      " 0.8316831683168316\n",
      "Matriz de Confusão:\n",
      " Predito   Negativo  Neutro  Positivo  All\n",
      "Real                                     \n",
      "Negativo       135      11        10  156\n",
      "Neutro          14     147        28  189\n",
      "Positivo         1      21       138  160\n",
      "All            150     179       176  505 \n"
     ]
    },
    {
     "data": {
      "image/png": "[encoded data removed]",
      "text/plain": [
       "<Figure size 640x480 with 1 Axes>"
      ]
     },
     "metadata": {},
     "output_type": "display_data"
    },
    {
     "name": "stdout",
     "output_type": "stream",
     "text": [
      "\n",
      "\n",
      "\n",
      "VALIDAÇÃO CRUZADA\n",
      "\n"
     ]
    },
    {
     "name": "stderr",
     "output_type": "stream",
     "text": [
      "d:\\Docs\\Faculdade\\7o periodo\\SI\\projeto\\cod\\venv\\Lib\\site-packages\\sklearn\\feature_extraction\\text.py:517: UserWarning: The parameter 'token_pattern' will not be used since 'tokenizer' is not None'\n",
      "  warnings.warn(\n",
      "d:\\Docs\\Faculdade\\7o periodo\\SI\\projeto\\cod\\venv\\Lib\\site-packages\\sklearn\\feature_extraction\\text.py:517: UserWarning: The parameter 'token_pattern' will not be used since 'tokenizer' is not None'\n",
      "  warnings.warn(\n",
      "d:\\Docs\\Faculdade\\7o periodo\\SI\\projeto\\cod\\venv\\Lib\\site-packages\\sklearn\\feature_extraction\\text.py:517: UserWarning: The parameter 'token_pattern' will not be used since 'tokenizer' is not None'\n",
      "  warnings.warn(\n",
      "d:\\Docs\\Faculdade\\7o periodo\\SI\\projeto\\cod\\venv\\Lib\\site-packages\\sklearn\\feature_extraction\\text.py:517: UserWarning: The parameter 'token_pattern' will not be used since 'tokenizer' is not None'\n",
      "  warnings.warn(\n",
      "d:\\Docs\\Faculdade\\7o periodo\\SI\\projeto\\cod\\venv\\Lib\\site-packages\\sklearn\\feature_extraction\\text.py:517: UserWarning: The parameter 'token_pattern' will not be used since 'tokenizer' is not None'\n",
      "  warnings.warn(\n",
      "d:\\Docs\\Faculdade\\7o periodo\\SI\\projeto\\cod\\venv\\Lib\\site-packages\\sklearn\\feature_extraction\\text.py:517: UserWarning: The parameter 'token_pattern' will not be used since 'tokenizer' is not None'\n",
      "  warnings.warn(\n",
      "d:\\Docs\\Faculdade\\7o periodo\\SI\\projeto\\cod\\venv\\Lib\\site-packages\\sklearn\\feature_extraction\\text.py:517: UserWarning: The parameter 'token_pattern' will not be used since 'tokenizer' is not None'\n",
      "  warnings.warn(\n",
      "d:\\Docs\\Faculdade\\7o periodo\\SI\\projeto\\cod\\venv\\Lib\\site-packages\\sklearn\\feature_extraction\\text.py:517: UserWarning: The parameter 'token_pattern' will not be used since 'tokenizer' is not None'\n",
      "  warnings.warn(\n",
      "d:\\Docs\\Faculdade\\7o periodo\\SI\\projeto\\cod\\venv\\Lib\\site-packages\\sklearn\\feature_extraction\\text.py:517: UserWarning: The parameter 'token_pattern' will not be used since 'tokenizer' is not None'\n",
      "  warnings.warn(\n",
      "d:\\Docs\\Faculdade\\7o periodo\\SI\\projeto\\cod\\venv\\Lib\\site-packages\\sklearn\\feature_extraction\\text.py:517: UserWarning: The parameter 'token_pattern' will not be used since 'tokenizer' is not None'\n",
      "  warnings.warn(\n",
      "d:\\Docs\\Faculdade\\7o periodo\\SI\\projeto\\cod\\venv\\Lib\\site-packages\\sklearn\\feature_extraction\\text.py:517: UserWarning: The parameter 'token_pattern' will not be used since 'tokenizer' is not None'\n",
      "  warnings.warn(\n"
     ]
    },
    {
     "name": "stdout",
     "output_type": "stream",
     "text": [
      "************************************************************************************************************************************\n",
      "Modelo: Pipeline(steps=[('TfidfVectorizer',\n",
      "                 TfidfVectorizer(tokenizer=<bound method TweetTokenizer.tokenize of <nltk.tokenize.casual.TweetTokenizer object at 0x00000182F6ED2270>>)),\n",
      "                ('modelo', SVC())])\n",
      "\n",
      "AVALIANDO MODELO\n",
      "\n",
      "Relatório de Classificação:\n",
      "               precision    recall  f1-score   support\n",
      "\n",
      "    Negativo       0.94      0.94      0.94       156\n",
      "      Neutro       0.91      0.90      0.91       189\n",
      "    Positivo       0.92      0.94      0.93       160\n",
      "\n",
      "    accuracy                           0.92       505\n",
      "   macro avg       0.93      0.93      0.93       505\n",
      "weighted avg       0.92      0.92      0.92       505\n",
      "\n",
      "Acurácia: {:.4f}\n",
      " 0.9247524752475248\n",
      "Matriz de Confusão:\n",
      " Predito   Negativo  Neutro  Positivo  All\n",
      "Real                                     \n",
      "Negativo       147       7         2  156\n",
      "Neutro           8     170        11  189\n",
      "Positivo         1       9       150  160\n",
      "All            156     186       163  505 \n"
     ]
    },
    {
     "data": {
      "image/png": "[encoded data removed]",
      "text/plain": [
       "<Figure size 640x480 with 1 Axes>"
      ]
     },
     "metadata": {},
     "output_type": "display_data"
    },
    {
     "name": "stdout",
     "output_type": "stream",
     "text": [
      "\n",
      "\n",
      "\n",
      "VALIDAÇÃO CRUZADA\n",
      "\n"
     ]
    },
    {
     "name": "stderr",
     "output_type": "stream",
     "text": [
      "d:\\Docs\\Faculdade\\7o periodo\\SI\\projeto\\cod\\venv\\Lib\\site-packages\\sklearn\\feature_extraction\\text.py:517: UserWarning: The parameter 'token_pattern' will not be used since 'tokenizer' is not None'\n",
      "  warnings.warn(\n",
      "d:\\Docs\\Faculdade\\7o periodo\\SI\\projeto\\cod\\venv\\Lib\\site-packages\\sklearn\\feature_extraction\\text.py:517: UserWarning: The parameter 'token_pattern' will not be used since 'tokenizer' is not None'\n",
      "  warnings.warn(\n",
      "d:\\Docs\\Faculdade\\7o periodo\\SI\\projeto\\cod\\venv\\Lib\\site-packages\\sklearn\\feature_extraction\\text.py:517: UserWarning: The parameter 'token_pattern' will not be used since 'tokenizer' is not None'\n",
      "  warnings.warn(\n",
      "d:\\Docs\\Faculdade\\7o periodo\\SI\\projeto\\cod\\venv\\Lib\\site-packages\\sklearn\\feature_extraction\\text.py:517: UserWarning: The parameter 'token_pattern' will not be used since 'tokenizer' is not None'\n",
      "  warnings.warn(\n",
      "d:\\Docs\\Faculdade\\7o periodo\\SI\\projeto\\cod\\venv\\Lib\\site-packages\\sklearn\\feature_extraction\\text.py:517: UserWarning: The parameter 'token_pattern' will not be used since 'tokenizer' is not None'\n",
      "  warnings.warn(\n",
      "d:\\Docs\\Faculdade\\7o periodo\\SI\\projeto\\cod\\venv\\Lib\\site-packages\\sklearn\\feature_extraction\\text.py:517: UserWarning: The parameter 'token_pattern' will not be used since 'tokenizer' is not None'\n",
      "  warnings.warn(\n",
      "d:\\Docs\\Faculdade\\7o periodo\\SI\\projeto\\cod\\venv\\Lib\\site-packages\\sklearn\\feature_extraction\\text.py:517: UserWarning: The parameter 'token_pattern' will not be used since 'tokenizer' is not None'\n",
      "  warnings.warn(\n",
      "d:\\Docs\\Faculdade\\7o periodo\\SI\\projeto\\cod\\venv\\Lib\\site-packages\\sklearn\\feature_extraction\\text.py:517: UserWarning: The parameter 'token_pattern' will not be used since 'tokenizer' is not None'\n",
      "  warnings.warn(\n",
      "d:\\Docs\\Faculdade\\7o periodo\\SI\\projeto\\cod\\venv\\Lib\\site-packages\\sklearn\\feature_extraction\\text.py:517: UserWarning: The parameter 'token_pattern' will not be used since 'tokenizer' is not None'\n",
      "  warnings.warn(\n",
      "d:\\Docs\\Faculdade\\7o periodo\\SI\\projeto\\cod\\venv\\Lib\\site-packages\\sklearn\\feature_extraction\\text.py:517: UserWarning: The parameter 'token_pattern' will not be used since 'tokenizer' is not None'\n",
      "  warnings.warn(\n"
     ]
    }
   ],
   "source": [
    "relatorios=[]\n",
    "modelos=[]\n",
    "\n",
    "for i in range(1, 11):\n",
    "    tipo_modelo = escolhe_pipeline(i)\n",
    "    nome = str(tipo_modelo)\n",
    "    modelo = tipo_modelo.fit(x_treino, y_treino)\n",
    "    modelo_pred = modelo.predict(x_teste)\n",
    "\n",
    "    relatorios.append(metrics.classification_report(y_teste, modelo_pred, output_dict=True))\n",
    "    modelos.append(nome)\n",
    "\n",
    "    print(\"*\"*132)\n",
    "    print(f'Modelo: {nome}\\n')\n",
    "    print(\"AVALIANDO MODELO\\n\")\n",
    "    matriz_confusao(y_teste, modelo_pred)\n",
    "\n",
    "    print(\"\\nVALIDAÇÃO CRUZADA\\n\")\n",
    "    validacao_cruzada = cross_val_predict(modelo, x, y, cv=10)\n",
    "\n"
   ]
  },
  {
   "cell_type": "code",
   "execution_count": 130,
   "id": "df698dd3",
   "metadata": {},
   "outputs": [],
   "source": [
    "colunas = ['modelo', 'f1_score', 'accuracy_score']\n",
    "relatorio_df = pd.DataFrame(columns=colunas)"
   ]
  },
  {
   "cell_type": "code",
   "execution_count": 131,
   "id": "37b5c20f",
   "metadata": {},
   "outputs": [],
   "source": [
    "for i in range(len(relatorios)):\n",
    "    relatorio_df.loc[i] = [modelos[i], round(relatorios[i]['weighted avg']['f1-score'], 2), round(relatorios[i]['accuracy'], 2)]"
   ]
  },
  {
   "cell_type": "code",
   "execution_count": 132,
   "id": "1fe88890",
   "metadata": {},
   "outputs": [],
   "source": [
    "def formatar_nome_modelo(modelo):\n",
    "    vec = modelo[18:33]\n",
    "\n",
    "    ini_nome = (modelo.rfind('modelo')+9)\n",
    "    fim_nome = (modelo.rfind('('))\n",
    "\n",
    "    classif = modelo[ini_nome: fim_nome]\n",
    "    return(f'{classif} - {vec}')"
   ]
  },
  {
   "cell_type": "code",
   "execution_count": 133,
   "id": "77caba1f",
   "metadata": {},
   "outputs": [
    {
     "data": {
      "text/html": [
       "<div>\n",
       "<style scoped>\n",
       "    .dataframe tbody tr th:only-of-type {\n",
       "        vertical-align: middle;\n",
       "    }\n",
       "\n",
       "    .dataframe tbody tr th {\n",
       "        vertical-align: top;\n",
       "    }\n",
       "\n",
       "    .dataframe thead th {\n",
       "        text-align: right;\n",
       "    }\n",
       "</style>\n",
       "<table border=\"1\" class=\"dataframe\">\n",
       "  <thead>\n",
       "    <tr style=\"text-align: right;\">\n",
       "      <th></th>\n",
       "      <th>modelo</th>\n",
       "      <th>f1_score</th>\n",
       "      <th>accuracy_score</th>\n",
       "    </tr>\n",
       "  </thead>\n",
       "  <tbody>\n",
       "    <tr>\n",
       "      <th>9</th>\n",
       "      <td>SVC - TfidfVectorizer</td>\n",
       "      <td>0.92</td>\n",
       "      <td>0.92</td>\n",
       "    </tr>\n",
       "    <tr>\n",
       "      <th>5</th>\n",
       "      <td>RandomForestClassifier - TfidfVectorizer</td>\n",
       "      <td>0.90</td>\n",
       "      <td>0.90</td>\n",
       "    </tr>\n",
       "    <tr>\n",
       "      <th>4</th>\n",
       "      <td>RandomForestClassifier - countVectorizer</td>\n",
       "      <td>0.90</td>\n",
       "      <td>0.90</td>\n",
       "    </tr>\n",
       "    <tr>\n",
       "      <th>3</th>\n",
       "      <td>PassiveAggressiveClassifier - TfidfVectorizer</td>\n",
       "      <td>0.88</td>\n",
       "      <td>0.89</td>\n",
       "    </tr>\n",
       "    <tr>\n",
       "      <th>7</th>\n",
       "      <td>SGDClassifier - TfidfVectorizer</td>\n",
       "      <td>0.88</td>\n",
       "      <td>0.89</td>\n",
       "    </tr>\n",
       "    <tr>\n",
       "      <th>2</th>\n",
       "      <td>PassiveAggressiveClassifier - countVectorizer</td>\n",
       "      <td>0.88</td>\n",
       "      <td>0.88</td>\n",
       "    </tr>\n",
       "    <tr>\n",
       "      <th>6</th>\n",
       "      <td>SGDClassifier - countVectorizer</td>\n",
       "      <td>0.87</td>\n",
       "      <td>0.87</td>\n",
       "    </tr>\n",
       "    <tr>\n",
       "      <th>0</th>\n",
       "      <td>LogisticRegression - countVectorizer</td>\n",
       "      <td>0.87</td>\n",
       "      <td>0.87</td>\n",
       "    </tr>\n",
       "    <tr>\n",
       "      <th>1</th>\n",
       "      <td>LogisticRegression - TfidfVectorizer</td>\n",
       "      <td>0.84</td>\n",
       "      <td>0.84</td>\n",
       "    </tr>\n",
       "    <tr>\n",
       "      <th>8</th>\n",
       "      <td>SVC - countVectorizer</td>\n",
       "      <td>0.83</td>\n",
       "      <td>0.83</td>\n",
       "    </tr>\n",
       "  </tbody>\n",
       "</table>\n",
       "</div>"
      ],
      "text/plain": [
       "                                          modelo  f1_score  accuracy_score\n",
       "9                          SVC - TfidfVectorizer      0.92            0.92\n",
       "5       RandomForestClassifier - TfidfVectorizer      0.90            0.90\n",
       "4       RandomForestClassifier - countVectorizer      0.90            0.90\n",
       "3  PassiveAggressiveClassifier - TfidfVectorizer      0.88            0.89\n",
       "7                SGDClassifier - TfidfVectorizer      0.88            0.89\n",
       "2  PassiveAggressiveClassifier - countVectorizer      0.88            0.88\n",
       "6                SGDClassifier - countVectorizer      0.87            0.87\n",
       "0           LogisticRegression - countVectorizer      0.87            0.87\n",
       "1           LogisticRegression - TfidfVectorizer      0.84            0.84\n",
       "8                          SVC - countVectorizer      0.83            0.83"
      ]
     },
     "execution_count": 133,
     "metadata": {},
     "output_type": "execute_result"
    }
   ],
   "source": [
    "relatorio_df['modelo'] = relatorio_df['modelo'].apply(formatar_nome_modelo)\n",
    "relatorio_df.sort_values(by='accuracy_score', ascending=False)"
   ]
  }
 ],
 "metadata": {
  "kernelspec": {
   "display_name": "venv",
   "language": "python",
   "name": "python3"
  },
  "language_info": {
   "codemirror_mode": {
    "name": "ipython",
    "version": 3
   },
   "file_extension": ".py",
   "mimetype": "text/x-python",
   "name": "python",
   "nbconvert_exporter": "python",
   "pygments_lexer": "ipython3",
   "version": "3.13.3"
  }
 },
 "nbformat": 4,
 "nbformat_minor": 5
}
